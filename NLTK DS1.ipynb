{
 "cells": [
  {
   "cell_type": "code",
   "execution_count": 3,
   "metadata": {
    "pycharm": {
     "name": "#%%\n"
    }
   },
   "outputs": [],
   "source": [
    "import pandas as pd"
   ]
  },
  {
   "cell_type": "code",
   "execution_count": 4,
   "metadata": {
    "pycharm": {
     "name": "#%%\n"
    }
   },
   "outputs": [],
   "source": [
    "course = pd.read_csv(\"./data/archive_1/udemy_course.csv\", encoding=\"utf-8\", index_col=0, sep=\";\")"
   ]
  },
  {
   "cell_type": "code",
   "execution_count": 5,
   "metadata": {
    "pycharm": {
     "name": "#%%\n"
    }
   },
   "outputs": [],
   "source": [
    "course.drop([\"subs\", \"num_reviews\", \"num_lectures\", \"duration\", \"last_update\", \"publish_date\", \"created_date\", \"original_price\", \"discount_price\"], axis=1, inplace=True)"
   ]
  },
  {
   "cell_type": "code",
   "execution_count": 6,
   "metadata": {
    "pycharm": {
     "name": "#%%\n"
    }
   },
   "outputs": [],
   "source": [
    "course.dropna(inplace=True)"
   ]
  },
  {
   "cell_type": "code",
   "execution_count": 11,
   "metadata": {
    "pycharm": {
     "name": "#%%\n"
    }
   },
   "outputs": [
    {
     "data": {
      "text/html": [
       "<div>\n",
       "<style scoped>\n",
       "    .dataframe tbody tr th:only-of-type {\n",
       "        vertical-align: middle;\n",
       "    }\n",
       "\n",
       "    .dataframe tbody tr th {\n",
       "        vertical-align: top;\n",
       "    }\n",
       "\n",
       "    .dataframe thead th {\n",
       "        text-align: right;\n",
       "    }\n",
       "</style>\n",
       "<table border=\"1\" class=\"dataframe\">\n",
       "  <thead>\n",
       "    <tr style=\"text-align: right;\">\n",
       "      <th></th>\n",
       "      <th>course_name</th>\n",
       "      <th>level</th>\n",
       "      <th>label</th>\n",
       "    </tr>\n",
       "    <tr>\n",
       "      <th>course_id</th>\n",
       "      <th></th>\n",
       "      <th></th>\n",
       "      <th></th>\n",
       "    </tr>\n",
       "  </thead>\n",
       "  <tbody>\n",
       "    <tr>\n",
       "      <th>8082</th>\n",
       "      <td>Ruby Programming for Beginners</td>\n",
       "      <td>All Levels</td>\n",
       "      <td>Ruby</td>\n",
       "    </tr>\n",
       "    <tr>\n",
       "      <th>8203</th>\n",
       "      <td>Basic and Advanced HTML Lessons</td>\n",
       "      <td>All Levels</td>\n",
       "      <td>HTML</td>\n",
       "    </tr>\n",
       "    <tr>\n",
       "      <th>8319</th>\n",
       "      <td>Git Basics: In Theory and Practice</td>\n",
       "      <td>All Levels</td>\n",
       "      <td>Git</td>\n",
       "    </tr>\n",
       "    <tr>\n",
       "      <th>8324</th>\n",
       "      <td>Javascript for Beginners</td>\n",
       "      <td>All Levels</td>\n",
       "      <td>JavaScript</td>\n",
       "    </tr>\n",
       "    <tr>\n",
       "      <th>8325</th>\n",
       "      <td>HTML Tutorial: HTML &amp; CSS for Beginners</td>\n",
       "      <td>All Levels</td>\n",
       "      <td>HTML</td>\n",
       "    </tr>\n",
       "    <tr>\n",
       "      <th>8416</th>\n",
       "      <td>Beginners - How To Create iPhone And iPad Apps...</td>\n",
       "      <td>All Levels</td>\n",
       "      <td>iOS Development</td>\n",
       "    </tr>\n",
       "    <tr>\n",
       "      <th>9463</th>\n",
       "      <td>Programming Java for Beginners - The Ultimate ...</td>\n",
       "      <td>All Levels</td>\n",
       "      <td>Java</td>\n",
       "    </tr>\n",
       "    <tr>\n",
       "      <th>10321</th>\n",
       "      <td>Learn to Program with C++</td>\n",
       "      <td>All Levels</td>\n",
       "      <td>C</td>\n",
       "    </tr>\n",
       "    <tr>\n",
       "      <th>10620</th>\n",
       "      <td>Practical Transformation Using XSLT and XPath ...</td>\n",
       "      <td>All Levels</td>\n",
       "      <td>XSLT</td>\n",
       "    </tr>\n",
       "    <tr>\n",
       "      <th>10629</th>\n",
       "      <td>Introduction to Microsoft SQL Server Databases</td>\n",
       "      <td>All Levels</td>\n",
       "      <td>Microsoft SQL</td>\n",
       "    </tr>\n",
       "  </tbody>\n",
       "</table>\n",
       "</div>"
      ],
      "text/plain": [
       "                                                 course_name       level  \\\n",
       "course_id                                                                  \n",
       "8082                          Ruby Programming for Beginners  All Levels   \n",
       "8203                         Basic and Advanced HTML Lessons  All Levels   \n",
       "8319                      Git Basics: In Theory and Practice  All Levels   \n",
       "8324                                Javascript for Beginners  All Levels   \n",
       "8325                 HTML Tutorial: HTML & CSS for Beginners  All Levels   \n",
       "8416       Beginners - How To Create iPhone And iPad Apps...  All Levels   \n",
       "9463       Programming Java for Beginners - The Ultimate ...  All Levels   \n",
       "10321                              Learn to Program with C++  All Levels   \n",
       "10620      Practical Transformation Using XSLT and XPath ...  All Levels   \n",
       "10629         Introduction to Microsoft SQL Server Databases  All Levels   \n",
       "\n",
       "                     label  \n",
       "course_id                   \n",
       "8082                  Ruby  \n",
       "8203                  HTML  \n",
       "8319                   Git  \n",
       "8324            JavaScript  \n",
       "8325                  HTML  \n",
       "8416       iOS Development  \n",
       "9463                  Java  \n",
       "10321                    C  \n",
       "10620                 XSLT  \n",
       "10629        Microsoft SQL  "
      ]
     },
     "execution_count": 11,
     "metadata": {},
     "output_type": "execute_result"
    }
   ],
   "source": [
    "course.head(10)"
   ]
  },
  {
   "cell_type": "code",
   "execution_count": 5,
   "metadata": {
    "pycharm": {
     "name": "#%%\n"
    }
   },
   "outputs": [],
   "source": [
    "from nltk import cluster\n",
    "from nltk.cluster import euclidean_distance"
   ]
  },
  {
   "cell_type": "code",
   "execution_count": 7,
   "metadata": {
    "pycharm": {
     "name": "#%%\n"
    }
   },
   "outputs": [],
   "source": [
    "cls = cluster.KMeansClusterer(200, euclidean_distance)"
   ]
  },
  {
   "cell_type": "code",
   "execution_count": 30,
   "metadata": {
    "pycharm": {
     "name": "#%%\n"
    }
   },
   "outputs": [
    {
     "name": "stdout",
     "output_type": "stream",
     "text": [
      "showing info https://raw.githubusercontent.com/nltk/nltk_data/gh-pages/index.xml\n"
     ]
    },
    {
     "data": {
      "text/plain": [
       "True"
      ]
     },
     "execution_count": 30,
     "metadata": {},
     "output_type": "execute_result"
    }
   ],
   "source": [
    "import nltk\n",
    "nltk.download()"
   ]
  },
  {
   "cell_type": "code",
   "execution_count": 7,
   "metadata": {
    "pycharm": {
     "name": "#%%\n"
    }
   },
   "outputs": [],
   "source": [
    "from nltk.tokenize import word_tokenize"
   ]
  },
  {
   "cell_type": "code",
   "execution_count": 8,
   "metadata": {
    "pycharm": {
     "name": "#%%\n"
    }
   },
   "outputs": [],
   "source": [
    "course['tokenized'] = course['course_name'].apply(word_tokenize)"
   ]
  },
  {
   "cell_type": "code",
   "execution_count": 9,
   "metadata": {
    "pycharm": {
     "name": "#%%\n"
    }
   },
   "outputs": [],
   "source": [
    "course['clean_course_name'] = course['tokenized'].apply(lambda x: \" \".join(x))"
   ]
  },
  {
   "cell_type": "code",
   "execution_count": 10,
   "metadata": {
    "pycharm": {
     "name": "#%%\n"
    }
   },
   "outputs": [
    {
     "data": {
      "text/plain": "                                                 course_name       level  \\\ncourse_id                                                                  \n8082                          Ruby Programming for Beginners  All Levels   \n8203                         Basic and Advanced HTML Lessons  All Levels   \n8319                      Git Basics: In Theory and Practice  All Levels   \n8324                                Javascript for Beginners  All Levels   \n8325                 HTML Tutorial: HTML & CSS for Beginners  All Levels   \n8416       Beginners - How To Create iPhone And iPad Apps...  All Levels   \n9463       Programming Java for Beginners - The Ultimate ...  All Levels   \n10321                              Learn to Program with C++  All Levels   \n10620      Practical Transformation Using XSLT and XPath ...  All Levels   \n10629         Introduction to Microsoft SQL Server Databases  All Levels   \n\n                     label                                          tokenized  \\\ncourse_id                                                                       \n8082                  Ruby                [Ruby, Programming, for, Beginners]   \n8203                  HTML              [Basic, and, Advanced, HTML, Lessons]   \n8319                   Git        [Git, Basics, :, In, Theory, and, Practice]   \n8324            JavaScript                       [Javascript, for, Beginners]   \n8325                  HTML  [HTML, Tutorial, :, HTML, &, CSS, for, Beginners]   \n8416       iOS Development  [Beginners, -, How, To, Create, iPhone, And, i...   \n9463                  Java  [Programming, Java, for, Beginners, -, The, Ul...   \n10321                    C                    [Learn, to, Program, with, C++]   \n10620                 XSLT  [Practical, Transformation, Using, XSLT, and, ...   \n10629        Microsoft SQL  [Introduction, to, Microsoft, SQL, Server, Dat...   \n\n                                           clean_course_name  \ncourse_id                                                     \n8082                          Ruby Programming for Beginners  \n8203                         Basic and Advanced HTML Lessons  \n8319                     Git Basics : In Theory and Practice  \n8324                                Javascript for Beginners  \n8325                HTML Tutorial : HTML & CSS for Beginners  \n8416       Beginners - How To Create iPhone And iPad Apps...  \n9463       Programming Java for Beginners - The Ultimate ...  \n10321                              Learn to Program with C++  \n10620      Practical Transformation Using XSLT and XPath ...  \n10629         Introduction to Microsoft SQL Server Databases  ",
      "text/html": "<div>\n<style scoped>\n    .dataframe tbody tr th:only-of-type {\n        vertical-align: middle;\n    }\n\n    .dataframe tbody tr th {\n        vertical-align: top;\n    }\n\n    .dataframe thead th {\n        text-align: right;\n    }\n</style>\n<table border=\"1\" class=\"dataframe\">\n  <thead>\n    <tr style=\"text-align: right;\">\n      <th></th>\n      <th>course_name</th>\n      <th>level</th>\n      <th>label</th>\n      <th>tokenized</th>\n      <th>clean_course_name</th>\n    </tr>\n    <tr>\n      <th>course_id</th>\n      <th></th>\n      <th></th>\n      <th></th>\n      <th></th>\n      <th></th>\n    </tr>\n  </thead>\n  <tbody>\n    <tr>\n      <th>8082</th>\n      <td>Ruby Programming for Beginners</td>\n      <td>All Levels</td>\n      <td>Ruby</td>\n      <td>[Ruby, Programming, for, Beginners]</td>\n      <td>Ruby Programming for Beginners</td>\n    </tr>\n    <tr>\n      <th>8203</th>\n      <td>Basic and Advanced HTML Lessons</td>\n      <td>All Levels</td>\n      <td>HTML</td>\n      <td>[Basic, and, Advanced, HTML, Lessons]</td>\n      <td>Basic and Advanced HTML Lessons</td>\n    </tr>\n    <tr>\n      <th>8319</th>\n      <td>Git Basics: In Theory and Practice</td>\n      <td>All Levels</td>\n      <td>Git</td>\n      <td>[Git, Basics, :, In, Theory, and, Practice]</td>\n      <td>Git Basics : In Theory and Practice</td>\n    </tr>\n    <tr>\n      <th>8324</th>\n      <td>Javascript for Beginners</td>\n      <td>All Levels</td>\n      <td>JavaScript</td>\n      <td>[Javascript, for, Beginners]</td>\n      <td>Javascript for Beginners</td>\n    </tr>\n    <tr>\n      <th>8325</th>\n      <td>HTML Tutorial: HTML &amp; CSS for Beginners</td>\n      <td>All Levels</td>\n      <td>HTML</td>\n      <td>[HTML, Tutorial, :, HTML, &amp;, CSS, for, Beginners]</td>\n      <td>HTML Tutorial : HTML &amp; CSS for Beginners</td>\n    </tr>\n    <tr>\n      <th>8416</th>\n      <td>Beginners - How To Create iPhone And iPad Apps...</td>\n      <td>All Levels</td>\n      <td>iOS Development</td>\n      <td>[Beginners, -, How, To, Create, iPhone, And, i...</td>\n      <td>Beginners - How To Create iPhone And iPad Apps...</td>\n    </tr>\n    <tr>\n      <th>9463</th>\n      <td>Programming Java for Beginners - The Ultimate ...</td>\n      <td>All Levels</td>\n      <td>Java</td>\n      <td>[Programming, Java, for, Beginners, -, The, Ul...</td>\n      <td>Programming Java for Beginners - The Ultimate ...</td>\n    </tr>\n    <tr>\n      <th>10321</th>\n      <td>Learn to Program with C++</td>\n      <td>All Levels</td>\n      <td>C</td>\n      <td>[Learn, to, Program, with, C++]</td>\n      <td>Learn to Program with C++</td>\n    </tr>\n    <tr>\n      <th>10620</th>\n      <td>Practical Transformation Using XSLT and XPath ...</td>\n      <td>All Levels</td>\n      <td>XSLT</td>\n      <td>[Practical, Transformation, Using, XSLT, and, ...</td>\n      <td>Practical Transformation Using XSLT and XPath ...</td>\n    </tr>\n    <tr>\n      <th>10629</th>\n      <td>Introduction to Microsoft SQL Server Databases</td>\n      <td>All Levels</td>\n      <td>Microsoft SQL</td>\n      <td>[Introduction, to, Microsoft, SQL, Server, Dat...</td>\n      <td>Introduction to Microsoft SQL Server Databases</td>\n    </tr>\n  </tbody>\n</table>\n</div>"
     },
     "execution_count": 10,
     "metadata": {},
     "output_type": "execute_result"
    }
   ],
   "source": [
    "course.head(10)"
   ]
  },
  {
   "cell_type": "code",
   "execution_count": 11,
   "metadata": {
    "pycharm": {
     "name": "#%%\n"
    }
   },
   "outputs": [],
   "source": [
    "from sklearn.feature_extraction.text import HashingVectorizer"
   ]
  },
  {
   "cell_type": "code",
   "execution_count": 13,
   "metadata": {
    "pycharm": {
     "name": "#%%\n"
    }
   },
   "outputs": [],
   "source": [
    "vectorizer = HashingVectorizer(n_features=1000)"
   ]
  },
  {
   "cell_type": "code",
   "execution_count": 14,
   "metadata": {
    "pycharm": {
     "name": "#%%\n"
    }
   },
   "outputs": [
    {
     "data": {
      "text/plain": "HashingVectorizer(n_features=1000)",
      "text/html": "<style>#sk-container-id-1 {color: black;background-color: white;}#sk-container-id-1 pre{padding: 0;}#sk-container-id-1 div.sk-toggleable {background-color: white;}#sk-container-id-1 label.sk-toggleable__label {cursor: pointer;display: block;width: 100%;margin-bottom: 0;padding: 0.3em;box-sizing: border-box;text-align: center;}#sk-container-id-1 label.sk-toggleable__label-arrow:before {content: \"▸\";float: left;margin-right: 0.25em;color: #696969;}#sk-container-id-1 label.sk-toggleable__label-arrow:hover:before {color: black;}#sk-container-id-1 div.sk-estimator:hover label.sk-toggleable__label-arrow:before {color: black;}#sk-container-id-1 div.sk-toggleable__content {max-height: 0;max-width: 0;overflow: hidden;text-align: left;background-color: #f0f8ff;}#sk-container-id-1 div.sk-toggleable__content pre {margin: 0.2em;color: black;border-radius: 0.25em;background-color: #f0f8ff;}#sk-container-id-1 input.sk-toggleable__control:checked~div.sk-toggleable__content {max-height: 200px;max-width: 100%;overflow: auto;}#sk-container-id-1 input.sk-toggleable__control:checked~label.sk-toggleable__label-arrow:before {content: \"▾\";}#sk-container-id-1 div.sk-estimator input.sk-toggleable__control:checked~label.sk-toggleable__label {background-color: #d4ebff;}#sk-container-id-1 div.sk-label input.sk-toggleable__control:checked~label.sk-toggleable__label {background-color: #d4ebff;}#sk-container-id-1 input.sk-hidden--visually {border: 0;clip: rect(1px 1px 1px 1px);clip: rect(1px, 1px, 1px, 1px);height: 1px;margin: -1px;overflow: hidden;padding: 0;position: absolute;width: 1px;}#sk-container-id-1 div.sk-estimator {font-family: monospace;background-color: #f0f8ff;border: 1px dotted black;border-radius: 0.25em;box-sizing: border-box;margin-bottom: 0.5em;}#sk-container-id-1 div.sk-estimator:hover {background-color: #d4ebff;}#sk-container-id-1 div.sk-parallel-item::after {content: \"\";width: 100%;border-bottom: 1px solid gray;flex-grow: 1;}#sk-container-id-1 div.sk-label:hover label.sk-toggleable__label {background-color: #d4ebff;}#sk-container-id-1 div.sk-serial::before {content: \"\";position: absolute;border-left: 1px solid gray;box-sizing: border-box;top: 0;bottom: 0;left: 50%;z-index: 0;}#sk-container-id-1 div.sk-serial {display: flex;flex-direction: column;align-items: center;background-color: white;padding-right: 0.2em;padding-left: 0.2em;position: relative;}#sk-container-id-1 div.sk-item {position: relative;z-index: 1;}#sk-container-id-1 div.sk-parallel {display: flex;align-items: stretch;justify-content: center;background-color: white;position: relative;}#sk-container-id-1 div.sk-item::before, #sk-container-id-1 div.sk-parallel-item::before {content: \"\";position: absolute;border-left: 1px solid gray;box-sizing: border-box;top: 0;bottom: 0;left: 50%;z-index: -1;}#sk-container-id-1 div.sk-parallel-item {display: flex;flex-direction: column;z-index: 1;position: relative;background-color: white;}#sk-container-id-1 div.sk-parallel-item:first-child::after {align-self: flex-end;width: 50%;}#sk-container-id-1 div.sk-parallel-item:last-child::after {align-self: flex-start;width: 50%;}#sk-container-id-1 div.sk-parallel-item:only-child::after {width: 0;}#sk-container-id-1 div.sk-dashed-wrapped {border: 1px dashed gray;margin: 0 0.4em 0.5em 0.4em;box-sizing: border-box;padding-bottom: 0.4em;background-color: white;}#sk-container-id-1 div.sk-label label {font-family: monospace;font-weight: bold;display: inline-block;line-height: 1.2em;}#sk-container-id-1 div.sk-label-container {text-align: center;}#sk-container-id-1 div.sk-container {/* jupyter's `normalize.less` sets `[hidden] { display: none; }` but bootstrap.min.css set `[hidden] { display: none !important; }` so we also need the `!important` here to be able to override the default hidden behavior on the sphinx rendered scikit-learn.org. See: https://github.com/scikit-learn/scikit-learn/issues/21755 */display: inline-block !important;position: relative;}#sk-container-id-1 div.sk-text-repr-fallback {display: none;}</style><div id=\"sk-container-id-1\" class=\"sk-top-container\"><div class=\"sk-text-repr-fallback\"><pre>HashingVectorizer(n_features=1000)</pre><b>In a Jupyter environment, please rerun this cell to show the HTML representation or trust the notebook. <br />On GitHub, the HTML representation is unable to render, please try loading this page with nbviewer.org.</b></div><div class=\"sk-container\" hidden><div class=\"sk-item\"><div class=\"sk-estimator sk-toggleable\"><input class=\"sk-toggleable__control sk-hidden--visually\" id=\"sk-estimator-id-1\" type=\"checkbox\" checked><label for=\"sk-estimator-id-1\" class=\"sk-toggleable__label sk-toggleable__label-arrow\">HashingVectorizer</label><div class=\"sk-toggleable__content\"><pre>HashingVectorizer(n_features=1000)</pre></div></div></div></div></div>"
     },
     "execution_count": 14,
     "metadata": {},
     "output_type": "execute_result"
    }
   ],
   "source": [
    "vectorizer.fit(course['clean_course_name'])"
   ]
  },
  {
   "cell_type": "code",
   "execution_count": 15,
   "metadata": {
    "pycharm": {
     "name": "#%%\n"
    }
   },
   "outputs": [],
   "source": [
    "course_vectors = vectorizer.transform(course['clean_course_name'])"
   ]
  },
  {
   "cell_type": "code",
   "execution_count": 16,
   "metadata": {
    "pycharm": {
     "name": "#%%\n"
    }
   },
   "outputs": [],
   "source": [
    "# import kmeans from scikit\n",
    "from sklearn.cluster import KMeans"
   ]
  },
  {
   "cell_type": "code",
   "execution_count": 17,
   "metadata": {
    "pycharm": {
     "name": "#%%\n"
    }
   },
   "outputs": [],
   "source": [
    "# create a kmeans object with 200 clusters\n",
    "kmeans = KMeans(n_clusters=200)"
   ]
  },
  {
   "cell_type": "code",
   "execution_count": 18,
   "metadata": {
    "pycharm": {
     "name": "#%%\n"
    }
   },
   "outputs": [
    {
     "data": {
      "text/plain": "KMeans(n_clusters=200)",
      "text/html": "<style>#sk-container-id-2 {color: black;background-color: white;}#sk-container-id-2 pre{padding: 0;}#sk-container-id-2 div.sk-toggleable {background-color: white;}#sk-container-id-2 label.sk-toggleable__label {cursor: pointer;display: block;width: 100%;margin-bottom: 0;padding: 0.3em;box-sizing: border-box;text-align: center;}#sk-container-id-2 label.sk-toggleable__label-arrow:before {content: \"▸\";float: left;margin-right: 0.25em;color: #696969;}#sk-container-id-2 label.sk-toggleable__label-arrow:hover:before {color: black;}#sk-container-id-2 div.sk-estimator:hover label.sk-toggleable__label-arrow:before {color: black;}#sk-container-id-2 div.sk-toggleable__content {max-height: 0;max-width: 0;overflow: hidden;text-align: left;background-color: #f0f8ff;}#sk-container-id-2 div.sk-toggleable__content pre {margin: 0.2em;color: black;border-radius: 0.25em;background-color: #f0f8ff;}#sk-container-id-2 input.sk-toggleable__control:checked~div.sk-toggleable__content {max-height: 200px;max-width: 100%;overflow: auto;}#sk-container-id-2 input.sk-toggleable__control:checked~label.sk-toggleable__label-arrow:before {content: \"▾\";}#sk-container-id-2 div.sk-estimator input.sk-toggleable__control:checked~label.sk-toggleable__label {background-color: #d4ebff;}#sk-container-id-2 div.sk-label input.sk-toggleable__control:checked~label.sk-toggleable__label {background-color: #d4ebff;}#sk-container-id-2 input.sk-hidden--visually {border: 0;clip: rect(1px 1px 1px 1px);clip: rect(1px, 1px, 1px, 1px);height: 1px;margin: -1px;overflow: hidden;padding: 0;position: absolute;width: 1px;}#sk-container-id-2 div.sk-estimator {font-family: monospace;background-color: #f0f8ff;border: 1px dotted black;border-radius: 0.25em;box-sizing: border-box;margin-bottom: 0.5em;}#sk-container-id-2 div.sk-estimator:hover {background-color: #d4ebff;}#sk-container-id-2 div.sk-parallel-item::after {content: \"\";width: 100%;border-bottom: 1px solid gray;flex-grow: 1;}#sk-container-id-2 div.sk-label:hover label.sk-toggleable__label {background-color: #d4ebff;}#sk-container-id-2 div.sk-serial::before {content: \"\";position: absolute;border-left: 1px solid gray;box-sizing: border-box;top: 0;bottom: 0;left: 50%;z-index: 0;}#sk-container-id-2 div.sk-serial {display: flex;flex-direction: column;align-items: center;background-color: white;padding-right: 0.2em;padding-left: 0.2em;position: relative;}#sk-container-id-2 div.sk-item {position: relative;z-index: 1;}#sk-container-id-2 div.sk-parallel {display: flex;align-items: stretch;justify-content: center;background-color: white;position: relative;}#sk-container-id-2 div.sk-item::before, #sk-container-id-2 div.sk-parallel-item::before {content: \"\";position: absolute;border-left: 1px solid gray;box-sizing: border-box;top: 0;bottom: 0;left: 50%;z-index: -1;}#sk-container-id-2 div.sk-parallel-item {display: flex;flex-direction: column;z-index: 1;position: relative;background-color: white;}#sk-container-id-2 div.sk-parallel-item:first-child::after {align-self: flex-end;width: 50%;}#sk-container-id-2 div.sk-parallel-item:last-child::after {align-self: flex-start;width: 50%;}#sk-container-id-2 div.sk-parallel-item:only-child::after {width: 0;}#sk-container-id-2 div.sk-dashed-wrapped {border: 1px dashed gray;margin: 0 0.4em 0.5em 0.4em;box-sizing: border-box;padding-bottom: 0.4em;background-color: white;}#sk-container-id-2 div.sk-label label {font-family: monospace;font-weight: bold;display: inline-block;line-height: 1.2em;}#sk-container-id-2 div.sk-label-container {text-align: center;}#sk-container-id-2 div.sk-container {/* jupyter's `normalize.less` sets `[hidden] { display: none; }` but bootstrap.min.css set `[hidden] { display: none !important; }` so we also need the `!important` here to be able to override the default hidden behavior on the sphinx rendered scikit-learn.org. See: https://github.com/scikit-learn/scikit-learn/issues/21755 */display: inline-block !important;position: relative;}#sk-container-id-2 div.sk-text-repr-fallback {display: none;}</style><div id=\"sk-container-id-2\" class=\"sk-top-container\"><div class=\"sk-text-repr-fallback\"><pre>KMeans(n_clusters=200)</pre><b>In a Jupyter environment, please rerun this cell to show the HTML representation or trust the notebook. <br />On GitHub, the HTML representation is unable to render, please try loading this page with nbviewer.org.</b></div><div class=\"sk-container\" hidden><div class=\"sk-item\"><div class=\"sk-estimator sk-toggleable\"><input class=\"sk-toggleable__control sk-hidden--visually\" id=\"sk-estimator-id-2\" type=\"checkbox\" checked><label for=\"sk-estimator-id-2\" class=\"sk-toggleable__label sk-toggleable__label-arrow\">KMeans</label><div class=\"sk-toggleable__content\"><pre>KMeans(n_clusters=200)</pre></div></div></div></div></div>"
     },
     "execution_count": 18,
     "metadata": {},
     "output_type": "execute_result"
    }
   ],
   "source": [
    "# fit the kmeans object to the vectors\n",
    "kmeans.fit(course_vectors)"
   ]
  },
  {
   "cell_type": "code",
   "execution_count": 19,
   "metadata": {
    "pycharm": {
     "name": "#%%\n"
    }
   },
   "outputs": [],
   "source": [
    "course['cluster'] = kmeans.labels_"
   ]
  },
  {
   "cell_type": "code",
   "execution_count": 20,
   "metadata": {
    "pycharm": {
     "name": "#%%\n"
    }
   },
   "outputs": [
    {
     "data": {
      "text/plain": "                                                 course_name       level  \\\ncourse_id                                                                  \n8082                          Ruby Programming for Beginners  All Levels   \n8203                         Basic and Advanced HTML Lessons  All Levels   \n8319                      Git Basics: In Theory and Practice  All Levels   \n8324                                Javascript for Beginners  All Levels   \n8325                 HTML Tutorial: HTML & CSS for Beginners  All Levels   \n8416       Beginners - How To Create iPhone And iPad Apps...  All Levels   \n9463       Programming Java for Beginners - The Ultimate ...  All Levels   \n10321                              Learn to Program with C++  All Levels   \n10620      Practical Transformation Using XSLT and XPath ...  All Levels   \n10629         Introduction to Microsoft SQL Server Databases  All Levels   \n\n                     label                                          tokenized  \\\ncourse_id                                                                       \n8082                  Ruby                [Ruby, Programming, for, Beginners]   \n8203                  HTML              [Basic, and, Advanced, HTML, Lessons]   \n8319                   Git        [Git, Basics, :, In, Theory, and, Practice]   \n8324            JavaScript                       [Javascript, for, Beginners]   \n8325                  HTML  [HTML, Tutorial, :, HTML, &, CSS, for, Beginners]   \n8416       iOS Development  [Beginners, -, How, To, Create, iPhone, And, i...   \n9463                  Java  [Programming, Java, for, Beginners, -, The, Ul...   \n10321                    C                    [Learn, to, Program, with, C++]   \n10620                 XSLT  [Practical, Transformation, Using, XSLT, and, ...   \n10629        Microsoft SQL  [Introduction, to, Microsoft, SQL, Server, Dat...   \n\n                                           clean_course_name  cluster  \ncourse_id                                                              \n8082                          Ruby Programming for Beginners      108  \n8203                         Basic and Advanced HTML Lessons      183  \n8319                     Git Basics : In Theory and Practice       26  \n8324                                Javascript for Beginners      126  \n8325                HTML Tutorial : HTML & CSS for Beginners      112  \n8416       Beginners - How To Create iPhone And iPad Apps...       77  \n9463       Programming Java for Beginners - The Ultimate ...       97  \n10321                              Learn to Program with C++       10  \n10620      Practical Transformation Using XSLT and XPath ...       26  \n10629         Introduction to Microsoft SQL Server Databases      159  ",
      "text/html": "<div>\n<style scoped>\n    .dataframe tbody tr th:only-of-type {\n        vertical-align: middle;\n    }\n\n    .dataframe tbody tr th {\n        vertical-align: top;\n    }\n\n    .dataframe thead th {\n        text-align: right;\n    }\n</style>\n<table border=\"1\" class=\"dataframe\">\n  <thead>\n    <tr style=\"text-align: right;\">\n      <th></th>\n      <th>course_name</th>\n      <th>level</th>\n      <th>label</th>\n      <th>tokenized</th>\n      <th>clean_course_name</th>\n      <th>cluster</th>\n    </tr>\n    <tr>\n      <th>course_id</th>\n      <th></th>\n      <th></th>\n      <th></th>\n      <th></th>\n      <th></th>\n      <th></th>\n    </tr>\n  </thead>\n  <tbody>\n    <tr>\n      <th>8082</th>\n      <td>Ruby Programming for Beginners</td>\n      <td>All Levels</td>\n      <td>Ruby</td>\n      <td>[Ruby, Programming, for, Beginners]</td>\n      <td>Ruby Programming for Beginners</td>\n      <td>108</td>\n    </tr>\n    <tr>\n      <th>8203</th>\n      <td>Basic and Advanced HTML Lessons</td>\n      <td>All Levels</td>\n      <td>HTML</td>\n      <td>[Basic, and, Advanced, HTML, Lessons]</td>\n      <td>Basic and Advanced HTML Lessons</td>\n      <td>183</td>\n    </tr>\n    <tr>\n      <th>8319</th>\n      <td>Git Basics: In Theory and Practice</td>\n      <td>All Levels</td>\n      <td>Git</td>\n      <td>[Git, Basics, :, In, Theory, and, Practice]</td>\n      <td>Git Basics : In Theory and Practice</td>\n      <td>26</td>\n    </tr>\n    <tr>\n      <th>8324</th>\n      <td>Javascript for Beginners</td>\n      <td>All Levels</td>\n      <td>JavaScript</td>\n      <td>[Javascript, for, Beginners]</td>\n      <td>Javascript for Beginners</td>\n      <td>126</td>\n    </tr>\n    <tr>\n      <th>8325</th>\n      <td>HTML Tutorial: HTML &amp; CSS for Beginners</td>\n      <td>All Levels</td>\n      <td>HTML</td>\n      <td>[HTML, Tutorial, :, HTML, &amp;, CSS, for, Beginners]</td>\n      <td>HTML Tutorial : HTML &amp; CSS for Beginners</td>\n      <td>112</td>\n    </tr>\n    <tr>\n      <th>8416</th>\n      <td>Beginners - How To Create iPhone And iPad Apps...</td>\n      <td>All Levels</td>\n      <td>iOS Development</td>\n      <td>[Beginners, -, How, To, Create, iPhone, And, i...</td>\n      <td>Beginners - How To Create iPhone And iPad Apps...</td>\n      <td>77</td>\n    </tr>\n    <tr>\n      <th>9463</th>\n      <td>Programming Java for Beginners - The Ultimate ...</td>\n      <td>All Levels</td>\n      <td>Java</td>\n      <td>[Programming, Java, for, Beginners, -, The, Ul...</td>\n      <td>Programming Java for Beginners - The Ultimate ...</td>\n      <td>97</td>\n    </tr>\n    <tr>\n      <th>10321</th>\n      <td>Learn to Program with C++</td>\n      <td>All Levels</td>\n      <td>C</td>\n      <td>[Learn, to, Program, with, C++]</td>\n      <td>Learn to Program with C++</td>\n      <td>10</td>\n    </tr>\n    <tr>\n      <th>10620</th>\n      <td>Practical Transformation Using XSLT and XPath ...</td>\n      <td>All Levels</td>\n      <td>XSLT</td>\n      <td>[Practical, Transformation, Using, XSLT, and, ...</td>\n      <td>Practical Transformation Using XSLT and XPath ...</td>\n      <td>26</td>\n    </tr>\n    <tr>\n      <th>10629</th>\n      <td>Introduction to Microsoft SQL Server Databases</td>\n      <td>All Levels</td>\n      <td>Microsoft SQL</td>\n      <td>[Introduction, to, Microsoft, SQL, Server, Dat...</td>\n      <td>Introduction to Microsoft SQL Server Databases</td>\n      <td>159</td>\n    </tr>\n  </tbody>\n</table>\n</div>"
     },
     "execution_count": 20,
     "metadata": {},
     "output_type": "execute_result"
    }
   ],
   "source": [
    "course.head(10)"
   ]
  },
  {
   "cell_type": "code",
   "execution_count": 48,
   "metadata": {
    "pycharm": {
     "name": "#%%\n"
    }
   },
   "outputs": [],
   "source": [
    "#metrics\n",
    "from sklearn.metrics import silhouette_score"
   ]
  },
  {
   "cell_type": "code",
   "execution_count": 49,
   "metadata": {
    "pycharm": {
     "name": "#%%\n"
    }
   },
   "outputs": [
    {
     "name": "stdout",
     "output_type": "stream",
     "text": [
      "0.04053522512547443\n"
     ]
    }
   ],
   "source": [
    "print(silhouette_score(course_vectors, kmeans.labels_, metric='euclidean'))"
   ]
  },
  {
   "cell_type": "code",
   "execution_count": 57,
   "metadata": {
    "pycharm": {
     "name": "#%%\n"
    }
   },
   "outputs": [],
   "source": [
    "# predict the cluster for each course\n",
    "course['cluster'] = kmeans.predict(course_vectors)"
   ]
  },
  {
   "cell_type": "code",
   "execution_count": 58,
   "metadata": {
    "pycharm": {
     "name": "#%%\n"
    }
   },
   "outputs": [
    {
     "data": {
      "text/html": [
       "<div>\n",
       "<style scoped>\n",
       "    .dataframe tbody tr th:only-of-type {\n",
       "        vertical-align: middle;\n",
       "    }\n",
       "\n",
       "    .dataframe tbody tr th {\n",
       "        vertical-align: top;\n",
       "    }\n",
       "\n",
       "    .dataframe thead th {\n",
       "        text-align: right;\n",
       "    }\n",
       "</style>\n",
       "<table border=\"1\" class=\"dataframe\">\n",
       "  <thead>\n",
       "    <tr style=\"text-align: right;\">\n",
       "      <th></th>\n",
       "      <th>course_name</th>\n",
       "      <th>level</th>\n",
       "      <th>label</th>\n",
       "      <th>tokenized</th>\n",
       "      <th>clean_course_name</th>\n",
       "      <th>cluster</th>\n",
       "    </tr>\n",
       "    <tr>\n",
       "      <th>course_id</th>\n",
       "      <th></th>\n",
       "      <th></th>\n",
       "      <th></th>\n",
       "      <th></th>\n",
       "      <th></th>\n",
       "      <th></th>\n",
       "    </tr>\n",
       "  </thead>\n",
       "  <tbody>\n",
       "    <tr>\n",
       "      <th>8082</th>\n",
       "      <td>Ruby Programming for Beginners</td>\n",
       "      <td>All Levels</td>\n",
       "      <td>Ruby</td>\n",
       "      <td>[Ruby, Programming, for, Beginners]</td>\n",
       "      <td>Ruby Programming for Beginners</td>\n",
       "      <td>143</td>\n",
       "    </tr>\n",
       "    <tr>\n",
       "      <th>8203</th>\n",
       "      <td>Basic and Advanced HTML Lessons</td>\n",
       "      <td>All Levels</td>\n",
       "      <td>HTML</td>\n",
       "      <td>[Basic, and, Advanced, HTML, Lessons]</td>\n",
       "      <td>Basic and Advanced HTML Lessons</td>\n",
       "      <td>32</td>\n",
       "    </tr>\n",
       "    <tr>\n",
       "      <th>8319</th>\n",
       "      <td>Git Basics: In Theory and Practice</td>\n",
       "      <td>All Levels</td>\n",
       "      <td>Git</td>\n",
       "      <td>[Git, Basics, :, In, Theory, and, Practice]</td>\n",
       "      <td>Git Basics : In Theory and Practice</td>\n",
       "      <td>157</td>\n",
       "    </tr>\n",
       "    <tr>\n",
       "      <th>8324</th>\n",
       "      <td>Javascript for Beginners</td>\n",
       "      <td>All Levels</td>\n",
       "      <td>JavaScript</td>\n",
       "      <td>[Javascript, for, Beginners]</td>\n",
       "      <td>Javascript for Beginners</td>\n",
       "      <td>58</td>\n",
       "    </tr>\n",
       "    <tr>\n",
       "      <th>8325</th>\n",
       "      <td>HTML Tutorial: HTML &amp; CSS for Beginners</td>\n",
       "      <td>All Levels</td>\n",
       "      <td>HTML</td>\n",
       "      <td>[HTML, Tutorial, :, HTML, &amp;, CSS, for, Beginners]</td>\n",
       "      <td>HTML Tutorial : HTML &amp; CSS for Beginners</td>\n",
       "      <td>137</td>\n",
       "    </tr>\n",
       "    <tr>\n",
       "      <th>8416</th>\n",
       "      <td>Beginners - How To Create iPhone And iPad Apps...</td>\n",
       "      <td>All Levels</td>\n",
       "      <td>iOS Development</td>\n",
       "      <td>[Beginners, -, How, To, Create, iPhone, And, i...</td>\n",
       "      <td>Beginners - How To Create iPhone And iPad Apps...</td>\n",
       "      <td>161</td>\n",
       "    </tr>\n",
       "    <tr>\n",
       "      <th>9463</th>\n",
       "      <td>Programming Java for Beginners - The Ultimate ...</td>\n",
       "      <td>All Levels</td>\n",
       "      <td>Java</td>\n",
       "      <td>[Programming, Java, for, Beginners, -, The, Ul...</td>\n",
       "      <td>Programming Java for Beginners - The Ultimate ...</td>\n",
       "      <td>50</td>\n",
       "    </tr>\n",
       "    <tr>\n",
       "      <th>10321</th>\n",
       "      <td>Learn to Program with C++</td>\n",
       "      <td>All Levels</td>\n",
       "      <td>C</td>\n",
       "      <td>[Learn, to, Program, with, C++]</td>\n",
       "      <td>Learn to Program with C++</td>\n",
       "      <td>62</td>\n",
       "    </tr>\n",
       "    <tr>\n",
       "      <th>10620</th>\n",
       "      <td>Practical Transformation Using XSLT and XPath ...</td>\n",
       "      <td>All Levels</td>\n",
       "      <td>XSLT</td>\n",
       "      <td>[Practical, Transformation, Using, XSLT, and, ...</td>\n",
       "      <td>Practical Transformation Using XSLT and XPath ...</td>\n",
       "      <td>113</td>\n",
       "    </tr>\n",
       "    <tr>\n",
       "      <th>10629</th>\n",
       "      <td>Introduction to Microsoft SQL Server Databases</td>\n",
       "      <td>All Levels</td>\n",
       "      <td>Microsoft SQL</td>\n",
       "      <td>[Introduction, to, Microsoft, SQL, Server, Dat...</td>\n",
       "      <td>Introduction to Microsoft SQL Server Databases</td>\n",
       "      <td>57</td>\n",
       "    </tr>\n",
       "  </tbody>\n",
       "</table>\n",
       "</div>"
      ],
      "text/plain": [
       "                                                 course_name       level  \\\n",
       "course_id                                                                  \n",
       "8082                          Ruby Programming for Beginners  All Levels   \n",
       "8203                         Basic and Advanced HTML Lessons  All Levels   \n",
       "8319                      Git Basics: In Theory and Practice  All Levels   \n",
       "8324                                Javascript for Beginners  All Levels   \n",
       "8325                 HTML Tutorial: HTML & CSS for Beginners  All Levels   \n",
       "8416       Beginners - How To Create iPhone And iPad Apps...  All Levels   \n",
       "9463       Programming Java for Beginners - The Ultimate ...  All Levels   \n",
       "10321                              Learn to Program with C++  All Levels   \n",
       "10620      Practical Transformation Using XSLT and XPath ...  All Levels   \n",
       "10629         Introduction to Microsoft SQL Server Databases  All Levels   \n",
       "\n",
       "                     label                                          tokenized  \\\n",
       "course_id                                                                       \n",
       "8082                  Ruby                [Ruby, Programming, for, Beginners]   \n",
       "8203                  HTML              [Basic, and, Advanced, HTML, Lessons]   \n",
       "8319                   Git        [Git, Basics, :, In, Theory, and, Practice]   \n",
       "8324            JavaScript                       [Javascript, for, Beginners]   \n",
       "8325                  HTML  [HTML, Tutorial, :, HTML, &, CSS, for, Beginners]   \n",
       "8416       iOS Development  [Beginners, -, How, To, Create, iPhone, And, i...   \n",
       "9463                  Java  [Programming, Java, for, Beginners, -, The, Ul...   \n",
       "10321                    C                    [Learn, to, Program, with, C++]   \n",
       "10620                 XSLT  [Practical, Transformation, Using, XSLT, and, ...   \n",
       "10629        Microsoft SQL  [Introduction, to, Microsoft, SQL, Server, Dat...   \n",
       "\n",
       "                                           clean_course_name  cluster  \n",
       "course_id                                                              \n",
       "8082                          Ruby Programming for Beginners      143  \n",
       "8203                         Basic and Advanced HTML Lessons       32  \n",
       "8319                     Git Basics : In Theory and Practice      157  \n",
       "8324                                Javascript for Beginners       58  \n",
       "8325                HTML Tutorial : HTML & CSS for Beginners      137  \n",
       "8416       Beginners - How To Create iPhone And iPad Apps...      161  \n",
       "9463       Programming Java for Beginners - The Ultimate ...       50  \n",
       "10321                              Learn to Program with C++       62  \n",
       "10620      Practical Transformation Using XSLT and XPath ...      113  \n",
       "10629         Introduction to Microsoft SQL Server Databases       57  "
      ]
     },
     "execution_count": 58,
     "metadata": {},
     "output_type": "execute_result"
    }
   ],
   "source": [
    "course.head(10)"
   ]
  },
  {
   "cell_type": "code",
   "execution_count": 22,
   "metadata": {
    "pycharm": {
     "name": "#%%\n"
    }
   },
   "outputs": [],
   "source": [
    "#recommendation\n",
    "def recommend(course_name):\n",
    "    course_vector = vectorizer.transform([course_name])\n",
    "    cluster = kmeans.predict(course_vector)[0]\n",
    "    similar_courses = course[course['cluster'] == cluster]\n",
    "    weights = course.groupby('cluster')['cluster'].transform('count')\n",
    "    return similar_courses.sample(n=5, random_state=0, replace=False, weights=weights)"
   ]
  },
  {
   "cell_type": "code",
   "execution_count": 23,
   "metadata": {
    "pycharm": {
     "name": "#%%\n"
    }
   },
   "outputs": [
    {
     "data": {
      "text/plain": "                                                 course_name         level  \\\ncourse_id                                                                    \n1713688    Deploy Machine Learning & NLP Models with Dock...  Intermediate   \n1971462    Microsoft Azure Machine Learning (ML) Fundamen...      Beginner   \n1845106    Artificial Intelligence - TensorFlow Machine L...    All Levels   \n1595828       LEARNING PATH: Statistics for Machine Learning      Beginner   \n1903066    Python Machine Learning Basics: Shallow Learni...      Beginner   \n\n                           label  \\\ncourse_id                          \n1713688                   Docker   \n1971462          Microsoft Azure   \n1845106         Machine Learning   \n1595828         Machine Learning   \n1903066    Recommendation Engine   \n\n                                                   tokenized  \\\ncourse_id                                                      \n1713688    [Deploy, Machine, Learning, &, NLP, Models, wi...   \n1971462    [Microsoft, Azure, Machine, Learning, (, ML, )...   \n1845106    [Artificial, Intelligence, -, TensorFlow, Mach...   \n1595828    [LEARNING, PATH, :, Statistics, for, Machine, ...   \n1903066    [Python, Machine, Learning, Basics, :, Shallow...   \n\n                                           clean_course_name  cluster  \ncourse_id                                                              \n1713688    Deploy Machine Learning & NLP Models with Dock...        4  \n1971462    Microsoft Azure Machine Learning ( ML ) Fundam...        4  \n1845106    Artificial Intelligence - TensorFlow Machine L...        4  \n1595828      LEARNING PATH : Statistics for Machine Learning        4  \n1903066    Python Machine Learning Basics : Shallow Learn...        4  ",
      "text/html": "<div>\n<style scoped>\n    .dataframe tbody tr th:only-of-type {\n        vertical-align: middle;\n    }\n\n    .dataframe tbody tr th {\n        vertical-align: top;\n    }\n\n    .dataframe thead th {\n        text-align: right;\n    }\n</style>\n<table border=\"1\" class=\"dataframe\">\n  <thead>\n    <tr style=\"text-align: right;\">\n      <th></th>\n      <th>course_name</th>\n      <th>level</th>\n      <th>label</th>\n      <th>tokenized</th>\n      <th>clean_course_name</th>\n      <th>cluster</th>\n    </tr>\n    <tr>\n      <th>course_id</th>\n      <th></th>\n      <th></th>\n      <th></th>\n      <th></th>\n      <th></th>\n      <th></th>\n    </tr>\n  </thead>\n  <tbody>\n    <tr>\n      <th>1713688</th>\n      <td>Deploy Machine Learning &amp; NLP Models with Dock...</td>\n      <td>Intermediate</td>\n      <td>Docker</td>\n      <td>[Deploy, Machine, Learning, &amp;, NLP, Models, wi...</td>\n      <td>Deploy Machine Learning &amp; NLP Models with Dock...</td>\n      <td>4</td>\n    </tr>\n    <tr>\n      <th>1971462</th>\n      <td>Microsoft Azure Machine Learning (ML) Fundamen...</td>\n      <td>Beginner</td>\n      <td>Microsoft Azure</td>\n      <td>[Microsoft, Azure, Machine, Learning, (, ML, )...</td>\n      <td>Microsoft Azure Machine Learning ( ML ) Fundam...</td>\n      <td>4</td>\n    </tr>\n    <tr>\n      <th>1845106</th>\n      <td>Artificial Intelligence - TensorFlow Machine L...</td>\n      <td>All Levels</td>\n      <td>Machine Learning</td>\n      <td>[Artificial, Intelligence, -, TensorFlow, Mach...</td>\n      <td>Artificial Intelligence - TensorFlow Machine L...</td>\n      <td>4</td>\n    </tr>\n    <tr>\n      <th>1595828</th>\n      <td>LEARNING PATH: Statistics for Machine Learning</td>\n      <td>Beginner</td>\n      <td>Machine Learning</td>\n      <td>[LEARNING, PATH, :, Statistics, for, Machine, ...</td>\n      <td>LEARNING PATH : Statistics for Machine Learning</td>\n      <td>4</td>\n    </tr>\n    <tr>\n      <th>1903066</th>\n      <td>Python Machine Learning Basics: Shallow Learni...</td>\n      <td>Beginner</td>\n      <td>Recommendation Engine</td>\n      <td>[Python, Machine, Learning, Basics, :, Shallow...</td>\n      <td>Python Machine Learning Basics : Shallow Learn...</td>\n      <td>4</td>\n    </tr>\n  </tbody>\n</table>\n</div>"
     },
     "execution_count": 23,
     "metadata": {},
     "output_type": "execute_result"
    }
   ],
   "source": [
    "recommend(\"Machine Learning\")"
   ]
  },
  {
   "cell_type": "code",
   "execution_count": 24,
   "metadata": {
    "pycharm": {
     "name": "#%%\n"
    }
   },
   "outputs": [
    {
     "data": {
      "text/plain": "                                                 course_name         level  \\\ncourse_id                                                                    \n1643242    Keras library for deep learning with Machine L...    All Levels   \n1950334    YOLO v3 - Robust Deep Learning Object Detectio...  Intermediate   \n1909224    Autonomous Cars: Deep Learning and Computer Vi...    All Levels   \n1595582       LEARNING PATH: Keras: Deep Learning with Keras      Beginner   \n1930180    Deep Learning Computer Vision™ CNN, OpenCV, YO...  Intermediate   \n\n                     label                                          tokenized  \\\ncourse_id                                                                       \n1643242              Keras  [Keras, library, for, deep, learning, with, Ma...   \n1950334    Computer Vision  [YOLO, v3, -, Robust, Deep, Learning, Object, ...   \n1909224    Computer Vision  [Autonomous, Cars, :, Deep, Learning, and, Com...   \n1595582              Keras  [LEARNING, PATH, :, Keras, :, Deep, Learning, ...   \n1930180    Computer Vision  [Deep, Learning, Computer, Vision™, CNN, ,, Op...   \n\n                                           clean_course_name  cluster  \ncourse_id                                                              \n1643242    Keras library for deep learning with Machine L...      111  \n1950334    YOLO v3 - Robust Deep Learning Object Detectio...      111  \n1909224    Autonomous Cars : Deep Learning and Computer V...      111  \n1595582     LEARNING PATH : Keras : Deep Learning with Keras      111  \n1930180    Deep Learning Computer Vision™ CNN , OpenCV , ...      111  ",
      "text/html": "<div>\n<style scoped>\n    .dataframe tbody tr th:only-of-type {\n        vertical-align: middle;\n    }\n\n    .dataframe tbody tr th {\n        vertical-align: top;\n    }\n\n    .dataframe thead th {\n        text-align: right;\n    }\n</style>\n<table border=\"1\" class=\"dataframe\">\n  <thead>\n    <tr style=\"text-align: right;\">\n      <th></th>\n      <th>course_name</th>\n      <th>level</th>\n      <th>label</th>\n      <th>tokenized</th>\n      <th>clean_course_name</th>\n      <th>cluster</th>\n    </tr>\n    <tr>\n      <th>course_id</th>\n      <th></th>\n      <th></th>\n      <th></th>\n      <th></th>\n      <th></th>\n      <th></th>\n    </tr>\n  </thead>\n  <tbody>\n    <tr>\n      <th>1643242</th>\n      <td>Keras library for deep learning with Machine L...</td>\n      <td>All Levels</td>\n      <td>Keras</td>\n      <td>[Keras, library, for, deep, learning, with, Ma...</td>\n      <td>Keras library for deep learning with Machine L...</td>\n      <td>111</td>\n    </tr>\n    <tr>\n      <th>1950334</th>\n      <td>YOLO v3 - Robust Deep Learning Object Detectio...</td>\n      <td>Intermediate</td>\n      <td>Computer Vision</td>\n      <td>[YOLO, v3, -, Robust, Deep, Learning, Object, ...</td>\n      <td>YOLO v3 - Robust Deep Learning Object Detectio...</td>\n      <td>111</td>\n    </tr>\n    <tr>\n      <th>1909224</th>\n      <td>Autonomous Cars: Deep Learning and Computer Vi...</td>\n      <td>All Levels</td>\n      <td>Computer Vision</td>\n      <td>[Autonomous, Cars, :, Deep, Learning, and, Com...</td>\n      <td>Autonomous Cars : Deep Learning and Computer V...</td>\n      <td>111</td>\n    </tr>\n    <tr>\n      <th>1595582</th>\n      <td>LEARNING PATH: Keras: Deep Learning with Keras</td>\n      <td>Beginner</td>\n      <td>Keras</td>\n      <td>[LEARNING, PATH, :, Keras, :, Deep, Learning, ...</td>\n      <td>LEARNING PATH : Keras : Deep Learning with Keras</td>\n      <td>111</td>\n    </tr>\n    <tr>\n      <th>1930180</th>\n      <td>Deep Learning Computer Vision™ CNN, OpenCV, YO...</td>\n      <td>Intermediate</td>\n      <td>Computer Vision</td>\n      <td>[Deep, Learning, Computer, Vision™, CNN, ,, Op...</td>\n      <td>Deep Learning Computer Vision™ CNN , OpenCV , ...</td>\n      <td>111</td>\n    </tr>\n  </tbody>\n</table>\n</div>"
     },
     "execution_count": 24,
     "metadata": {},
     "output_type": "execute_result"
    }
   ],
   "source": [
    "recommend(\"Deep Learning\")"
   ]
  },
  {
   "cell_type": "code",
   "execution_count": 25,
   "metadata": {
    "pycharm": {
     "name": "#%%\n"
    }
   },
   "outputs": [
    {
     "data": {
      "text/plain": "                                           course_name         level  \\\ncourse_id                                                              \n1501436                 Practical Time Series Analysis        Expert   \n1706196                      Exploring SharePoint 2016    All Levels   \n1608574    Certified Digital Forensics Examiner (CDFE)    All Levels   \n1248610            Practical Office 365 Administration  Intermediate   \n1629374            SAP HANA MM Purchase Order Workflow    All Levels   \n\n                          label  \\\ncourse_id                         \n1501436    Time Series Analysis   \n1706196              SharePoint   \n1608574      Computer Forensics   \n1248610    Microsoft Office 365   \n1629374                Workflow   \n\n                                                   tokenized  \\\ncourse_id                                                      \n1501436                  [Practical, Time, Series, Analysis]   \n1706196                        [Exploring, SharePoint, 2016]   \n1608574    [Certified, Digital, Forensics, Examiner, (, C...   \n1248610             [Practical, Office, 365, Administration]   \n1629374           [SAP, HANA, MM, Purchase, Order, Workflow]   \n\n                                       clean_course_name  cluster  \ncourse_id                                                          \n1501436                   Practical Time Series Analysis       19  \n1706196                        Exploring SharePoint 2016       19  \n1608574    Certified Digital Forensics Examiner ( CDFE )       19  \n1248610              Practical Office 365 Administration       19  \n1629374              SAP HANA MM Purchase Order Workflow       19  ",
      "text/html": "<div>\n<style scoped>\n    .dataframe tbody tr th:only-of-type {\n        vertical-align: middle;\n    }\n\n    .dataframe tbody tr th {\n        vertical-align: top;\n    }\n\n    .dataframe thead th {\n        text-align: right;\n    }\n</style>\n<table border=\"1\" class=\"dataframe\">\n  <thead>\n    <tr style=\"text-align: right;\">\n      <th></th>\n      <th>course_name</th>\n      <th>level</th>\n      <th>label</th>\n      <th>tokenized</th>\n      <th>clean_course_name</th>\n      <th>cluster</th>\n    </tr>\n    <tr>\n      <th>course_id</th>\n      <th></th>\n      <th></th>\n      <th></th>\n      <th></th>\n      <th></th>\n      <th></th>\n    </tr>\n  </thead>\n  <tbody>\n    <tr>\n      <th>1501436</th>\n      <td>Practical Time Series Analysis</td>\n      <td>Expert</td>\n      <td>Time Series Analysis</td>\n      <td>[Practical, Time, Series, Analysis]</td>\n      <td>Practical Time Series Analysis</td>\n      <td>19</td>\n    </tr>\n    <tr>\n      <th>1706196</th>\n      <td>Exploring SharePoint 2016</td>\n      <td>All Levels</td>\n      <td>SharePoint</td>\n      <td>[Exploring, SharePoint, 2016]</td>\n      <td>Exploring SharePoint 2016</td>\n      <td>19</td>\n    </tr>\n    <tr>\n      <th>1608574</th>\n      <td>Certified Digital Forensics Examiner (CDFE)</td>\n      <td>All Levels</td>\n      <td>Computer Forensics</td>\n      <td>[Certified, Digital, Forensics, Examiner, (, C...</td>\n      <td>Certified Digital Forensics Examiner ( CDFE )</td>\n      <td>19</td>\n    </tr>\n    <tr>\n      <th>1248610</th>\n      <td>Practical Office 365 Administration</td>\n      <td>Intermediate</td>\n      <td>Microsoft Office 365</td>\n      <td>[Practical, Office, 365, Administration]</td>\n      <td>Practical Office 365 Administration</td>\n      <td>19</td>\n    </tr>\n    <tr>\n      <th>1629374</th>\n      <td>SAP HANA MM Purchase Order Workflow</td>\n      <td>All Levels</td>\n      <td>Workflow</td>\n      <td>[SAP, HANA, MM, Purchase, Order, Workflow]</td>\n      <td>SAP HANA MM Purchase Order Workflow</td>\n      <td>19</td>\n    </tr>\n  </tbody>\n</table>\n</div>"
     },
     "execution_count": 25,
     "metadata": {},
     "output_type": "execute_result"
    }
   ],
   "source": [
    "recommend(\"C++\")"
   ]
  },
  {
   "cell_type": "code",
   "execution_count": 26,
   "metadata": {
    "pycharm": {
     "name": "#%%\n"
    }
   },
   "outputs": [
    {
     "data": {
      "text/plain": "                                                 course_name         level  \\\ncourse_id                                                                    \n1493668                     Cracking Python code for Newbies      Beginner   \n1887166    Python 3 Bootcamp for Novice: Start programmin...      Beginner   \n1594742                    Develop Python Plugins for QGIS 3  Intermediate   \n1295564    Learning Path: Python: Guide to Become a Pytho...  Intermediate   \n1690768         Master Course for Python Network Programming    All Levels   \n\n                                label  \\\ncourse_id                               \n1493668                        Python   \n1887166                        Python   \n1594742                          QGIS   \n1295564                        Python   \n1690768    Python Network Programming   \n\n                                                   tokenized  \\\ncourse_id                                                      \n1493668               [Cracking, Python, code, for, Newbies]   \n1887166    [Python, 3, Bootcamp, for, Novice, :, Start, p...   \n1594742             [Develop, Python, Plugins, for, QGIS, 3]   \n1295564    [Learning, Path, :, Python, :, Guide, to, Beco...   \n1690768    [Master, Course, for, Python, Network, Program...   \n\n                                           clean_course_name  cluster  \ncourse_id                                                              \n1493668                     Cracking Python code for Newbies      172  \n1887166    Python 3 Bootcamp for Novice : Start programmi...      172  \n1594742                    Develop Python Plugins for QGIS 3      172  \n1295564    Learning Path : Python : Guide to Become a Pyt...      172  \n1690768         Master Course for Python Network Programming      172  ",
      "text/html": "<div>\n<style scoped>\n    .dataframe tbody tr th:only-of-type {\n        vertical-align: middle;\n    }\n\n    .dataframe tbody tr th {\n        vertical-align: top;\n    }\n\n    .dataframe thead th {\n        text-align: right;\n    }\n</style>\n<table border=\"1\" class=\"dataframe\">\n  <thead>\n    <tr style=\"text-align: right;\">\n      <th></th>\n      <th>course_name</th>\n      <th>level</th>\n      <th>label</th>\n      <th>tokenized</th>\n      <th>clean_course_name</th>\n      <th>cluster</th>\n    </tr>\n    <tr>\n      <th>course_id</th>\n      <th></th>\n      <th></th>\n      <th></th>\n      <th></th>\n      <th></th>\n      <th></th>\n    </tr>\n  </thead>\n  <tbody>\n    <tr>\n      <th>1493668</th>\n      <td>Cracking Python code for Newbies</td>\n      <td>Beginner</td>\n      <td>Python</td>\n      <td>[Cracking, Python, code, for, Newbies]</td>\n      <td>Cracking Python code for Newbies</td>\n      <td>172</td>\n    </tr>\n    <tr>\n      <th>1887166</th>\n      <td>Python 3 Bootcamp for Novice: Start programmin...</td>\n      <td>Beginner</td>\n      <td>Python</td>\n      <td>[Python, 3, Bootcamp, for, Novice, :, Start, p...</td>\n      <td>Python 3 Bootcamp for Novice : Start programmi...</td>\n      <td>172</td>\n    </tr>\n    <tr>\n      <th>1594742</th>\n      <td>Develop Python Plugins for QGIS 3</td>\n      <td>Intermediate</td>\n      <td>QGIS</td>\n      <td>[Develop, Python, Plugins, for, QGIS, 3]</td>\n      <td>Develop Python Plugins for QGIS 3</td>\n      <td>172</td>\n    </tr>\n    <tr>\n      <th>1295564</th>\n      <td>Learning Path: Python: Guide to Become a Pytho...</td>\n      <td>Intermediate</td>\n      <td>Python</td>\n      <td>[Learning, Path, :, Python, :, Guide, to, Beco...</td>\n      <td>Learning Path : Python : Guide to Become a Pyt...</td>\n      <td>172</td>\n    </tr>\n    <tr>\n      <th>1690768</th>\n      <td>Master Course for Python Network Programming</td>\n      <td>All Levels</td>\n      <td>Python Network Programming</td>\n      <td>[Master, Course, for, Python, Network, Program...</td>\n      <td>Master Course for Python Network Programming</td>\n      <td>172</td>\n    </tr>\n  </tbody>\n</table>\n</div>"
     },
     "execution_count": 26,
     "metadata": {},
     "output_type": "execute_result"
    }
   ],
   "source": [
    "recommend(\"Python\")"
   ]
  },
  {
   "cell_type": "code",
   "execution_count": 27,
   "metadata": {
    "pycharm": {
     "name": "#%%\n"
    }
   },
   "outputs": [
    {
     "data": {
      "text/plain": "                                                 course_name         level  \\\ncourse_id                                                                    \n1497190                            Linux ELF Format Tutorial      Beginner   \n2053737    Complete Linux Basics with Raspberry Pi - Lear...      Beginner   \n1770030                     Learn Mac and Linux Command Line    All Levels   \n1007502    Learn Linux Command Line - Build Your Confiden...      Beginner   \n2010466                             Bash Scripting Solutions  Intermediate   \n\n                        label  \\\ncourse_id                       \n1497190                 Linux   \n2053737    Linux Command Line   \n1770030          Command Line   \n1007502                 Linux   \n2010466            Bash Shell   \n\n                                                   tokenized  \\\ncourse_id                                                      \n1497190                       [Linux, ELF, Format, Tutorial]   \n2053737    [Complete, Linux, Basics, with, Raspberry, Pi,...   \n1770030              [Learn, Mac, and, Linux, Command, Line]   \n1007502    [Learn, Linux, Command, Line, -, Build, Your, ...   \n2010466                         [Bash, Scripting, Solutions]   \n\n                                           clean_course_name  cluster  \ncourse_id                                                              \n1497190                            Linux ELF Format Tutorial      141  \n2053737    Complete Linux Basics with Raspberry Pi - Lear...      141  \n1770030                     Learn Mac and Linux Command Line      141  \n1007502    Learn Linux Command Line - Build Your Confiden...      141  \n2010466                             Bash Scripting Solutions      141  ",
      "text/html": "<div>\n<style scoped>\n    .dataframe tbody tr th:only-of-type {\n        vertical-align: middle;\n    }\n\n    .dataframe tbody tr th {\n        vertical-align: top;\n    }\n\n    .dataframe thead th {\n        text-align: right;\n    }\n</style>\n<table border=\"1\" class=\"dataframe\">\n  <thead>\n    <tr style=\"text-align: right;\">\n      <th></th>\n      <th>course_name</th>\n      <th>level</th>\n      <th>label</th>\n      <th>tokenized</th>\n      <th>clean_course_name</th>\n      <th>cluster</th>\n    </tr>\n    <tr>\n      <th>course_id</th>\n      <th></th>\n      <th></th>\n      <th></th>\n      <th></th>\n      <th></th>\n      <th></th>\n    </tr>\n  </thead>\n  <tbody>\n    <tr>\n      <th>1497190</th>\n      <td>Linux ELF Format Tutorial</td>\n      <td>Beginner</td>\n      <td>Linux</td>\n      <td>[Linux, ELF, Format, Tutorial]</td>\n      <td>Linux ELF Format Tutorial</td>\n      <td>141</td>\n    </tr>\n    <tr>\n      <th>2053737</th>\n      <td>Complete Linux Basics with Raspberry Pi - Lear...</td>\n      <td>Beginner</td>\n      <td>Linux Command Line</td>\n      <td>[Complete, Linux, Basics, with, Raspberry, Pi,...</td>\n      <td>Complete Linux Basics with Raspberry Pi - Lear...</td>\n      <td>141</td>\n    </tr>\n    <tr>\n      <th>1770030</th>\n      <td>Learn Mac and Linux Command Line</td>\n      <td>All Levels</td>\n      <td>Command Line</td>\n      <td>[Learn, Mac, and, Linux, Command, Line]</td>\n      <td>Learn Mac and Linux Command Line</td>\n      <td>141</td>\n    </tr>\n    <tr>\n      <th>1007502</th>\n      <td>Learn Linux Command Line - Build Your Confiden...</td>\n      <td>Beginner</td>\n      <td>Linux</td>\n      <td>[Learn, Linux, Command, Line, -, Build, Your, ...</td>\n      <td>Learn Linux Command Line - Build Your Confiden...</td>\n      <td>141</td>\n    </tr>\n    <tr>\n      <th>2010466</th>\n      <td>Bash Scripting Solutions</td>\n      <td>Intermediate</td>\n      <td>Bash Shell</td>\n      <td>[Bash, Scripting, Solutions]</td>\n      <td>Bash Scripting Solutions</td>\n      <td>141</td>\n    </tr>\n  </tbody>\n</table>\n</div>"
     },
     "execution_count": 27,
     "metadata": {},
     "output_type": "execute_result"
    }
   ],
   "source": [
    "recommend(\"Linux\")"
   ]
  },
  {
   "cell_type": "code",
   "execution_count": null,
   "metadata": {
    "pycharm": {
     "name": "#%%\n"
    }
   },
   "outputs": [],
   "source": []
  }
 ],
 "metadata": {
  "kernelspec": {
   "display_name": "Python 3.10.4 ('venv': venv)",
   "language": "python",
   "name": "python3"
  },
  "language_info": {
   "codemirror_mode": {
    "name": "ipython",
    "version": 3
   },
   "file_extension": ".py",
   "mimetype": "text/x-python",
   "name": "python",
   "nbconvert_exporter": "python",
   "pygments_lexer": "ipython3",
   "version": "3.10.4"
  },
  "orig_nbformat": 4,
  "vscode": {
   "interpreter": {
    "hash": "a773209938ed0774c23482563d7c083412ff4be88dc082b9ee5c0e06e5b6d681"
   }
  }
 },
 "nbformat": 4,
 "nbformat_minor": 2
}