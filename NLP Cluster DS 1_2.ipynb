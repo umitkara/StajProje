{
 "cells": [
  {
   "cell_type": "code",
   "execution_count": 1,
   "outputs": [],
   "source": [
    "import pandas as pd\n",
    "import numpy as np\n",
    "\n",
    "import spacy\n",
    "nlp = spacy.load('en_core_web_lg')\n",
    "\n",
    "from sklearn.feature_extraction.text import TfidfVectorizer\n",
    "from sklearn.cluster import DBSCAN, MiniBatchKMeans, KMeans, Birch, AffinityPropagation\n",
    "from sklearn.decomposition import TruncatedSVD\n",
    "from sklearn.decomposition import PCA\n",
    "\n",
    "import matplotlib.pyplot as plt\n",
    "import wordcloud\n",
    "import string"
   ],
   "metadata": {
    "collapsed": false,
    "pycharm": {
     "name": "#%%\n"
    }
   }
  },
  {
   "cell_type": "code",
   "execution_count": 2,
   "outputs": [],
   "source": [
    "course = pd.read_csv(\"./data/archive_1/udemy_course.csv\", encoding=\"utf-8\", index_col=0, sep=\";\")"
   ],
   "metadata": {
    "collapsed": false,
    "pycharm": {
     "name": "#%%\n"
    }
   }
  },
  {
   "cell_type": "code",
   "execution_count": 3,
   "outputs": [
    {
     "data": {
      "text/plain": "                                                 course_name   subs  \\\ncourse_id                                                             \n8082                          Ruby Programming for Beginners  28445   \n8203                         Basic and Advanced HTML Lessons   1550   \n8319                      Git Basics: In Theory and Practice    291   \n8324                                Javascript for Beginners   3840   \n8325                 HTML Tutorial: HTML & CSS for Beginners  12521   \n8416       Beginners - How To Create iPhone And iPad Apps...   2044   \n9463       Programming Java for Beginners - The Ultimate ...  54369   \n10321                              Learn to Program with C++   3990   \n10620      Practical Transformation Using XSLT and XPath ...    789   \n10629         Introduction to Microsoft SQL Server Databases    178   \n\n           num_reviews  num_lectures  duration       last_update  \\\ncourse_id                                                          \n8082               643            56       6.0  21/08/2019 00:00   \n8203                12            15       1.0  10/07/2017 00:00   \n8319                12            31       7.5               NaN   \n8324               258            48       3.0  16/07/2019 00:00   \n8325               297            82       4.0  16/07/2019 00:00   \n8416                21            81       7.5  09/01/2017 00:00   \n9463              1144           114      10.0  09/01/2017 00:00   \n10321              461           108      10.0  09/01/2017 00:00   \n10620              123            71      24.0               NaN   \n10629                7            10       1.5               NaN   \n\n               publish_date      created_date  original_price  discount_price  \\\ncourse_id                                                                       \n8082       08/07/2011 21:32  14/06/2011 16:09         1050000        182000.0   \n8203       20/06/2011 17:48  20/06/2011 19:59          350000        182000.0   \n8319       29/07/2011 20:24  28/06/2011 04:48          280000        182000.0   \n8324       09/07/2011 05:43  28/06/2011 08:26          280000        182000.0   \n8325       09/09/2011 15:28  28/06/2011 08:27          280000        182000.0   \n8416       06/07/2011 23:45  05/07/2011 19:40          700000        182000.0   \n9463       15/09/2011 15:19  03/09/2011 02:16          700000        182000.0   \n10321      14/10/2011 21:48  13/10/2011 02:42          700000        182000.0   \n10620      28/10/2011 18:13  25/10/2011 05:00         2520000        630000.0   \n10629      31/10/2011 02:22  25/10/2011 17:35          630000             NaN   \n\n                level            label  \ncourse_id                               \n8082       All Levels             Ruby  \n8203       All Levels             HTML  \n8319       All Levels              Git  \n8324       All Levels       JavaScript  \n8325       All Levels             HTML  \n8416       All Levels  iOS Development  \n9463       All Levels             Java  \n10321      All Levels                C  \n10620      All Levels             XSLT  \n10629      All Levels    Microsoft SQL  ",
      "text/html": "<div>\n<style scoped>\n    .dataframe tbody tr th:only-of-type {\n        vertical-align: middle;\n    }\n\n    .dataframe tbody tr th {\n        vertical-align: top;\n    }\n\n    .dataframe thead th {\n        text-align: right;\n    }\n</style>\n<table border=\"1\" class=\"dataframe\">\n  <thead>\n    <tr style=\"text-align: right;\">\n      <th></th>\n      <th>course_name</th>\n      <th>subs</th>\n      <th>num_reviews</th>\n      <th>num_lectures</th>\n      <th>duration</th>\n      <th>last_update</th>\n      <th>publish_date</th>\n      <th>created_date</th>\n      <th>original_price</th>\n      <th>discount_price</th>\n      <th>level</th>\n      <th>label</th>\n    </tr>\n    <tr>\n      <th>course_id</th>\n      <th></th>\n      <th></th>\n      <th></th>\n      <th></th>\n      <th></th>\n      <th></th>\n      <th></th>\n      <th></th>\n      <th></th>\n      <th></th>\n      <th></th>\n      <th></th>\n    </tr>\n  </thead>\n  <tbody>\n    <tr>\n      <th>8082</th>\n      <td>Ruby Programming for Beginners</td>\n      <td>28445</td>\n      <td>643</td>\n      <td>56</td>\n      <td>6.0</td>\n      <td>21/08/2019 00:00</td>\n      <td>08/07/2011 21:32</td>\n      <td>14/06/2011 16:09</td>\n      <td>1050000</td>\n      <td>182000.0</td>\n      <td>All Levels</td>\n      <td>Ruby</td>\n    </tr>\n    <tr>\n      <th>8203</th>\n      <td>Basic and Advanced HTML Lessons</td>\n      <td>1550</td>\n      <td>12</td>\n      <td>15</td>\n      <td>1.0</td>\n      <td>10/07/2017 00:00</td>\n      <td>20/06/2011 17:48</td>\n      <td>20/06/2011 19:59</td>\n      <td>350000</td>\n      <td>182000.0</td>\n      <td>All Levels</td>\n      <td>HTML</td>\n    </tr>\n    <tr>\n      <th>8319</th>\n      <td>Git Basics: In Theory and Practice</td>\n      <td>291</td>\n      <td>12</td>\n      <td>31</td>\n      <td>7.5</td>\n      <td>NaN</td>\n      <td>29/07/2011 20:24</td>\n      <td>28/06/2011 04:48</td>\n      <td>280000</td>\n      <td>182000.0</td>\n      <td>All Levels</td>\n      <td>Git</td>\n    </tr>\n    <tr>\n      <th>8324</th>\n      <td>Javascript for Beginners</td>\n      <td>3840</td>\n      <td>258</td>\n      <td>48</td>\n      <td>3.0</td>\n      <td>16/07/2019 00:00</td>\n      <td>09/07/2011 05:43</td>\n      <td>28/06/2011 08:26</td>\n      <td>280000</td>\n      <td>182000.0</td>\n      <td>All Levels</td>\n      <td>JavaScript</td>\n    </tr>\n    <tr>\n      <th>8325</th>\n      <td>HTML Tutorial: HTML &amp; CSS for Beginners</td>\n      <td>12521</td>\n      <td>297</td>\n      <td>82</td>\n      <td>4.0</td>\n      <td>16/07/2019 00:00</td>\n      <td>09/09/2011 15:28</td>\n      <td>28/06/2011 08:27</td>\n      <td>280000</td>\n      <td>182000.0</td>\n      <td>All Levels</td>\n      <td>HTML</td>\n    </tr>\n    <tr>\n      <th>8416</th>\n      <td>Beginners - How To Create iPhone And iPad Apps...</td>\n      <td>2044</td>\n      <td>21</td>\n      <td>81</td>\n      <td>7.5</td>\n      <td>09/01/2017 00:00</td>\n      <td>06/07/2011 23:45</td>\n      <td>05/07/2011 19:40</td>\n      <td>700000</td>\n      <td>182000.0</td>\n      <td>All Levels</td>\n      <td>iOS Development</td>\n    </tr>\n    <tr>\n      <th>9463</th>\n      <td>Programming Java for Beginners - The Ultimate ...</td>\n      <td>54369</td>\n      <td>1144</td>\n      <td>114</td>\n      <td>10.0</td>\n      <td>09/01/2017 00:00</td>\n      <td>15/09/2011 15:19</td>\n      <td>03/09/2011 02:16</td>\n      <td>700000</td>\n      <td>182000.0</td>\n      <td>All Levels</td>\n      <td>Java</td>\n    </tr>\n    <tr>\n      <th>10321</th>\n      <td>Learn to Program with C++</td>\n      <td>3990</td>\n      <td>461</td>\n      <td>108</td>\n      <td>10.0</td>\n      <td>09/01/2017 00:00</td>\n      <td>14/10/2011 21:48</td>\n      <td>13/10/2011 02:42</td>\n      <td>700000</td>\n      <td>182000.0</td>\n      <td>All Levels</td>\n      <td>C</td>\n    </tr>\n    <tr>\n      <th>10620</th>\n      <td>Practical Transformation Using XSLT and XPath ...</td>\n      <td>789</td>\n      <td>123</td>\n      <td>71</td>\n      <td>24.0</td>\n      <td>NaN</td>\n      <td>28/10/2011 18:13</td>\n      <td>25/10/2011 05:00</td>\n      <td>2520000</td>\n      <td>630000.0</td>\n      <td>All Levels</td>\n      <td>XSLT</td>\n    </tr>\n    <tr>\n      <th>10629</th>\n      <td>Introduction to Microsoft SQL Server Databases</td>\n      <td>178</td>\n      <td>7</td>\n      <td>10</td>\n      <td>1.5</td>\n      <td>NaN</td>\n      <td>31/10/2011 02:22</td>\n      <td>25/10/2011 17:35</td>\n      <td>630000</td>\n      <td>NaN</td>\n      <td>All Levels</td>\n      <td>Microsoft SQL</td>\n    </tr>\n  </tbody>\n</table>\n</div>"
     },
     "execution_count": 3,
     "metadata": {},
     "output_type": "execute_result"
    }
   ],
   "source": [
    "course.head(10)\n"
   ],
   "metadata": {
    "collapsed": false,
    "pycharm": {
     "name": "#%%\n"
    }
   }
  },
  {
   "cell_type": "code",
   "execution_count": 4,
   "outputs": [],
   "source": [
    "course.drop([\"subs\", \"num_reviews\", \"num_lectures\", \"duration\", \"last_update\", \"publish_date\", \"created_date\", \"original_price\", \"discount_price\"], axis=1, inplace=True)"
   ],
   "metadata": {
    "collapsed": false,
    "pycharm": {
     "name": "#%%\n"
    }
   }
  },
  {
   "cell_type": "code",
   "execution_count": 5,
   "outputs": [],
   "source": [
    "course.dropna(inplace=True)"
   ],
   "metadata": {
    "collapsed": false,
    "pycharm": {
     "name": "#%%\n"
    }
   }
  },
  {
   "cell_type": "code",
   "execution_count": 6,
   "outputs": [
    {
     "data": {
      "text/plain": "(9229, 3)"
     },
     "execution_count": 6,
     "metadata": {},
     "output_type": "execute_result"
    }
   ],
   "source": [
    "course.shape"
   ],
   "metadata": {
    "collapsed": false,
    "pycharm": {
     "name": "#%%\n"
    }
   }
  },
  {
   "cell_type": "code",
   "execution_count": 7,
   "outputs": [
    {
     "data": {
      "text/plain": "                                                 course_name       level  \\\ncourse_id                                                                  \n8082                          Ruby Programming for Beginners  All Levels   \n8203                         Basic and Advanced HTML Lessons  All Levels   \n8319                      Git Basics: In Theory and Practice  All Levels   \n8324                                Javascript for Beginners  All Levels   \n8325                 HTML Tutorial: HTML & CSS for Beginners  All Levels   \n8416       Beginners - How To Create iPhone And iPad Apps...  All Levels   \n9463       Programming Java for Beginners - The Ultimate ...  All Levels   \n10321                              Learn to Program with C++  All Levels   \n10620      Practical Transformation Using XSLT and XPath ...  All Levels   \n10629         Introduction to Microsoft SQL Server Databases  All Levels   \n\n                     label  \ncourse_id                   \n8082                  Ruby  \n8203                  HTML  \n8319                   Git  \n8324            JavaScript  \n8325                  HTML  \n8416       iOS Development  \n9463                  Java  \n10321                    C  \n10620                 XSLT  \n10629        Microsoft SQL  ",
      "text/html": "<div>\n<style scoped>\n    .dataframe tbody tr th:only-of-type {\n        vertical-align: middle;\n    }\n\n    .dataframe tbody tr th {\n        vertical-align: top;\n    }\n\n    .dataframe thead th {\n        text-align: right;\n    }\n</style>\n<table border=\"1\" class=\"dataframe\">\n  <thead>\n    <tr style=\"text-align: right;\">\n      <th></th>\n      <th>course_name</th>\n      <th>level</th>\n      <th>label</th>\n    </tr>\n    <tr>\n      <th>course_id</th>\n      <th></th>\n      <th></th>\n      <th></th>\n    </tr>\n  </thead>\n  <tbody>\n    <tr>\n      <th>8082</th>\n      <td>Ruby Programming for Beginners</td>\n      <td>All Levels</td>\n      <td>Ruby</td>\n    </tr>\n    <tr>\n      <th>8203</th>\n      <td>Basic and Advanced HTML Lessons</td>\n      <td>All Levels</td>\n      <td>HTML</td>\n    </tr>\n    <tr>\n      <th>8319</th>\n      <td>Git Basics: In Theory and Practice</td>\n      <td>All Levels</td>\n      <td>Git</td>\n    </tr>\n    <tr>\n      <th>8324</th>\n      <td>Javascript for Beginners</td>\n      <td>All Levels</td>\n      <td>JavaScript</td>\n    </tr>\n    <tr>\n      <th>8325</th>\n      <td>HTML Tutorial: HTML &amp; CSS for Beginners</td>\n      <td>All Levels</td>\n      <td>HTML</td>\n    </tr>\n    <tr>\n      <th>8416</th>\n      <td>Beginners - How To Create iPhone And iPad Apps...</td>\n      <td>All Levels</td>\n      <td>iOS Development</td>\n    </tr>\n    <tr>\n      <th>9463</th>\n      <td>Programming Java for Beginners - The Ultimate ...</td>\n      <td>All Levels</td>\n      <td>Java</td>\n    </tr>\n    <tr>\n      <th>10321</th>\n      <td>Learn to Program with C++</td>\n      <td>All Levels</td>\n      <td>C</td>\n    </tr>\n    <tr>\n      <th>10620</th>\n      <td>Practical Transformation Using XSLT and XPath ...</td>\n      <td>All Levels</td>\n      <td>XSLT</td>\n    </tr>\n    <tr>\n      <th>10629</th>\n      <td>Introduction to Microsoft SQL Server Databases</td>\n      <td>All Levels</td>\n      <td>Microsoft SQL</td>\n    </tr>\n  </tbody>\n</table>\n</div>"
     },
     "execution_count": 7,
     "metadata": {},
     "output_type": "execute_result"
    }
   ],
   "source": [
    "# tokenize\n",
    "course.head(10)"
   ],
   "metadata": {
    "collapsed": false,
    "pycharm": {
     "name": "#%%\n"
    }
   }
  },
  {
   "cell_type": "code",
   "execution_count": 8,
   "outputs": [],
   "source": [
    "# tokenize\n",
    "course['tokenized'] = course['course_name'].apply(lambda x: nlp(x))"
   ],
   "metadata": {
    "collapsed": false,
    "pycharm": {
     "name": "#%%\n"
    }
   }
  },
  {
   "cell_type": "code",
   "execution_count": 9,
   "outputs": [
    {
     "data": {
      "text/plain": "                                                 course_name       level  \\\ncourse_id                                                                  \n8082                          Ruby Programming for Beginners  All Levels   \n8203                         Basic and Advanced HTML Lessons  All Levels   \n8319                      Git Basics: In Theory and Practice  All Levels   \n8324                                Javascript for Beginners  All Levels   \n8325                 HTML Tutorial: HTML & CSS for Beginners  All Levels   \n8416       Beginners - How To Create iPhone And iPad Apps...  All Levels   \n9463       Programming Java for Beginners - The Ultimate ...  All Levels   \n10321                              Learn to Program with C++  All Levels   \n10620      Practical Transformation Using XSLT and XPath ...  All Levels   \n10629         Introduction to Microsoft SQL Server Databases  All Levels   \n\n                     label                                          tokenized  \ncourse_id                                                                      \n8082                  Ruby                (Ruby, Programming, for, Beginners)  \n8203                  HTML              (Basic, and, Advanced, HTML, Lessons)  \n8319                   Git        (Git, Basics, :, In, Theory, and, Practice)  \n8324            JavaScript                       (Javascript, for, Beginners)  \n8325                  HTML  (HTML, Tutorial, :, HTML, &, CSS, for, Beginners)  \n8416       iOS Development  (Beginners, -, How, To, Create, iPhone, And, i...  \n9463                  Java  (Programming, Java, for, Beginners, -, The, Ul...  \n10321                    C                    (Learn, to, Program, with, C++)  \n10620                 XSLT  (Practical, Transformation, Using, XSLT, and, ...  \n10629        Microsoft SQL  (Introduction, to, Microsoft, SQL, Server, Dat...  ",
      "text/html": "<div>\n<style scoped>\n    .dataframe tbody tr th:only-of-type {\n        vertical-align: middle;\n    }\n\n    .dataframe tbody tr th {\n        vertical-align: top;\n    }\n\n    .dataframe thead th {\n        text-align: right;\n    }\n</style>\n<table border=\"1\" class=\"dataframe\">\n  <thead>\n    <tr style=\"text-align: right;\">\n      <th></th>\n      <th>course_name</th>\n      <th>level</th>\n      <th>label</th>\n      <th>tokenized</th>\n    </tr>\n    <tr>\n      <th>course_id</th>\n      <th></th>\n      <th></th>\n      <th></th>\n      <th></th>\n    </tr>\n  </thead>\n  <tbody>\n    <tr>\n      <th>8082</th>\n      <td>Ruby Programming for Beginners</td>\n      <td>All Levels</td>\n      <td>Ruby</td>\n      <td>(Ruby, Programming, for, Beginners)</td>\n    </tr>\n    <tr>\n      <th>8203</th>\n      <td>Basic and Advanced HTML Lessons</td>\n      <td>All Levels</td>\n      <td>HTML</td>\n      <td>(Basic, and, Advanced, HTML, Lessons)</td>\n    </tr>\n    <tr>\n      <th>8319</th>\n      <td>Git Basics: In Theory and Practice</td>\n      <td>All Levels</td>\n      <td>Git</td>\n      <td>(Git, Basics, :, In, Theory, and, Practice)</td>\n    </tr>\n    <tr>\n      <th>8324</th>\n      <td>Javascript for Beginners</td>\n      <td>All Levels</td>\n      <td>JavaScript</td>\n      <td>(Javascript, for, Beginners)</td>\n    </tr>\n    <tr>\n      <th>8325</th>\n      <td>HTML Tutorial: HTML &amp; CSS for Beginners</td>\n      <td>All Levels</td>\n      <td>HTML</td>\n      <td>(HTML, Tutorial, :, HTML, &amp;, CSS, for, Beginners)</td>\n    </tr>\n    <tr>\n      <th>8416</th>\n      <td>Beginners - How To Create iPhone And iPad Apps...</td>\n      <td>All Levels</td>\n      <td>iOS Development</td>\n      <td>(Beginners, -, How, To, Create, iPhone, And, i...</td>\n    </tr>\n    <tr>\n      <th>9463</th>\n      <td>Programming Java for Beginners - The Ultimate ...</td>\n      <td>All Levels</td>\n      <td>Java</td>\n      <td>(Programming, Java, for, Beginners, -, The, Ul...</td>\n    </tr>\n    <tr>\n      <th>10321</th>\n      <td>Learn to Program with C++</td>\n      <td>All Levels</td>\n      <td>C</td>\n      <td>(Learn, to, Program, with, C++)</td>\n    </tr>\n    <tr>\n      <th>10620</th>\n      <td>Practical Transformation Using XSLT and XPath ...</td>\n      <td>All Levels</td>\n      <td>XSLT</td>\n      <td>(Practical, Transformation, Using, XSLT, and, ...</td>\n    </tr>\n    <tr>\n      <th>10629</th>\n      <td>Introduction to Microsoft SQL Server Databases</td>\n      <td>All Levels</td>\n      <td>Microsoft SQL</td>\n      <td>(Introduction, to, Microsoft, SQL, Server, Dat...</td>\n    </tr>\n  </tbody>\n</table>\n</div>"
     },
     "execution_count": 9,
     "metadata": {},
     "output_type": "execute_result"
    }
   ],
   "source": [
    "course.head(10)"
   ],
   "metadata": {
    "collapsed": false,
    "pycharm": {
     "name": "#%%\n"
    }
   }
  },
  {
   "cell_type": "code",
   "execution_count": 10,
   "outputs": [],
   "source": [
    "from spacy.lang.en.stop_words import STOP_WORDS\n",
    "course['tokenized'] = course['tokenized'].apply(lambda x: [token.text for token in x if token.text not in STOP_WORDS])"
   ],
   "metadata": {
    "collapsed": false,
    "pycharm": {
     "name": "#%%\n"
    }
   }
  },
  {
   "cell_type": "code",
   "execution_count": 11,
   "outputs": [
    {
     "data": {
      "text/plain": "                                                 course_name       level  \\\ncourse_id                                                                  \n8082                          Ruby Programming for Beginners  All Levels   \n8203                         Basic and Advanced HTML Lessons  All Levels   \n8319                      Git Basics: In Theory and Practice  All Levels   \n8324                                Javascript for Beginners  All Levels   \n8325                 HTML Tutorial: HTML & CSS for Beginners  All Levels   \n8416       Beginners - How To Create iPhone And iPad Apps...  All Levels   \n9463       Programming Java for Beginners - The Ultimate ...  All Levels   \n10321                              Learn to Program with C++  All Levels   \n10620      Practical Transformation Using XSLT and XPath ...  All Levels   \n10629         Introduction to Microsoft SQL Server Databases  All Levels   \n\n                     label                                          tokenized  \ncourse_id                                                                      \n8082                  Ruby                     [Ruby, Programming, Beginners]  \n8203                  HTML                   [Basic, Advanced, HTML, Lessons]  \n8319                   Git             [Git, Basics, :, In, Theory, Practice]  \n8324            JavaScript                            [Javascript, Beginners]  \n8325                  HTML       [HTML, Tutorial, :, HTML, &, CSS, Beginners]  \n8416       iOS Development  [Beginners, -, How, To, Create, iPhone, And, i...  \n9463                  Java  [Programming, Java, Beginners, -, The, Ultimat...  \n10321                    C                              [Learn, Program, C++]  \n10620                 XSLT  [Practical, Transformation, Using, XSLT, XPath...  \n10629        Microsoft SQL  [Introduction, Microsoft, SQL, Server, Databases]  ",
      "text/html": "<div>\n<style scoped>\n    .dataframe tbody tr th:only-of-type {\n        vertical-align: middle;\n    }\n\n    .dataframe tbody tr th {\n        vertical-align: top;\n    }\n\n    .dataframe thead th {\n        text-align: right;\n    }\n</style>\n<table border=\"1\" class=\"dataframe\">\n  <thead>\n    <tr style=\"text-align: right;\">\n      <th></th>\n      <th>course_name</th>\n      <th>level</th>\n      <th>label</th>\n      <th>tokenized</th>\n    </tr>\n    <tr>\n      <th>course_id</th>\n      <th></th>\n      <th></th>\n      <th></th>\n      <th></th>\n    </tr>\n  </thead>\n  <tbody>\n    <tr>\n      <th>8082</th>\n      <td>Ruby Programming for Beginners</td>\n      <td>All Levels</td>\n      <td>Ruby</td>\n      <td>[Ruby, Programming, Beginners]</td>\n    </tr>\n    <tr>\n      <th>8203</th>\n      <td>Basic and Advanced HTML Lessons</td>\n      <td>All Levels</td>\n      <td>HTML</td>\n      <td>[Basic, Advanced, HTML, Lessons]</td>\n    </tr>\n    <tr>\n      <th>8319</th>\n      <td>Git Basics: In Theory and Practice</td>\n      <td>All Levels</td>\n      <td>Git</td>\n      <td>[Git, Basics, :, In, Theory, Practice]</td>\n    </tr>\n    <tr>\n      <th>8324</th>\n      <td>Javascript for Beginners</td>\n      <td>All Levels</td>\n      <td>JavaScript</td>\n      <td>[Javascript, Beginners]</td>\n    </tr>\n    <tr>\n      <th>8325</th>\n      <td>HTML Tutorial: HTML &amp; CSS for Beginners</td>\n      <td>All Levels</td>\n      <td>HTML</td>\n      <td>[HTML, Tutorial, :, HTML, &amp;, CSS, Beginners]</td>\n    </tr>\n    <tr>\n      <th>8416</th>\n      <td>Beginners - How To Create iPhone And iPad Apps...</td>\n      <td>All Levels</td>\n      <td>iOS Development</td>\n      <td>[Beginners, -, How, To, Create, iPhone, And, i...</td>\n    </tr>\n    <tr>\n      <th>9463</th>\n      <td>Programming Java for Beginners - The Ultimate ...</td>\n      <td>All Levels</td>\n      <td>Java</td>\n      <td>[Programming, Java, Beginners, -, The, Ultimat...</td>\n    </tr>\n    <tr>\n      <th>10321</th>\n      <td>Learn to Program with C++</td>\n      <td>All Levels</td>\n      <td>C</td>\n      <td>[Learn, Program, C++]</td>\n    </tr>\n    <tr>\n      <th>10620</th>\n      <td>Practical Transformation Using XSLT and XPath ...</td>\n      <td>All Levels</td>\n      <td>XSLT</td>\n      <td>[Practical, Transformation, Using, XSLT, XPath...</td>\n    </tr>\n    <tr>\n      <th>10629</th>\n      <td>Introduction to Microsoft SQL Server Databases</td>\n      <td>All Levels</td>\n      <td>Microsoft SQL</td>\n      <td>[Introduction, Microsoft, SQL, Server, Databases]</td>\n    </tr>\n  </tbody>\n</table>\n</div>"
     },
     "execution_count": 11,
     "metadata": {},
     "output_type": "execute_result"
    }
   ],
   "source": [
    "course.head(10)"
   ],
   "metadata": {
    "collapsed": false,
    "pycharm": {
     "name": "#%%\n"
    }
   }
  },
  {
   "cell_type": "code",
   "execution_count": 12,
   "outputs": [],
   "source": [
    "# clear - : from tokenized\n",
    "course['tokenized'] = course['tokenized'].apply(lambda x: [token for token in x if token not in string.punctuation])"
   ],
   "metadata": {
    "collapsed": false,
    "pycharm": {
     "name": "#%%\n"
    }
   }
  },
  {
   "cell_type": "code",
   "execution_count": 13,
   "outputs": [
    {
     "data": {
      "text/plain": "                                                 course_name       level  \\\ncourse_id                                                                  \n8082                          Ruby Programming for Beginners  All Levels   \n8203                         Basic and Advanced HTML Lessons  All Levels   \n8319                      Git Basics: In Theory and Practice  All Levels   \n8324                                Javascript for Beginners  All Levels   \n8325                 HTML Tutorial: HTML & CSS for Beginners  All Levels   \n8416       Beginners - How To Create iPhone And iPad Apps...  All Levels   \n9463       Programming Java for Beginners - The Ultimate ...  All Levels   \n10321                              Learn to Program with C++  All Levels   \n10620      Practical Transformation Using XSLT and XPath ...  All Levels   \n10629         Introduction to Microsoft SQL Server Databases  All Levels   \n\n                     label                                          tokenized  \ncourse_id                                                                      \n8082                  Ruby                     [Ruby, Programming, Beginners]  \n8203                  HTML                   [Basic, Advanced, HTML, Lessons]  \n8319                   Git                [Git, Basics, In, Theory, Practice]  \n8324            JavaScript                            [Javascript, Beginners]  \n8325                  HTML             [HTML, Tutorial, HTML, CSS, Beginners]  \n8416       iOS Development  [Beginners, How, To, Create, iPhone, And, iPad...  \n9463                  Java  [Programming, Java, Beginners, The, Ultimate, ...  \n10321                    C                              [Learn, Program, C++]  \n10620                 XSLT  [Practical, Transformation, Using, XSLT, XPath...  \n10629        Microsoft SQL  [Introduction, Microsoft, SQL, Server, Databases]  ",
      "text/html": "<div>\n<style scoped>\n    .dataframe tbody tr th:only-of-type {\n        vertical-align: middle;\n    }\n\n    .dataframe tbody tr th {\n        vertical-align: top;\n    }\n\n    .dataframe thead th {\n        text-align: right;\n    }\n</style>\n<table border=\"1\" class=\"dataframe\">\n  <thead>\n    <tr style=\"text-align: right;\">\n      <th></th>\n      <th>course_name</th>\n      <th>level</th>\n      <th>label</th>\n      <th>tokenized</th>\n    </tr>\n    <tr>\n      <th>course_id</th>\n      <th></th>\n      <th></th>\n      <th></th>\n      <th></th>\n    </tr>\n  </thead>\n  <tbody>\n    <tr>\n      <th>8082</th>\n      <td>Ruby Programming for Beginners</td>\n      <td>All Levels</td>\n      <td>Ruby</td>\n      <td>[Ruby, Programming, Beginners]</td>\n    </tr>\n    <tr>\n      <th>8203</th>\n      <td>Basic and Advanced HTML Lessons</td>\n      <td>All Levels</td>\n      <td>HTML</td>\n      <td>[Basic, Advanced, HTML, Lessons]</td>\n    </tr>\n    <tr>\n      <th>8319</th>\n      <td>Git Basics: In Theory and Practice</td>\n      <td>All Levels</td>\n      <td>Git</td>\n      <td>[Git, Basics, In, Theory, Practice]</td>\n    </tr>\n    <tr>\n      <th>8324</th>\n      <td>Javascript for Beginners</td>\n      <td>All Levels</td>\n      <td>JavaScript</td>\n      <td>[Javascript, Beginners]</td>\n    </tr>\n    <tr>\n      <th>8325</th>\n      <td>HTML Tutorial: HTML &amp; CSS for Beginners</td>\n      <td>All Levels</td>\n      <td>HTML</td>\n      <td>[HTML, Tutorial, HTML, CSS, Beginners]</td>\n    </tr>\n    <tr>\n      <th>8416</th>\n      <td>Beginners - How To Create iPhone And iPad Apps...</td>\n      <td>All Levels</td>\n      <td>iOS Development</td>\n      <td>[Beginners, How, To, Create, iPhone, And, iPad...</td>\n    </tr>\n    <tr>\n      <th>9463</th>\n      <td>Programming Java for Beginners - The Ultimate ...</td>\n      <td>All Levels</td>\n      <td>Java</td>\n      <td>[Programming, Java, Beginners, The, Ultimate, ...</td>\n    </tr>\n    <tr>\n      <th>10321</th>\n      <td>Learn to Program with C++</td>\n      <td>All Levels</td>\n      <td>C</td>\n      <td>[Learn, Program, C++]</td>\n    </tr>\n    <tr>\n      <th>10620</th>\n      <td>Practical Transformation Using XSLT and XPath ...</td>\n      <td>All Levels</td>\n      <td>XSLT</td>\n      <td>[Practical, Transformation, Using, XSLT, XPath...</td>\n    </tr>\n    <tr>\n      <th>10629</th>\n      <td>Introduction to Microsoft SQL Server Databases</td>\n      <td>All Levels</td>\n      <td>Microsoft SQL</td>\n      <td>[Introduction, Microsoft, SQL, Server, Databases]</td>\n    </tr>\n  </tbody>\n</table>\n</div>"
     },
     "execution_count": 13,
     "metadata": {},
     "output_type": "execute_result"
    }
   ],
   "source": [
    "course.head(10)"
   ],
   "metadata": {
    "collapsed": false,
    "pycharm": {
     "name": "#%%\n"
    }
   }
  },
  {
   "cell_type": "code",
   "execution_count": 14,
   "outputs": [],
   "source": [
    "# lowercase tokenized\n",
    "course['tokenized'] = course['tokenized'].apply(lambda x: [token.lower() for token in x])"
   ],
   "metadata": {
    "collapsed": false,
    "pycharm": {
     "name": "#%%\n"
    }
   }
  },
  {
   "cell_type": "code",
   "execution_count": 15,
   "outputs": [
    {
     "data": {
      "text/plain": "                                                 course_name       level  \\\ncourse_id                                                                  \n8082                          Ruby Programming for Beginners  All Levels   \n8203                         Basic and Advanced HTML Lessons  All Levels   \n8319                      Git Basics: In Theory and Practice  All Levels   \n8324                                Javascript for Beginners  All Levels   \n8325                 HTML Tutorial: HTML & CSS for Beginners  All Levels   \n8416       Beginners - How To Create iPhone And iPad Apps...  All Levels   \n9463       Programming Java for Beginners - The Ultimate ...  All Levels   \n10321                              Learn to Program with C++  All Levels   \n10620      Practical Transformation Using XSLT and XPath ...  All Levels   \n10629         Introduction to Microsoft SQL Server Databases  All Levels   \n\n                     label                                          tokenized  \ncourse_id                                                                      \n8082                  Ruby                     [ruby, programming, beginners]  \n8203                  HTML                   [basic, advanced, html, lessons]  \n8319                   Git                [git, basics, in, theory, practice]  \n8324            JavaScript                            [javascript, beginners]  \n8325                  HTML             [html, tutorial, html, css, beginners]  \n8416       iOS Development  [beginners, how, to, create, iphone, and, ipad...  \n9463                  Java  [programming, java, beginners, the, ultimate, ...  \n10321                    C                              [learn, program, c++]  \n10620                 XSLT  [practical, transformation, using, xslt, xpath...  \n10629        Microsoft SQL  [introduction, microsoft, sql, server, databases]  ",
      "text/html": "<div>\n<style scoped>\n    .dataframe tbody tr th:only-of-type {\n        vertical-align: middle;\n    }\n\n    .dataframe tbody tr th {\n        vertical-align: top;\n    }\n\n    .dataframe thead th {\n        text-align: right;\n    }\n</style>\n<table border=\"1\" class=\"dataframe\">\n  <thead>\n    <tr style=\"text-align: right;\">\n      <th></th>\n      <th>course_name</th>\n      <th>level</th>\n      <th>label</th>\n      <th>tokenized</th>\n    </tr>\n    <tr>\n      <th>course_id</th>\n      <th></th>\n      <th></th>\n      <th></th>\n      <th></th>\n    </tr>\n  </thead>\n  <tbody>\n    <tr>\n      <th>8082</th>\n      <td>Ruby Programming for Beginners</td>\n      <td>All Levels</td>\n      <td>Ruby</td>\n      <td>[ruby, programming, beginners]</td>\n    </tr>\n    <tr>\n      <th>8203</th>\n      <td>Basic and Advanced HTML Lessons</td>\n      <td>All Levels</td>\n      <td>HTML</td>\n      <td>[basic, advanced, html, lessons]</td>\n    </tr>\n    <tr>\n      <th>8319</th>\n      <td>Git Basics: In Theory and Practice</td>\n      <td>All Levels</td>\n      <td>Git</td>\n      <td>[git, basics, in, theory, practice]</td>\n    </tr>\n    <tr>\n      <th>8324</th>\n      <td>Javascript for Beginners</td>\n      <td>All Levels</td>\n      <td>JavaScript</td>\n      <td>[javascript, beginners]</td>\n    </tr>\n    <tr>\n      <th>8325</th>\n      <td>HTML Tutorial: HTML &amp; CSS for Beginners</td>\n      <td>All Levels</td>\n      <td>HTML</td>\n      <td>[html, tutorial, html, css, beginners]</td>\n    </tr>\n    <tr>\n      <th>8416</th>\n      <td>Beginners - How To Create iPhone And iPad Apps...</td>\n      <td>All Levels</td>\n      <td>iOS Development</td>\n      <td>[beginners, how, to, create, iphone, and, ipad...</td>\n    </tr>\n    <tr>\n      <th>9463</th>\n      <td>Programming Java for Beginners - The Ultimate ...</td>\n      <td>All Levels</td>\n      <td>Java</td>\n      <td>[programming, java, beginners, the, ultimate, ...</td>\n    </tr>\n    <tr>\n      <th>10321</th>\n      <td>Learn to Program with C++</td>\n      <td>All Levels</td>\n      <td>C</td>\n      <td>[learn, program, c++]</td>\n    </tr>\n    <tr>\n      <th>10620</th>\n      <td>Practical Transformation Using XSLT and XPath ...</td>\n      <td>All Levels</td>\n      <td>XSLT</td>\n      <td>[practical, transformation, using, xslt, xpath...</td>\n    </tr>\n    <tr>\n      <th>10629</th>\n      <td>Introduction to Microsoft SQL Server Databases</td>\n      <td>All Levels</td>\n      <td>Microsoft SQL</td>\n      <td>[introduction, microsoft, sql, server, databases]</td>\n    </tr>\n  </tbody>\n</table>\n</div>"
     },
     "execution_count": 15,
     "metadata": {},
     "output_type": "execute_result"
    }
   ],
   "source": [
    "course.head(10)"
   ],
   "metadata": {
    "collapsed": false,
    "pycharm": {
     "name": "#%%\n"
    }
   }
  },
  {
   "cell_type": "markdown",
   "source": [
    "## Clustering models\n",
    "\n",
    "### K-means clustering"
   ],
   "metadata": {
    "collapsed": false,
    "pycharm": {
     "name": "#%% md\n"
    }
   }
  },
  {
   "cell_type": "code",
   "execution_count": 16,
   "outputs": [],
   "source": [
    "vectorizer = TfidfVectorizer(min_df=2, max_df=0.9, ngram_range=(1, 3), stop_words='english')"
   ],
   "metadata": {
    "collapsed": false,
    "pycharm": {
     "name": "#%%\n"
    }
   }
  },
  {
   "cell_type": "code",
   "execution_count": 17,
   "outputs": [],
   "source": [
    "course['clean_document'] = course['tokenized'].apply(lambda x: ' '.join(x))"
   ],
   "metadata": {
    "collapsed": false,
    "pycharm": {
     "name": "#%%\n"
    }
   }
  },
  {
   "cell_type": "code",
   "execution_count": 18,
   "outputs": [
    {
     "data": {
      "text/plain": "                                                 course_name       level  \\\ncourse_id                                                                  \n8082                          Ruby Programming for Beginners  All Levels   \n8203                         Basic and Advanced HTML Lessons  All Levels   \n8319                      Git Basics: In Theory and Practice  All Levels   \n8324                                Javascript for Beginners  All Levels   \n8325                 HTML Tutorial: HTML & CSS for Beginners  All Levels   \n8416       Beginners - How To Create iPhone And iPad Apps...  All Levels   \n9463       Programming Java for Beginners - The Ultimate ...  All Levels   \n10321                              Learn to Program with C++  All Levels   \n10620      Practical Transformation Using XSLT and XPath ...  All Levels   \n10629         Introduction to Microsoft SQL Server Databases  All Levels   \n\n                     label                                          tokenized  \\\ncourse_id                                                                       \n8082                  Ruby                     [ruby, programming, beginners]   \n8203                  HTML                   [basic, advanced, html, lessons]   \n8319                   Git                [git, basics, in, theory, practice]   \n8324            JavaScript                            [javascript, beginners]   \n8325                  HTML             [html, tutorial, html, css, beginners]   \n8416       iOS Development  [beginners, how, to, create, iphone, and, ipad...   \n9463                  Java  [programming, java, beginners, the, ultimate, ...   \n10321                    C                              [learn, program, c++]   \n10620                 XSLT  [practical, transformation, using, xslt, xpath...   \n10629        Microsoft SQL  [introduction, microsoft, sql, server, databases]   \n\n                                              clean_document  \ncourse_id                                                     \n8082                              ruby programming beginners  \n8203                             basic advanced html lessons  \n8319                           git basics in theory practice  \n8324                                    javascript beginners  \n8325                        html tutorial html css beginners  \n8416       beginners how to create iphone and ipad apps z...  \n9463       programming java beginners the ultimate java t...  \n10321                                      learn program c++  \n10620      practical transformation using xslt xpath 5 ho...  \n10629            introduction microsoft sql server databases  ",
      "text/html": "<div>\n<style scoped>\n    .dataframe tbody tr th:only-of-type {\n        vertical-align: middle;\n    }\n\n    .dataframe tbody tr th {\n        vertical-align: top;\n    }\n\n    .dataframe thead th {\n        text-align: right;\n    }\n</style>\n<table border=\"1\" class=\"dataframe\">\n  <thead>\n    <tr style=\"text-align: right;\">\n      <th></th>\n      <th>course_name</th>\n      <th>level</th>\n      <th>label</th>\n      <th>tokenized</th>\n      <th>clean_document</th>\n    </tr>\n    <tr>\n      <th>course_id</th>\n      <th></th>\n      <th></th>\n      <th></th>\n      <th></th>\n      <th></th>\n    </tr>\n  </thead>\n  <tbody>\n    <tr>\n      <th>8082</th>\n      <td>Ruby Programming for Beginners</td>\n      <td>All Levels</td>\n      <td>Ruby</td>\n      <td>[ruby, programming, beginners]</td>\n      <td>ruby programming beginners</td>\n    </tr>\n    <tr>\n      <th>8203</th>\n      <td>Basic and Advanced HTML Lessons</td>\n      <td>All Levels</td>\n      <td>HTML</td>\n      <td>[basic, advanced, html, lessons]</td>\n      <td>basic advanced html lessons</td>\n    </tr>\n    <tr>\n      <th>8319</th>\n      <td>Git Basics: In Theory and Practice</td>\n      <td>All Levels</td>\n      <td>Git</td>\n      <td>[git, basics, in, theory, practice]</td>\n      <td>git basics in theory practice</td>\n    </tr>\n    <tr>\n      <th>8324</th>\n      <td>Javascript for Beginners</td>\n      <td>All Levels</td>\n      <td>JavaScript</td>\n      <td>[javascript, beginners]</td>\n      <td>javascript beginners</td>\n    </tr>\n    <tr>\n      <th>8325</th>\n      <td>HTML Tutorial: HTML &amp; CSS for Beginners</td>\n      <td>All Levels</td>\n      <td>HTML</td>\n      <td>[html, tutorial, html, css, beginners]</td>\n      <td>html tutorial html css beginners</td>\n    </tr>\n    <tr>\n      <th>8416</th>\n      <td>Beginners - How To Create iPhone And iPad Apps...</td>\n      <td>All Levels</td>\n      <td>iOS Development</td>\n      <td>[beginners, how, to, create, iphone, and, ipad...</td>\n      <td>beginners how to create iphone and ipad apps z...</td>\n    </tr>\n    <tr>\n      <th>9463</th>\n      <td>Programming Java for Beginners - The Ultimate ...</td>\n      <td>All Levels</td>\n      <td>Java</td>\n      <td>[programming, java, beginners, the, ultimate, ...</td>\n      <td>programming java beginners the ultimate java t...</td>\n    </tr>\n    <tr>\n      <th>10321</th>\n      <td>Learn to Program with C++</td>\n      <td>All Levels</td>\n      <td>C</td>\n      <td>[learn, program, c++]</td>\n      <td>learn program c++</td>\n    </tr>\n    <tr>\n      <th>10620</th>\n      <td>Practical Transformation Using XSLT and XPath ...</td>\n      <td>All Levels</td>\n      <td>XSLT</td>\n      <td>[practical, transformation, using, xslt, xpath...</td>\n      <td>practical transformation using xslt xpath 5 ho...</td>\n    </tr>\n    <tr>\n      <th>10629</th>\n      <td>Introduction to Microsoft SQL Server Databases</td>\n      <td>All Levels</td>\n      <td>Microsoft SQL</td>\n      <td>[introduction, microsoft, sql, server, databases]</td>\n      <td>introduction microsoft sql server databases</td>\n    </tr>\n  </tbody>\n</table>\n</div>"
     },
     "execution_count": 18,
     "metadata": {},
     "output_type": "execute_result"
    }
   ],
   "source": [
    "course.head(10)"
   ],
   "metadata": {
    "collapsed": false,
    "pycharm": {
     "name": "#%%\n"
    }
   }
  },
  {
   "cell_type": "code",
   "execution_count": 20,
   "outputs": [],
   "source": [
    "X = vectorizer.fit_transform(course['clean_document'])"
   ],
   "metadata": {
    "collapsed": false,
    "pycharm": {
     "name": "#%%\n"
    }
   }
  },
  {
   "cell_type": "code",
   "execution_count": 21,
   "outputs": [],
   "source": [
    "features = vectorizer.transform(course['clean_document'])"
   ],
   "metadata": {
    "collapsed": false,
    "pycharm": {
     "name": "#%%\n"
    }
   }
  },
  {
   "cell_type": "code",
   "execution_count": 39,
   "outputs": [],
   "source": [
    "cls = KMeans(n_clusters=300, random_state=0)"
   ],
   "metadata": {
    "collapsed": false,
    "pycharm": {
     "name": "#%%\n"
    }
   }
  },
  {
   "cell_type": "code",
   "execution_count": 40,
   "outputs": [
    {
     "data": {
      "text/plain": "KMeans(n_clusters=300, random_state=0)",
      "text/html": "<style>#sk-container-id-2 {color: black;background-color: white;}#sk-container-id-2 pre{padding: 0;}#sk-container-id-2 div.sk-toggleable {background-color: white;}#sk-container-id-2 label.sk-toggleable__label {cursor: pointer;display: block;width: 100%;margin-bottom: 0;padding: 0.3em;box-sizing: border-box;text-align: center;}#sk-container-id-2 label.sk-toggleable__label-arrow:before {content: \"▸\";float: left;margin-right: 0.25em;color: #696969;}#sk-container-id-2 label.sk-toggleable__label-arrow:hover:before {color: black;}#sk-container-id-2 div.sk-estimator:hover label.sk-toggleable__label-arrow:before {color: black;}#sk-container-id-2 div.sk-toggleable__content {max-height: 0;max-width: 0;overflow: hidden;text-align: left;background-color: #f0f8ff;}#sk-container-id-2 div.sk-toggleable__content pre {margin: 0.2em;color: black;border-radius: 0.25em;background-color: #f0f8ff;}#sk-container-id-2 input.sk-toggleable__control:checked~div.sk-toggleable__content {max-height: 200px;max-width: 100%;overflow: auto;}#sk-container-id-2 input.sk-toggleable__control:checked~label.sk-toggleable__label-arrow:before {content: \"▾\";}#sk-container-id-2 div.sk-estimator input.sk-toggleable__control:checked~label.sk-toggleable__label {background-color: #d4ebff;}#sk-container-id-2 div.sk-label input.sk-toggleable__control:checked~label.sk-toggleable__label {background-color: #d4ebff;}#sk-container-id-2 input.sk-hidden--visually {border: 0;clip: rect(1px 1px 1px 1px);clip: rect(1px, 1px, 1px, 1px);height: 1px;margin: -1px;overflow: hidden;padding: 0;position: absolute;width: 1px;}#sk-container-id-2 div.sk-estimator {font-family: monospace;background-color: #f0f8ff;border: 1px dotted black;border-radius: 0.25em;box-sizing: border-box;margin-bottom: 0.5em;}#sk-container-id-2 div.sk-estimator:hover {background-color: #d4ebff;}#sk-container-id-2 div.sk-parallel-item::after {content: \"\";width: 100%;border-bottom: 1px solid gray;flex-grow: 1;}#sk-container-id-2 div.sk-label:hover label.sk-toggleable__label {background-color: #d4ebff;}#sk-container-id-2 div.sk-serial::before {content: \"\";position: absolute;border-left: 1px solid gray;box-sizing: border-box;top: 0;bottom: 0;left: 50%;z-index: 0;}#sk-container-id-2 div.sk-serial {display: flex;flex-direction: column;align-items: center;background-color: white;padding-right: 0.2em;padding-left: 0.2em;position: relative;}#sk-container-id-2 div.sk-item {position: relative;z-index: 1;}#sk-container-id-2 div.sk-parallel {display: flex;align-items: stretch;justify-content: center;background-color: white;position: relative;}#sk-container-id-2 div.sk-item::before, #sk-container-id-2 div.sk-parallel-item::before {content: \"\";position: absolute;border-left: 1px solid gray;box-sizing: border-box;top: 0;bottom: 0;left: 50%;z-index: -1;}#sk-container-id-2 div.sk-parallel-item {display: flex;flex-direction: column;z-index: 1;position: relative;background-color: white;}#sk-container-id-2 div.sk-parallel-item:first-child::after {align-self: flex-end;width: 50%;}#sk-container-id-2 div.sk-parallel-item:last-child::after {align-self: flex-start;width: 50%;}#sk-container-id-2 div.sk-parallel-item:only-child::after {width: 0;}#sk-container-id-2 div.sk-dashed-wrapped {border: 1px dashed gray;margin: 0 0.4em 0.5em 0.4em;box-sizing: border-box;padding-bottom: 0.4em;background-color: white;}#sk-container-id-2 div.sk-label label {font-family: monospace;font-weight: bold;display: inline-block;line-height: 1.2em;}#sk-container-id-2 div.sk-label-container {text-align: center;}#sk-container-id-2 div.sk-container {/* jupyter's `normalize.less` sets `[hidden] { display: none; }` but bootstrap.min.css set `[hidden] { display: none !important; }` so we also need the `!important` here to be able to override the default hidden behavior on the sphinx rendered scikit-learn.org. See: https://github.com/scikit-learn/scikit-learn/issues/21755 */display: inline-block !important;position: relative;}#sk-container-id-2 div.sk-text-repr-fallback {display: none;}</style><div id=\"sk-container-id-2\" class=\"sk-top-container\"><div class=\"sk-text-repr-fallback\"><pre>KMeans(n_clusters=300, random_state=0)</pre><b>In a Jupyter environment, please rerun this cell to show the HTML representation or trust the notebook. <br />On GitHub, the HTML representation is unable to render, please try loading this page with nbviewer.org.</b></div><div class=\"sk-container\" hidden><div class=\"sk-item\"><div class=\"sk-estimator sk-toggleable\"><input class=\"sk-toggleable__control sk-hidden--visually\" id=\"sk-estimator-id-2\" type=\"checkbox\" checked><label for=\"sk-estimator-id-2\" class=\"sk-toggleable__label sk-toggleable__label-arrow\">KMeans</label><div class=\"sk-toggleable__content\"><pre>KMeans(n_clusters=300, random_state=0)</pre></div></div></div></div></div>"
     },
     "execution_count": 40,
     "metadata": {},
     "output_type": "execute_result"
    }
   ],
   "source": [
    "cls.fit(features)"
   ],
   "metadata": {
    "collapsed": false,
    "pycharm": {
     "name": "#%%\n"
    }
   }
  },
  {
   "cell_type": "code",
   "execution_count": 24,
   "outputs": [],
   "source": [
    "course['cluster'] = cls.labels_"
   ],
   "metadata": {
    "collapsed": false,
    "pycharm": {
     "name": "#%%\n"
    }
   }
  },
  {
   "cell_type": "code",
   "execution_count": 41,
   "outputs": [
    {
     "data": {
      "text/plain": "                                                 course_name       level  \\\ncourse_id                                                                  \n8082                          Ruby Programming for Beginners  All Levels   \n8203                         Basic and Advanced HTML Lessons  All Levels   \n8319                      Git Basics: In Theory and Practice  All Levels   \n8324                                Javascript for Beginners  All Levels   \n8325                 HTML Tutorial: HTML & CSS for Beginners  All Levels   \n8416       Beginners - How To Create iPhone And iPad Apps...  All Levels   \n9463       Programming Java for Beginners - The Ultimate ...  All Levels   \n10321                              Learn to Program with C++  All Levels   \n10620      Practical Transformation Using XSLT and XPath ...  All Levels   \n10629         Introduction to Microsoft SQL Server Databases  All Levels   \n\n                     label                                          tokenized  \\\ncourse_id                                                                       \n8082                  Ruby                     [ruby, programming, beginners]   \n8203                  HTML                   [basic, advanced, html, lessons]   \n8319                   Git                [git, basics, in, theory, practice]   \n8324            JavaScript                            [javascript, beginners]   \n8325                  HTML             [html, tutorial, html, css, beginners]   \n8416       iOS Development  [beginners, how, to, create, iphone, and, ipad...   \n9463                  Java  [programming, java, beginners, the, ultimate, ...   \n10321                    C                              [learn, program, c++]   \n10620                 XSLT  [practical, transformation, using, xslt, xpath...   \n10629        Microsoft SQL  [introduction, microsoft, sql, server, databases]   \n\n                                              clean_document  cluster  \ncourse_id                                                              \n8082                              ruby programming beginners      231  \n8203                             basic advanced html lessons      221  \n8319                           git basics in theory practice      113  \n8324                                    javascript beginners       33  \n8325                        html tutorial html css beginners      129  \n8416       beginners how to create iphone and ipad apps z...       94  \n9463       programming java beginners the ultimate java t...      176  \n10321                                      learn program c++      138  \n10620      practical transformation using xslt xpath 5 ho...       68  \n10629            introduction microsoft sql server databases       14  ",
      "text/html": "<div>\n<style scoped>\n    .dataframe tbody tr th:only-of-type {\n        vertical-align: middle;\n    }\n\n    .dataframe tbody tr th {\n        vertical-align: top;\n    }\n\n    .dataframe thead th {\n        text-align: right;\n    }\n</style>\n<table border=\"1\" class=\"dataframe\">\n  <thead>\n    <tr style=\"text-align: right;\">\n      <th></th>\n      <th>course_name</th>\n      <th>level</th>\n      <th>label</th>\n      <th>tokenized</th>\n      <th>clean_document</th>\n      <th>cluster</th>\n    </tr>\n    <tr>\n      <th>course_id</th>\n      <th></th>\n      <th></th>\n      <th></th>\n      <th></th>\n      <th></th>\n      <th></th>\n    </tr>\n  </thead>\n  <tbody>\n    <tr>\n      <th>8082</th>\n      <td>Ruby Programming for Beginners</td>\n      <td>All Levels</td>\n      <td>Ruby</td>\n      <td>[ruby, programming, beginners]</td>\n      <td>ruby programming beginners</td>\n      <td>231</td>\n    </tr>\n    <tr>\n      <th>8203</th>\n      <td>Basic and Advanced HTML Lessons</td>\n      <td>All Levels</td>\n      <td>HTML</td>\n      <td>[basic, advanced, html, lessons]</td>\n      <td>basic advanced html lessons</td>\n      <td>221</td>\n    </tr>\n    <tr>\n      <th>8319</th>\n      <td>Git Basics: In Theory and Practice</td>\n      <td>All Levels</td>\n      <td>Git</td>\n      <td>[git, basics, in, theory, practice]</td>\n      <td>git basics in theory practice</td>\n      <td>113</td>\n    </tr>\n    <tr>\n      <th>8324</th>\n      <td>Javascript for Beginners</td>\n      <td>All Levels</td>\n      <td>JavaScript</td>\n      <td>[javascript, beginners]</td>\n      <td>javascript beginners</td>\n      <td>33</td>\n    </tr>\n    <tr>\n      <th>8325</th>\n      <td>HTML Tutorial: HTML &amp; CSS for Beginners</td>\n      <td>All Levels</td>\n      <td>HTML</td>\n      <td>[html, tutorial, html, css, beginners]</td>\n      <td>html tutorial html css beginners</td>\n      <td>129</td>\n    </tr>\n    <tr>\n      <th>8416</th>\n      <td>Beginners - How To Create iPhone And iPad Apps...</td>\n      <td>All Levels</td>\n      <td>iOS Development</td>\n      <td>[beginners, how, to, create, iphone, and, ipad...</td>\n      <td>beginners how to create iphone and ipad apps z...</td>\n      <td>94</td>\n    </tr>\n    <tr>\n      <th>9463</th>\n      <td>Programming Java for Beginners - The Ultimate ...</td>\n      <td>All Levels</td>\n      <td>Java</td>\n      <td>[programming, java, beginners, the, ultimate, ...</td>\n      <td>programming java beginners the ultimate java t...</td>\n      <td>176</td>\n    </tr>\n    <tr>\n      <th>10321</th>\n      <td>Learn to Program with C++</td>\n      <td>All Levels</td>\n      <td>C</td>\n      <td>[learn, program, c++]</td>\n      <td>learn program c++</td>\n      <td>138</td>\n    </tr>\n    <tr>\n      <th>10620</th>\n      <td>Practical Transformation Using XSLT and XPath ...</td>\n      <td>All Levels</td>\n      <td>XSLT</td>\n      <td>[practical, transformation, using, xslt, xpath...</td>\n      <td>practical transformation using xslt xpath 5 ho...</td>\n      <td>68</td>\n    </tr>\n    <tr>\n      <th>10629</th>\n      <td>Introduction to Microsoft SQL Server Databases</td>\n      <td>All Levels</td>\n      <td>Microsoft SQL</td>\n      <td>[introduction, microsoft, sql, server, databases]</td>\n      <td>introduction microsoft sql server databases</td>\n      <td>14</td>\n    </tr>\n  </tbody>\n</table>\n</div>"
     },
     "execution_count": 41,
     "metadata": {},
     "output_type": "execute_result"
    }
   ],
   "source": [
    "course.head(10)"
   ],
   "metadata": {
    "collapsed": false,
    "pycharm": {
     "name": "#%%\n"
    }
   }
  },
  {
   "cell_type": "code",
   "execution_count": 26,
   "outputs": [
    {
     "data": {
      "text/plain": "         course_name  level  label  tokenized  clean_document\ncluster                                                      \n0                 80     80     80         80              80\n1                 45     45     45         45              45\n2                159    159    159        159             159\n3                135    135    135        135             135\n4                  7      7      7          7               7\n...              ...    ...    ...        ...             ...\n245                9      9      9          9               9\n246               19     19     19         19              19\n247               13     13     13         13              13\n248               92     92     92         92              92\n249               20     20     20         20              20\n\n[250 rows x 5 columns]",
      "text/html": "<div>\n<style scoped>\n    .dataframe tbody tr th:only-of-type {\n        vertical-align: middle;\n    }\n\n    .dataframe tbody tr th {\n        vertical-align: top;\n    }\n\n    .dataframe thead th {\n        text-align: right;\n    }\n</style>\n<table border=\"1\" class=\"dataframe\">\n  <thead>\n    <tr style=\"text-align: right;\">\n      <th></th>\n      <th>course_name</th>\n      <th>level</th>\n      <th>label</th>\n      <th>tokenized</th>\n      <th>clean_document</th>\n    </tr>\n    <tr>\n      <th>cluster</th>\n      <th></th>\n      <th></th>\n      <th></th>\n      <th></th>\n      <th></th>\n    </tr>\n  </thead>\n  <tbody>\n    <tr>\n      <th>0</th>\n      <td>80</td>\n      <td>80</td>\n      <td>80</td>\n      <td>80</td>\n      <td>80</td>\n    </tr>\n    <tr>\n      <th>1</th>\n      <td>45</td>\n      <td>45</td>\n      <td>45</td>\n      <td>45</td>\n      <td>45</td>\n    </tr>\n    <tr>\n      <th>2</th>\n      <td>159</td>\n      <td>159</td>\n      <td>159</td>\n      <td>159</td>\n      <td>159</td>\n    </tr>\n    <tr>\n      <th>3</th>\n      <td>135</td>\n      <td>135</td>\n      <td>135</td>\n      <td>135</td>\n      <td>135</td>\n    </tr>\n    <tr>\n      <th>4</th>\n      <td>7</td>\n      <td>7</td>\n      <td>7</td>\n      <td>7</td>\n      <td>7</td>\n    </tr>\n    <tr>\n      <th>...</th>\n      <td>...</td>\n      <td>...</td>\n      <td>...</td>\n      <td>...</td>\n      <td>...</td>\n    </tr>\n    <tr>\n      <th>245</th>\n      <td>9</td>\n      <td>9</td>\n      <td>9</td>\n      <td>9</td>\n      <td>9</td>\n    </tr>\n    <tr>\n      <th>246</th>\n      <td>19</td>\n      <td>19</td>\n      <td>19</td>\n      <td>19</td>\n      <td>19</td>\n    </tr>\n    <tr>\n      <th>247</th>\n      <td>13</td>\n      <td>13</td>\n      <td>13</td>\n      <td>13</td>\n      <td>13</td>\n    </tr>\n    <tr>\n      <th>248</th>\n      <td>92</td>\n      <td>92</td>\n      <td>92</td>\n      <td>92</td>\n      <td>92</td>\n    </tr>\n    <tr>\n      <th>249</th>\n      <td>20</td>\n      <td>20</td>\n      <td>20</td>\n      <td>20</td>\n      <td>20</td>\n    </tr>\n  </tbody>\n</table>\n<p>250 rows × 5 columns</p>\n</div>"
     },
     "execution_count": 26,
     "metadata": {},
     "output_type": "execute_result"
    }
   ],
   "source": [
    "course.groupby('cluster').count()"
   ],
   "metadata": {
    "collapsed": false,
    "pycharm": {
     "name": "#%%\n"
    }
   }
  },
  {
   "cell_type": "code",
   "execution_count": 42,
   "outputs": [],
   "source": [
    "# Recommend 5 most similar course\n",
    "def recommend_course(course_name):\n",
    "    course_name = nlp(course_name)\n",
    "    course_name = [token.text for token in course_name if token.text not in STOP_WORDS]\n",
    "    course_name = [token for token in course_name if token not in string.punctuation]\n",
    "    clean_course_name = \" \".join([token.lower() for token in course_name])\n",
    "    course_name_vector = vectorizer.transform([clean_course_name])\n",
    "    predicted_cluster = cls.predict(course_name_vector)[0]\n",
    "    similar_courses = course[course['cluster'] == predicted_cluster]\n",
    "    return similar_courses.sample(n=5, replace=True)"
   ],
   "metadata": {
    "collapsed": false,
    "pycharm": {
     "name": "#%%\n"
    }
   }
  },
  {
   "cell_type": "code",
   "execution_count": 43,
   "outputs": [
    {
     "data": {
      "text/plain": "                                                 course_name     level  \\\ncourse_id                                                                \n1100784      BenchMarking AVRO JSON ORC PARQUET FILE FORMATS  Beginner   \n920126     JavaScript Dynamic Quiz Application from Scrat...  Beginner   \n874842     How to use JavaScript Objects JSON AJAX explained  Beginner   \n874842     How to use JavaScript Objects JSON AJAX explained  Beginner   \n1587422    Complete JSON AJAX API Course - Beginner to Pr...  Beginner   \n\n                label                                          tokenized  \\\ncourse_id                                                                  \n1100784        Hadoop  [benchmarking, avro, json, orc, parquet, file,...   \n920126     JavaScript  [javascript, dynamic, quiz, application, scrat...   \n874842           AJAX  [how, use, javascript, objects, json, ajax, ex...   \n874842           AJAX  [how, use, javascript, objects, json, ajax, ex...   \n1587422          AJAX  [complete, json, ajax, api, course, beginner, ...   \n\n                                              clean_document  cluster  \ncourse_id                                                              \n1100784      benchmarking avro json orc parquet file formats      175  \n920126     javascript dynamic quiz application scratch js...      175  \n874842        how use javascript objects json ajax explained      175  \n874842        how use javascript objects json ajax explained      175  \n1587422    complete json ajax api course beginner profess...      175  ",
      "text/html": "<div>\n<style scoped>\n    .dataframe tbody tr th:only-of-type {\n        vertical-align: middle;\n    }\n\n    .dataframe tbody tr th {\n        vertical-align: top;\n    }\n\n    .dataframe thead th {\n        text-align: right;\n    }\n</style>\n<table border=\"1\" class=\"dataframe\">\n  <thead>\n    <tr style=\"text-align: right;\">\n      <th></th>\n      <th>course_name</th>\n      <th>level</th>\n      <th>label</th>\n      <th>tokenized</th>\n      <th>clean_document</th>\n      <th>cluster</th>\n    </tr>\n    <tr>\n      <th>course_id</th>\n      <th></th>\n      <th></th>\n      <th></th>\n      <th></th>\n      <th></th>\n      <th></th>\n    </tr>\n  </thead>\n  <tbody>\n    <tr>\n      <th>1100784</th>\n      <td>BenchMarking AVRO JSON ORC PARQUET FILE FORMATS</td>\n      <td>Beginner</td>\n      <td>Hadoop</td>\n      <td>[benchmarking, avro, json, orc, parquet, file,...</td>\n      <td>benchmarking avro json orc parquet file formats</td>\n      <td>175</td>\n    </tr>\n    <tr>\n      <th>920126</th>\n      <td>JavaScript Dynamic Quiz Application from Scrat...</td>\n      <td>Beginner</td>\n      <td>JavaScript</td>\n      <td>[javascript, dynamic, quiz, application, scrat...</td>\n      <td>javascript dynamic quiz application scratch js...</td>\n      <td>175</td>\n    </tr>\n    <tr>\n      <th>874842</th>\n      <td>How to use JavaScript Objects JSON AJAX explained</td>\n      <td>Beginner</td>\n      <td>AJAX</td>\n      <td>[how, use, javascript, objects, json, ajax, ex...</td>\n      <td>how use javascript objects json ajax explained</td>\n      <td>175</td>\n    </tr>\n    <tr>\n      <th>874842</th>\n      <td>How to use JavaScript Objects JSON AJAX explained</td>\n      <td>Beginner</td>\n      <td>AJAX</td>\n      <td>[how, use, javascript, objects, json, ajax, ex...</td>\n      <td>how use javascript objects json ajax explained</td>\n      <td>175</td>\n    </tr>\n    <tr>\n      <th>1587422</th>\n      <td>Complete JSON AJAX API Course - Beginner to Pr...</td>\n      <td>Beginner</td>\n      <td>AJAX</td>\n      <td>[complete, json, ajax, api, course, beginner, ...</td>\n      <td>complete json ajax api course beginner profess...</td>\n      <td>175</td>\n    </tr>\n  </tbody>\n</table>\n</div>"
     },
     "execution_count": 43,
     "metadata": {},
     "output_type": "execute_result"
    }
   ],
   "source": [
    "recommend_course('python')"
   ],
   "metadata": {
    "collapsed": false,
    "pycharm": {
     "name": "#%%\n"
    }
   }
  },
  {
   "cell_type": "code",
   "execution_count": 44,
   "outputs": [
    {
     "data": {
      "text/plain": "                                                 course_name         level  \\\ncourse_id                                                                    \n1355438    Ionic & Angular JS: Principles Of Mobile and W...      Beginner   \n1069426            Angular 2 Web Development with TypeScript  Intermediate   \n549064     Web Development Tools the Pros Use: Code Produ...      Beginner   \n1426718    Complete Responsive Web Development: 4 courses...    All Levels   \n870040                        Learning Scala Web Development      Beginner   \n\n                               label  \\\ncourse_id                              \n1355438                        Ionic   \n1069426                   Typescript   \n549064               Web Development   \n1426718    Front End Web Development   \n870040                         Scala   \n\n                                                   tokenized  \\\ncourse_id                                                      \n1355438    [ionic, angular, js, principles, of, mobile, w...   \n1069426           [angular, 2, web, development, typescript]   \n549064     [web, development, tools, pros, use, code, pro...   \n1426718    [complete, responsive, web, development, 4, co...   \n870040                   [learning, scala, web, development]   \n\n                                              clean_document  cluster  \ncourse_id                                                              \n1355438    ionic angular js principles of mobile web deve...       66  \n1069426                 angular 2 web development typescript       66  \n549064     web development tools pros use code productivi...       66  \n1426718      complete responsive web development 4 courses 1       66  \n870040                        learning scala web development       66  ",
      "text/html": "<div>\n<style scoped>\n    .dataframe tbody tr th:only-of-type {\n        vertical-align: middle;\n    }\n\n    .dataframe tbody tr th {\n        vertical-align: top;\n    }\n\n    .dataframe thead th {\n        text-align: right;\n    }\n</style>\n<table border=\"1\" class=\"dataframe\">\n  <thead>\n    <tr style=\"text-align: right;\">\n      <th></th>\n      <th>course_name</th>\n      <th>level</th>\n      <th>label</th>\n      <th>tokenized</th>\n      <th>clean_document</th>\n      <th>cluster</th>\n    </tr>\n    <tr>\n      <th>course_id</th>\n      <th></th>\n      <th></th>\n      <th></th>\n      <th></th>\n      <th></th>\n      <th></th>\n    </tr>\n  </thead>\n  <tbody>\n    <tr>\n      <th>1355438</th>\n      <td>Ionic &amp; Angular JS: Principles Of Mobile and W...</td>\n      <td>Beginner</td>\n      <td>Ionic</td>\n      <td>[ionic, angular, js, principles, of, mobile, w...</td>\n      <td>ionic angular js principles of mobile web deve...</td>\n      <td>66</td>\n    </tr>\n    <tr>\n      <th>1069426</th>\n      <td>Angular 2 Web Development with TypeScript</td>\n      <td>Intermediate</td>\n      <td>Typescript</td>\n      <td>[angular, 2, web, development, typescript]</td>\n      <td>angular 2 web development typescript</td>\n      <td>66</td>\n    </tr>\n    <tr>\n      <th>549064</th>\n      <td>Web Development Tools the Pros Use: Code Produ...</td>\n      <td>Beginner</td>\n      <td>Web Development</td>\n      <td>[web, development, tools, pros, use, code, pro...</td>\n      <td>web development tools pros use code productivi...</td>\n      <td>66</td>\n    </tr>\n    <tr>\n      <th>1426718</th>\n      <td>Complete Responsive Web Development: 4 courses...</td>\n      <td>All Levels</td>\n      <td>Front End Web Development</td>\n      <td>[complete, responsive, web, development, 4, co...</td>\n      <td>complete responsive web development 4 courses 1</td>\n      <td>66</td>\n    </tr>\n    <tr>\n      <th>870040</th>\n      <td>Learning Scala Web Development</td>\n      <td>Beginner</td>\n      <td>Scala</td>\n      <td>[learning, scala, web, development]</td>\n      <td>learning scala web development</td>\n      <td>66</td>\n    </tr>\n  </tbody>\n</table>\n</div>"
     },
     "execution_count": 44,
     "metadata": {},
     "output_type": "execute_result"
    }
   ],
   "source": [
    "recommend_course('machine learning')"
   ],
   "metadata": {
    "collapsed": false,
    "pycharm": {
     "name": "#%%\n"
    }
   }
  },
  {
   "cell_type": "code",
   "execution_count": 31,
   "outputs": [
    {
     "data": {
      "text/plain": "                                                 course_name       level  \\\ncourse_id                                                                  \n1499990    Basic Statistics and Data Mining for Data Science    Beginner   \n1781254     Introduction To Data Science Using R Programming  All Levels   \n1164440    Learning Path: Julia: Explore Data Science wit...    Beginner   \n2016036                              Python for Data Science    Beginner   \n1781254     Introduction To Data Science Using R Programming  All Levels   \n\n                  label                                          tokenized  \\\ncourse_id                                                                    \n1499990    Data Science   [basic, statistics, data, mining, data, science]   \n1781254    Data Science  [introduction, to, data, science, using, r, pr...   \n1164440    Data Science  [learning, path, julia, explore, data, science...   \n2016036          Python                            [python, data, science]   \n1781254    Data Science  [introduction, to, data, science, using, r, pr...   \n\n                                             clean_document  cluster  \ncourse_id                                                             \n1499990           basic statistics data mining data science       30  \n1781254    introduction to data science using r programming       30  \n1164440      learning path julia explore data science julia       30  \n2016036                                 python data science       30  \n1781254    introduction to data science using r programming       30  ",
      "text/html": "<div>\n<style scoped>\n    .dataframe tbody tr th:only-of-type {\n        vertical-align: middle;\n    }\n\n    .dataframe tbody tr th {\n        vertical-align: top;\n    }\n\n    .dataframe thead th {\n        text-align: right;\n    }\n</style>\n<table border=\"1\" class=\"dataframe\">\n  <thead>\n    <tr style=\"text-align: right;\">\n      <th></th>\n      <th>course_name</th>\n      <th>level</th>\n      <th>label</th>\n      <th>tokenized</th>\n      <th>clean_document</th>\n      <th>cluster</th>\n    </tr>\n    <tr>\n      <th>course_id</th>\n      <th></th>\n      <th></th>\n      <th></th>\n      <th></th>\n      <th></th>\n      <th></th>\n    </tr>\n  </thead>\n  <tbody>\n    <tr>\n      <th>1499990</th>\n      <td>Basic Statistics and Data Mining for Data Science</td>\n      <td>Beginner</td>\n      <td>Data Science</td>\n      <td>[basic, statistics, data, mining, data, science]</td>\n      <td>basic statistics data mining data science</td>\n      <td>30</td>\n    </tr>\n    <tr>\n      <th>1781254</th>\n      <td>Introduction To Data Science Using R Programming</td>\n      <td>All Levels</td>\n      <td>Data Science</td>\n      <td>[introduction, to, data, science, using, r, pr...</td>\n      <td>introduction to data science using r programming</td>\n      <td>30</td>\n    </tr>\n    <tr>\n      <th>1164440</th>\n      <td>Learning Path: Julia: Explore Data Science wit...</td>\n      <td>Beginner</td>\n      <td>Data Science</td>\n      <td>[learning, path, julia, explore, data, science...</td>\n      <td>learning path julia explore data science julia</td>\n      <td>30</td>\n    </tr>\n    <tr>\n      <th>2016036</th>\n      <td>Python for Data Science</td>\n      <td>Beginner</td>\n      <td>Python</td>\n      <td>[python, data, science]</td>\n      <td>python data science</td>\n      <td>30</td>\n    </tr>\n    <tr>\n      <th>1781254</th>\n      <td>Introduction To Data Science Using R Programming</td>\n      <td>All Levels</td>\n      <td>Data Science</td>\n      <td>[introduction, to, data, science, using, r, pr...</td>\n      <td>introduction to data science using r programming</td>\n      <td>30</td>\n    </tr>\n  </tbody>\n</table>\n</div>"
     },
     "execution_count": 31,
     "metadata": {},
     "output_type": "execute_result"
    }
   ],
   "source": [
    "recommend_course('data science')"
   ],
   "metadata": {
    "collapsed": false,
    "pycharm": {
     "name": "#%%\n"
    }
   }
  },
  {
   "cell_type": "code",
   "execution_count": 32,
   "outputs": [
    {
     "data": {
      "text/plain": "                                                 course_name     level  \\\ncourse_id                                                                \n1343064    Learning Path:Swift: Protocol-Oriented Program...  Beginner   \n1310712    Learning Path: OpenCV: Image Processing with O...  Beginner   \n1089456                         Learning Path: Modern DevOps    Expert   \n1310712    Learning Path: OpenCV: Image Processing with O...  Beginner   \n1291840    Learning Path: MongoDB: Backend Programming wi...    Expert   \n\n             label                                          tokenized  \\\ncourse_id                                                               \n1343064      Swift  [learning, path, swift, protocol, oriented, pr...   \n1310712     OpenCV  [learning, path, opencv, image, processing, op...   \n1089456     DevOps                   [learning, path, modern, devops]   \n1310712     OpenCV  [learning, path, opencv, image, processing, op...   \n1291840    MongoDB  [learning, path, mongodb, backend, programming...   \n\n                                              clean_document  cluster  \ncourse_id                                                              \n1343064    learning path swift protocol oriented programming       23  \n1310712       learning path opencv image processing opencv 3       23  \n1089456                          learning path modern devops       23  \n1310712       learning path opencv image processing opencv 3       23  \n1291840    learning path mongodb backend programming mongodb       23  ",
      "text/html": "<div>\n<style scoped>\n    .dataframe tbody tr th:only-of-type {\n        vertical-align: middle;\n    }\n\n    .dataframe tbody tr th {\n        vertical-align: top;\n    }\n\n    .dataframe thead th {\n        text-align: right;\n    }\n</style>\n<table border=\"1\" class=\"dataframe\">\n  <thead>\n    <tr style=\"text-align: right;\">\n      <th></th>\n      <th>course_name</th>\n      <th>level</th>\n      <th>label</th>\n      <th>tokenized</th>\n      <th>clean_document</th>\n      <th>cluster</th>\n    </tr>\n    <tr>\n      <th>course_id</th>\n      <th></th>\n      <th></th>\n      <th></th>\n      <th></th>\n      <th></th>\n      <th></th>\n    </tr>\n  </thead>\n  <tbody>\n    <tr>\n      <th>1343064</th>\n      <td>Learning Path:Swift: Protocol-Oriented Program...</td>\n      <td>Beginner</td>\n      <td>Swift</td>\n      <td>[learning, path, swift, protocol, oriented, pr...</td>\n      <td>learning path swift protocol oriented programming</td>\n      <td>23</td>\n    </tr>\n    <tr>\n      <th>1310712</th>\n      <td>Learning Path: OpenCV: Image Processing with O...</td>\n      <td>Beginner</td>\n      <td>OpenCV</td>\n      <td>[learning, path, opencv, image, processing, op...</td>\n      <td>learning path opencv image processing opencv 3</td>\n      <td>23</td>\n    </tr>\n    <tr>\n      <th>1089456</th>\n      <td>Learning Path: Modern DevOps</td>\n      <td>Expert</td>\n      <td>DevOps</td>\n      <td>[learning, path, modern, devops]</td>\n      <td>learning path modern devops</td>\n      <td>23</td>\n    </tr>\n    <tr>\n      <th>1310712</th>\n      <td>Learning Path: OpenCV: Image Processing with O...</td>\n      <td>Beginner</td>\n      <td>OpenCV</td>\n      <td>[learning, path, opencv, image, processing, op...</td>\n      <td>learning path opencv image processing opencv 3</td>\n      <td>23</td>\n    </tr>\n    <tr>\n      <th>1291840</th>\n      <td>Learning Path: MongoDB: Backend Programming wi...</td>\n      <td>Expert</td>\n      <td>MongoDB</td>\n      <td>[learning, path, mongodb, backend, programming...</td>\n      <td>learning path mongodb backend programming mongodb</td>\n      <td>23</td>\n    </tr>\n  </tbody>\n</table>\n</div>"
     },
     "execution_count": 32,
     "metadata": {},
     "output_type": "execute_result"
    }
   ],
   "source": [
    "recommend_course('data analysis')"
   ],
   "metadata": {
    "collapsed": false,
    "pycharm": {
     "name": "#%%\n"
    }
   }
  },
  {
   "cell_type": "code",
   "execution_count": 33,
   "outputs": [
    {
     "data": {
      "text/plain": "                                                 course_name         level  \\\ncourse_id                                                                    \n2334226            Internet and Web Development Fundamentals      Beginner   \n2448610                       CSS in Web Development in 2020    All Levels   \n1636712                        Wordpress for Web Development  Intermediate   \n1894324    Django 2.1 - Python Web Development for Beginners      Beginner   \n1915388     How To Create Your Own Website (Web Development)      Beginner   \n\n                     label                                          tokenized  \\\ncourse_id                                                                       \n2334226    Web Development         [internet, web, development, fundamentals]   \n2448610                CSS                      [css, web, development, 2020]   \n1636712          WordPress                      [wordpress, web, development]   \n1894324             Django  [django, 2.1, python, web, development, beginn...   \n1915388          WordPress  [how, to, create, your, own, website, web, dev...   \n\n                                           clean_document  cluster  \ncourse_id                                                           \n2334226             internet web development fundamentals       66  \n2448610                          css web development 2020       66  \n1636712                         wordpress web development       66  \n1894324       django 2.1 python web development beginners       66  \n1915388    how to create your own website web development       66  ",
      "text/html": "<div>\n<style scoped>\n    .dataframe tbody tr th:only-of-type {\n        vertical-align: middle;\n    }\n\n    .dataframe tbody tr th {\n        vertical-align: top;\n    }\n\n    .dataframe thead th {\n        text-align: right;\n    }\n</style>\n<table border=\"1\" class=\"dataframe\">\n  <thead>\n    <tr style=\"text-align: right;\">\n      <th></th>\n      <th>course_name</th>\n      <th>level</th>\n      <th>label</th>\n      <th>tokenized</th>\n      <th>clean_document</th>\n      <th>cluster</th>\n    </tr>\n    <tr>\n      <th>course_id</th>\n      <th></th>\n      <th></th>\n      <th></th>\n      <th></th>\n      <th></th>\n      <th></th>\n    </tr>\n  </thead>\n  <tbody>\n    <tr>\n      <th>2334226</th>\n      <td>Internet and Web Development Fundamentals</td>\n      <td>Beginner</td>\n      <td>Web Development</td>\n      <td>[internet, web, development, fundamentals]</td>\n      <td>internet web development fundamentals</td>\n      <td>66</td>\n    </tr>\n    <tr>\n      <th>2448610</th>\n      <td>CSS in Web Development in 2020</td>\n      <td>All Levels</td>\n      <td>CSS</td>\n      <td>[css, web, development, 2020]</td>\n      <td>css web development 2020</td>\n      <td>66</td>\n    </tr>\n    <tr>\n      <th>1636712</th>\n      <td>Wordpress for Web Development</td>\n      <td>Intermediate</td>\n      <td>WordPress</td>\n      <td>[wordpress, web, development]</td>\n      <td>wordpress web development</td>\n      <td>66</td>\n    </tr>\n    <tr>\n      <th>1894324</th>\n      <td>Django 2.1 - Python Web Development for Beginners</td>\n      <td>Beginner</td>\n      <td>Django</td>\n      <td>[django, 2.1, python, web, development, beginn...</td>\n      <td>django 2.1 python web development beginners</td>\n      <td>66</td>\n    </tr>\n    <tr>\n      <th>1915388</th>\n      <td>How To Create Your Own Website (Web Development)</td>\n      <td>Beginner</td>\n      <td>WordPress</td>\n      <td>[how, to, create, your, own, website, web, dev...</td>\n      <td>how to create your own website web development</td>\n      <td>66</td>\n    </tr>\n  </tbody>\n</table>\n</div>"
     },
     "execution_count": 33,
     "metadata": {},
     "output_type": "execute_result"
    }
   ],
   "source": [
    "recommend_course('web development')"
   ],
   "metadata": {
    "collapsed": false,
    "pycharm": {
     "name": "#%%\n"
    }
   }
  },
  {
   "cell_type": "code",
   "execution_count": 34,
   "outputs": [
    {
     "data": {
      "text/plain": "                                                 course_name       level  \\\ncourse_id                                                                  \n84918                           Simple Contact Form with PHP  All Levels   \n472526     PHP for Beginners 2019 Part 1: every line of c...    Beginner   \n1137010             Complete Beginners Guide to Learning PHP    Beginner   \n1896094    Programming a free business site from scratch ...  All Levels   \n249580                  Understanding PHP Data Objects (PDO)    Beginner   \n\n          label                                          tokenized  \\\ncourse_id                                                            \n84918       PHP                       [simple, contact, form, php]   \n472526      PHP  [php, beginners, 2019, part, 1, line, code, ex...   \n1137010     PHP        [complete, beginners, guide, learning, php]   \n1896094     PHP  [programming, free, business, site, scratch, p...   \n249580      PHP           [understanding, php, data, objects, pdo]   \n\n                                            clean_document  cluster  \ncourse_id                                                            \n84918                              simple contact form php        0  \n472526       php beginners 2019 part 1 line code explained        0  \n1137010              complete beginners guide learning php        0  \n1896094    programming free business site scratch php lang        0  \n249580                  understanding php data objects pdo        0  ",
      "text/html": "<div>\n<style scoped>\n    .dataframe tbody tr th:only-of-type {\n        vertical-align: middle;\n    }\n\n    .dataframe tbody tr th {\n        vertical-align: top;\n    }\n\n    .dataframe thead th {\n        text-align: right;\n    }\n</style>\n<table border=\"1\" class=\"dataframe\">\n  <thead>\n    <tr style=\"text-align: right;\">\n      <th></th>\n      <th>course_name</th>\n      <th>level</th>\n      <th>label</th>\n      <th>tokenized</th>\n      <th>clean_document</th>\n      <th>cluster</th>\n    </tr>\n    <tr>\n      <th>course_id</th>\n      <th></th>\n      <th></th>\n      <th></th>\n      <th></th>\n      <th></th>\n      <th></th>\n    </tr>\n  </thead>\n  <tbody>\n    <tr>\n      <th>84918</th>\n      <td>Simple Contact Form with PHP</td>\n      <td>All Levels</td>\n      <td>PHP</td>\n      <td>[simple, contact, form, php]</td>\n      <td>simple contact form php</td>\n      <td>0</td>\n    </tr>\n    <tr>\n      <th>472526</th>\n      <td>PHP for Beginners 2019 Part 1: every line of c...</td>\n      <td>Beginner</td>\n      <td>PHP</td>\n      <td>[php, beginners, 2019, part, 1, line, code, ex...</td>\n      <td>php beginners 2019 part 1 line code explained</td>\n      <td>0</td>\n    </tr>\n    <tr>\n      <th>1137010</th>\n      <td>Complete Beginners Guide to Learning PHP</td>\n      <td>Beginner</td>\n      <td>PHP</td>\n      <td>[complete, beginners, guide, learning, php]</td>\n      <td>complete beginners guide learning php</td>\n      <td>0</td>\n    </tr>\n    <tr>\n      <th>1896094</th>\n      <td>Programming a free business site from scratch ...</td>\n      <td>All Levels</td>\n      <td>PHP</td>\n      <td>[programming, free, business, site, scratch, p...</td>\n      <td>programming free business site scratch php lang</td>\n      <td>0</td>\n    </tr>\n    <tr>\n      <th>249580</th>\n      <td>Understanding PHP Data Objects (PDO)</td>\n      <td>Beginner</td>\n      <td>PHP</td>\n      <td>[understanding, php, data, objects, pdo]</td>\n      <td>understanding php data objects pdo</td>\n      <td>0</td>\n    </tr>\n  </tbody>\n</table>\n</div>"
     },
     "execution_count": 34,
     "metadata": {},
     "output_type": "execute_result"
    }
   ],
   "source": [
    "recommend_course('php')"
   ],
   "metadata": {
    "collapsed": false,
    "pycharm": {
     "name": "#%%\n"
    }
   }
  },
  {
   "cell_type": "code",
   "execution_count": 35,
   "outputs": [
    {
     "data": {
      "text/plain": "                                                 course_name         level  \\\ncourse_id                                                                    \n1620232               High Performance Applications with C++        Expert   \n1767564                         C# 7 and .NET Core Solutions  Intermediate   \n2045744                       C# and .NET Core for Beginners      Beginner   \n1750978        .Net Core Implementation + Standard Libraries      Beginner   \n1597306    Learning Path: C++: High Performance applicati...      Beginner   \n\n                  label                                          tokenized  \\\ncourse_id                                                                    \n1620232             C++             [high, performance, applications, c++]   \n1767564    ASP.NET Core                      [c, 7, .net, core, solutions]   \n2045744              C#                         [c, .net, core, beginners]   \n1750978    ASP.NET Core  [.net, core, implementation, standard, libraries]   \n1597306             C++  [learning, path, c++, high, performance, appli...   \n\n                                              clean_document  cluster  \ncourse_id                                                              \n1620232                    high performance applications c++       47  \n1767564                              c 7 .net core solutions       47  \n2045744                                c .net core beginners       47  \n1750978          .net core implementation standard libraries       47  \n1597306    learning path c++ high performance application...       47  ",
      "text/html": "<div>\n<style scoped>\n    .dataframe tbody tr th:only-of-type {\n        vertical-align: middle;\n    }\n\n    .dataframe tbody tr th {\n        vertical-align: top;\n    }\n\n    .dataframe thead th {\n        text-align: right;\n    }\n</style>\n<table border=\"1\" class=\"dataframe\">\n  <thead>\n    <tr style=\"text-align: right;\">\n      <th></th>\n      <th>course_name</th>\n      <th>level</th>\n      <th>label</th>\n      <th>tokenized</th>\n      <th>clean_document</th>\n      <th>cluster</th>\n    </tr>\n    <tr>\n      <th>course_id</th>\n      <th></th>\n      <th></th>\n      <th></th>\n      <th></th>\n      <th></th>\n      <th></th>\n    </tr>\n  </thead>\n  <tbody>\n    <tr>\n      <th>1620232</th>\n      <td>High Performance Applications with C++</td>\n      <td>Expert</td>\n      <td>C++</td>\n      <td>[high, performance, applications, c++]</td>\n      <td>high performance applications c++</td>\n      <td>47</td>\n    </tr>\n    <tr>\n      <th>1767564</th>\n      <td>C# 7 and .NET Core Solutions</td>\n      <td>Intermediate</td>\n      <td>ASP.NET Core</td>\n      <td>[c, 7, .net, core, solutions]</td>\n      <td>c 7 .net core solutions</td>\n      <td>47</td>\n    </tr>\n    <tr>\n      <th>2045744</th>\n      <td>C# and .NET Core for Beginners</td>\n      <td>Beginner</td>\n      <td>C#</td>\n      <td>[c, .net, core, beginners]</td>\n      <td>c .net core beginners</td>\n      <td>47</td>\n    </tr>\n    <tr>\n      <th>1750978</th>\n      <td>.Net Core Implementation + Standard Libraries</td>\n      <td>Beginner</td>\n      <td>ASP.NET Core</td>\n      <td>[.net, core, implementation, standard, libraries]</td>\n      <td>.net core implementation standard libraries</td>\n      <td>47</td>\n    </tr>\n    <tr>\n      <th>1597306</th>\n      <td>Learning Path: C++: High Performance applicati...</td>\n      <td>Beginner</td>\n      <td>C++</td>\n      <td>[learning, path, c++, high, performance, appli...</td>\n      <td>learning path c++ high performance application...</td>\n      <td>47</td>\n    </tr>\n  </tbody>\n</table>\n</div>"
     },
     "execution_count": 35,
     "metadata": {},
     "output_type": "execute_result"
    }
   ],
   "source": [
    "recommend_course('.net')"
   ],
   "metadata": {
    "collapsed": false,
    "pycharm": {
     "name": "#%%\n"
    }
   }
  },
  {
   "cell_type": "code",
   "execution_count": 38,
   "outputs": [
    {
     "data": {
      "text/plain": "                                                 course_name         level  \\\ncourse_id                                                                    \n616854     The Ultimate Data Manipulation Course using SA...  Intermediate   \n2303174    3Ds Max Game Modeling: Complete 3D Modeling in...    All Levels   \n1767160                              Dynamic Programming - I    All Levels   \n2291985    Learning to use the Arduino IoT Cloud to build...      Beginner   \n939452      How to solve the logic puzzles on IT interviews?    All Levels   \n\n                         label  \\\ncourse_id                        \n616854                     SAS   \n2303174                3ds Max   \n1767160    Dynamic Programming   \n2291985     Internet Of Things   \n939452     Interviewing Skills   \n\n                                                   tokenized  \\\ncourse_id                                                      \n616854     [the, ultimate, data, manipulation, course, sa...   \n2303174    [3ds, max, game, modeling, complete, 3d, model...   \n1767160                            [dynamic, programming, i]   \n2291985    [learning, use, arduino, iot, cloud, build, io...   \n939452          [how, solve, logic, puzzles, it, interviews]   \n\n                                              clean_document  cluster  \ncourse_id                                                              \n616854     the ultimate data manipulation course sas prog...        6  \n2303174    3ds max game modeling complete 3d modeling 3ds...        6  \n1767160                                dynamic programming i        6  \n2291985    learning use arduino iot cloud build iot projects        6  \n939452                 how solve logic puzzles it interviews        6  ",
      "text/html": "<div>\n<style scoped>\n    .dataframe tbody tr th:only-of-type {\n        vertical-align: middle;\n    }\n\n    .dataframe tbody tr th {\n        vertical-align: top;\n    }\n\n    .dataframe thead th {\n        text-align: right;\n    }\n</style>\n<table border=\"1\" class=\"dataframe\">\n  <thead>\n    <tr style=\"text-align: right;\">\n      <th></th>\n      <th>course_name</th>\n      <th>level</th>\n      <th>label</th>\n      <th>tokenized</th>\n      <th>clean_document</th>\n      <th>cluster</th>\n    </tr>\n    <tr>\n      <th>course_id</th>\n      <th></th>\n      <th></th>\n      <th></th>\n      <th></th>\n      <th></th>\n      <th></th>\n    </tr>\n  </thead>\n  <tbody>\n    <tr>\n      <th>616854</th>\n      <td>The Ultimate Data Manipulation Course using SA...</td>\n      <td>Intermediate</td>\n      <td>SAS</td>\n      <td>[the, ultimate, data, manipulation, course, sa...</td>\n      <td>the ultimate data manipulation course sas prog...</td>\n      <td>6</td>\n    </tr>\n    <tr>\n      <th>2303174</th>\n      <td>3Ds Max Game Modeling: Complete 3D Modeling in...</td>\n      <td>All Levels</td>\n      <td>3ds Max</td>\n      <td>[3ds, max, game, modeling, complete, 3d, model...</td>\n      <td>3ds max game modeling complete 3d modeling 3ds...</td>\n      <td>6</td>\n    </tr>\n    <tr>\n      <th>1767160</th>\n      <td>Dynamic Programming - I</td>\n      <td>All Levels</td>\n      <td>Dynamic Programming</td>\n      <td>[dynamic, programming, i]</td>\n      <td>dynamic programming i</td>\n      <td>6</td>\n    </tr>\n    <tr>\n      <th>2291985</th>\n      <td>Learning to use the Arduino IoT Cloud to build...</td>\n      <td>Beginner</td>\n      <td>Internet Of Things</td>\n      <td>[learning, use, arduino, iot, cloud, build, io...</td>\n      <td>learning use arduino iot cloud build iot projects</td>\n      <td>6</td>\n    </tr>\n    <tr>\n      <th>939452</th>\n      <td>How to solve the logic puzzles on IT interviews?</td>\n      <td>All Levels</td>\n      <td>Interviewing Skills</td>\n      <td>[how, solve, logic, puzzles, it, interviews]</td>\n      <td>how solve logic puzzles it interviews</td>\n      <td>6</td>\n    </tr>\n  </tbody>\n</table>\n</div>"
     },
     "execution_count": 38,
     "metadata": {},
     "output_type": "execute_result"
    }
   ],
   "source": [
    "recommend_course('go')"
   ],
   "metadata": {
    "collapsed": false,
    "pycharm": {
     "name": "#%%\n"
    }
   }
  },
  {
   "cell_type": "code",
   "execution_count": null,
   "outputs": [],
   "source": [
    "from joblib import dump, load\n",
    "dump(cls, 'kmeans.joblib')\n",
    "dump(vectorizer, 'vectorizer.joblib')\n",
    "# export data to csv\n",
    "course.to_csv('kmeans.csv', sep=';', encoding='utf-8')"
   ],
   "metadata": {
    "collapsed": false,
    "pycharm": {
     "name": "#%%\n"
    }
   }
  },
  {
   "cell_type": "markdown",
   "source": [
    "### Affinity propagation clustering"
   ],
   "metadata": {
    "collapsed": false,
    "pycharm": {
     "name": "#%% md\n"
    }
   }
  },
  {
   "cell_type": "code",
   "execution_count": null,
   "outputs": [],
   "source": [
    "cls = AffinityPropagation(damping=0.5, max_iter=300, convergence_iter=20, copy=True, preference=None, affinity='euclidean', verbose=False)"
   ],
   "metadata": {
    "collapsed": false,
    "pycharm": {
     "name": "#%%\n"
    }
   }
  },
  {
   "cell_type": "code",
   "execution_count": null,
   "outputs": [],
   "source": [
    "cls.fit(features)"
   ],
   "metadata": {
    "collapsed": false,
    "pycharm": {
     "name": "#%%\n"
    }
   }
  },
  {
   "cell_type": "code",
   "execution_count": null,
   "outputs": [],
   "source": [
    "course['cluster'] = cls.labels_"
   ],
   "metadata": {
    "collapsed": false,
    "pycharm": {
     "name": "#%%\n"
    }
   }
  },
  {
   "cell_type": "code",
   "execution_count": null,
   "outputs": [],
   "source": [
    "course.groupby('cluster').count()"
   ],
   "metadata": {
    "collapsed": false,
    "pycharm": {
     "name": "#%%\n"
    }
   }
  },
  {
   "cell_type": "code",
   "execution_count": null,
   "outputs": [],
   "source": [
    "recommend_course('python')"
   ],
   "metadata": {
    "collapsed": false,
    "pycharm": {
     "name": "#%%\n"
    }
   }
  },
  {
   "cell_type": "code",
   "execution_count": null,
   "outputs": [],
   "source": [
    "recommend_course('machine learning')"
   ],
   "metadata": {
    "collapsed": false,
    "pycharm": {
     "name": "#%%\n"
    }
   }
  },
  {
   "cell_type": "code",
   "execution_count": null,
   "outputs": [],
   "source": [
    "recommend_course('data science')"
   ],
   "metadata": {
    "collapsed": false,
    "pycharm": {
     "name": "#%%\n"
    }
   }
  },
  {
   "cell_type": "code",
   "execution_count": null,
   "outputs": [],
   "source": [
    "recommend_course('php')"
   ],
   "metadata": {
    "collapsed": false,
    "pycharm": {
     "name": "#%%\n"
    }
   }
  },
  {
   "cell_type": "markdown",
   "source": [
    "### MiniBatchKMeans clustering"
   ],
   "metadata": {
    "collapsed": false,
    "pycharm": {
     "name": "#%% md\n"
    }
   }
  },
  {
   "cell_type": "code",
   "execution_count": null,
   "outputs": [],
   "source": [
    "cls = MiniBatchKMeans(n_clusters=500, random_state=0)"
   ],
   "metadata": {
    "collapsed": false,
    "pycharm": {
     "name": "#%%\n"
    }
   }
  },
  {
   "cell_type": "code",
   "execution_count": null,
   "outputs": [],
   "source": [
    "cls.fit(features)"
   ],
   "metadata": {
    "collapsed": false,
    "pycharm": {
     "name": "#%%\n"
    }
   }
  },
  {
   "cell_type": "code",
   "execution_count": null,
   "outputs": [],
   "source": [
    "course['cluster'] = cls.labels_"
   ],
   "metadata": {
    "collapsed": false,
    "pycharm": {
     "name": "#%%\n"
    }
   }
  },
  {
   "cell_type": "code",
   "execution_count": null,
   "outputs": [],
   "source": [
    "course.groupby('cluster').count()"
   ],
   "metadata": {
    "collapsed": false,
    "pycharm": {
     "name": "#%%\n"
    }
   }
  },
  {
   "cell_type": "code",
   "execution_count": null,
   "outputs": [],
   "source": [
    "recommend_course('python')"
   ],
   "metadata": {
    "collapsed": false,
    "pycharm": {
     "name": "#%%\n"
    }
   }
  },
  {
   "cell_type": "code",
   "execution_count": null,
   "outputs": [],
   "source": [
    "recommend_course('machine learning')"
   ],
   "metadata": {
    "collapsed": false,
    "pycharm": {
     "name": "#%%\n"
    }
   }
  },
  {
   "cell_type": "code",
   "execution_count": null,
   "outputs": [],
   "source": [
    "recommend_course('data science')"
   ],
   "metadata": {
    "collapsed": false,
    "pycharm": {
     "name": "#%%\n"
    }
   }
  },
  {
   "cell_type": "code",
   "execution_count": null,
   "outputs": [],
   "source": [
    "recommend_course('web development')"
   ],
   "metadata": {
    "collapsed": false,
    "pycharm": {
     "name": "#%%\n"
    }
   }
  },
  {
   "cell_type": "markdown",
   "source": [
    "### Birch clustering"
   ],
   "metadata": {
    "collapsed": false,
    "pycharm": {
     "name": "#%% md\n"
    }
   }
  },
  {
   "cell_type": "code",
   "execution_count": null,
   "outputs": [],
   "source": [
    "cls = Birch(n_clusters=500, threshold=0.5, branching_factor=50, compute_labels=True, copy=True)"
   ],
   "metadata": {
    "collapsed": false,
    "pycharm": {
     "name": "#%%\n"
    }
   }
  },
  {
   "cell_type": "code",
   "execution_count": null,
   "outputs": [],
   "source": [
    "cls.fit(features)"
   ],
   "metadata": {
    "collapsed": false,
    "pycharm": {
     "name": "#%%\n"
    }
   }
  },
  {
   "cell_type": "code",
   "execution_count": null,
   "outputs": [],
   "source": [
    "course['cluster'] = cls.labels_"
   ],
   "metadata": {
    "collapsed": false,
    "pycharm": {
     "name": "#%%\n"
    }
   }
  },
  {
   "cell_type": "code",
   "execution_count": null,
   "outputs": [],
   "source": [
    "cls.predict(features)"
   ],
   "metadata": {
    "collapsed": false,
    "pycharm": {
     "name": "#%%\n"
    }
   }
  },
  {
   "cell_type": "markdown",
   "source": [
    "#### Clustering on a 2D dataset"
   ],
   "metadata": {
    "collapsed": false,
    "pycharm": {
     "name": "#%% md\n"
    }
   }
  },
  {
   "cell_type": "code",
   "execution_count": null,
   "outputs": [],
   "source": [
    "pca = PCA(n_components=2)"
   ],
   "metadata": {
    "collapsed": false,
    "pycharm": {
     "name": "#%%\n"
    }
   }
  },
  {
   "cell_type": "code",
   "execution_count": null,
   "outputs": [],
   "source": [
    "reduced_features = pca.fit_transform(features.toarray())"
   ],
   "metadata": {
    "collapsed": false,
    "pycharm": {
     "name": "#%%\n"
    }
   }
  },
  {
   "cell_type": "code",
   "execution_count": null,
   "outputs": [],
   "source": [
    "plt.scatter(reduced_features[:, 0], reduced_features[:, 1], c=cls.labels_)"
   ],
   "metadata": {
    "collapsed": false,
    "pycharm": {
     "name": "#%%\n"
    }
   }
  },
  {
   "cell_type": "markdown",
   "source": [
    "#### Metrics for clustering"
   ],
   "metadata": {
    "collapsed": false,
    "pycharm": {
     "name": "#%% md\n"
    }
   }
  },
  {
   "cell_type": "code",
   "execution_count": null,
   "outputs": [],
   "source": [
    "from sklearn.metrics import silhouette_score\n",
    "silhouette_score(features, labels=cls.predict(features))"
   ],
   "metadata": {
    "collapsed": false,
    "pycharm": {
     "name": "#%%\n"
    }
   }
  },
  {
   "cell_type": "code",
   "execution_count": null,
   "outputs": [],
   "source": [
    "from sklearn.metrics import homogeneity_score\n",
    "homogeneity_score(course.label, cls.predict(features))"
   ],
   "metadata": {
    "collapsed": false,
    "pycharm": {
     "name": "#%%\n"
    }
   }
  },
  {
   "cell_type": "code",
   "execution_count": null,
   "outputs": [],
   "source": [
    "from sklearn.metrics import completeness_score\n",
    "completeness_score(course.label, cls.predict(features))"
   ],
   "metadata": {
    "collapsed": false,
    "pycharm": {
     "name": "#%%\n"
    }
   }
  },
  {
   "cell_type": "markdown",
   "source": [
    "#### Recommendations"
   ],
   "metadata": {
    "collapsed": false,
    "pycharm": {
     "name": "#%% md\n"
    }
   }
  },
  {
   "cell_type": "code",
   "execution_count": null,
   "outputs": [],
   "source": [
    "recommend_course('python')"
   ],
   "metadata": {
    "collapsed": false,
    "pycharm": {
     "name": "#%%\n"
    }
   }
  },
  {
   "cell_type": "code",
   "execution_count": null,
   "outputs": [],
   "source": [
    "recommend_course('machine learning')"
   ],
   "metadata": {
    "collapsed": false,
    "pycharm": {
     "name": "#%%\n"
    }
   }
  },
  {
   "cell_type": "code",
   "execution_count": null,
   "outputs": [],
   "source": [
    "recommend_course('data science')"
   ],
   "metadata": {
    "collapsed": false,
    "pycharm": {
     "name": "#%%\n"
    }
   }
  },
  {
   "cell_type": "code",
   "execution_count": null,
   "outputs": [],
   "source": [
    "recommend_course('web development')"
   ],
   "metadata": {
    "collapsed": false,
    "pycharm": {
     "name": "#%%\n"
    }
   }
  },
  {
   "cell_type": "code",
   "execution_count": null,
   "outputs": [],
   "source": [
    "recommend_course('computer vision')"
   ],
   "metadata": {
    "collapsed": false,
    "pycharm": {
     "name": "#%%\n"
    }
   }
  },
  {
   "cell_type": "code",
   "execution_count": null,
   "outputs": [],
   "source": [
    "from joblib import dump, load\n",
    "dump(cls, 'kmeans.joblib')"
   ],
   "metadata": {
    "collapsed": false,
    "pycharm": {
     "name": "#%%\n"
    }
   }
  },
  {
   "cell_type": "code",
   "execution_count": null,
   "outputs": [],
   "source": [],
   "metadata": {
    "collapsed": false,
    "pycharm": {
     "name": "#%%\n"
    }
   }
  },
  {
   "cell_type": "code",
   "execution_count": 85,
   "metadata": {},
   "outputs": [],
   "source": [
    "course = pd.read_csv(\"./data/archive_1/udemy_course.csv\", encoding=\"utf-8\", index_col=0, sep=\";\")"
   ]
  },
  {
   "cell_type": "code",
   "execution_count": 88,
   "metadata": {},
   "outputs": [
    {
     "data": {
      "text/html": [
       "<div>\n",
       "<style scoped>\n",
       "    .dataframe tbody tr th:only-of-type {\n",
       "        vertical-align: middle;\n",
       "    }\n",
       "\n",
       "    .dataframe tbody tr th {\n",
       "        vertical-align: top;\n",
       "    }\n",
       "\n",
       "    .dataframe thead th {\n",
       "        text-align: right;\n",
       "    }\n",
       "</style>\n",
       "<table border=\"1\" class=\"dataframe\">\n",
       "  <thead>\n",
       "    <tr style=\"text-align: right;\">\n",
       "      <th></th>\n",
       "      <th>course_name</th>\n",
       "      <th>subs</th>\n",
       "      <th>num_reviews</th>\n",
       "      <th>num_lectures</th>\n",
       "      <th>duration</th>\n",
       "      <th>last_update</th>\n",
       "      <th>publish_date</th>\n",
       "      <th>created_date</th>\n",
       "      <th>original_price</th>\n",
       "      <th>discount_price</th>\n",
       "      <th>level</th>\n",
       "      <th>label</th>\n",
       "    </tr>\n",
       "    <tr>\n",
       "      <th>course_id</th>\n",
       "      <th></th>\n",
       "      <th></th>\n",
       "      <th></th>\n",
       "      <th></th>\n",
       "      <th></th>\n",
       "      <th></th>\n",
       "      <th></th>\n",
       "      <th></th>\n",
       "      <th></th>\n",
       "      <th></th>\n",
       "      <th></th>\n",
       "      <th></th>\n",
       "    </tr>\n",
       "  </thead>\n",
       "  <tbody>\n",
       "    <tr>\n",
       "      <th>8082</th>\n",
       "      <td>Ruby Programming for Beginners</td>\n",
       "      <td>28445</td>\n",
       "      <td>643</td>\n",
       "      <td>56</td>\n",
       "      <td>6.0</td>\n",
       "      <td>21/08/2019 00:00</td>\n",
       "      <td>08/07/2011 21:32</td>\n",
       "      <td>14/06/2011 16:09</td>\n",
       "      <td>1050000</td>\n",
       "      <td>182000.0</td>\n",
       "      <td>All Levels</td>\n",
       "      <td>Ruby</td>\n",
       "    </tr>\n",
       "    <tr>\n",
       "      <th>8203</th>\n",
       "      <td>Basic and Advanced HTML Lessons</td>\n",
       "      <td>1550</td>\n",
       "      <td>12</td>\n",
       "      <td>15</td>\n",
       "      <td>1.0</td>\n",
       "      <td>10/07/2017 00:00</td>\n",
       "      <td>20/06/2011 17:48</td>\n",
       "      <td>20/06/2011 19:59</td>\n",
       "      <td>350000</td>\n",
       "      <td>182000.0</td>\n",
       "      <td>All Levels</td>\n",
       "      <td>HTML</td>\n",
       "    </tr>\n",
       "    <tr>\n",
       "      <th>8319</th>\n",
       "      <td>Git Basics: In Theory and Practice</td>\n",
       "      <td>291</td>\n",
       "      <td>12</td>\n",
       "      <td>31</td>\n",
       "      <td>7.5</td>\n",
       "      <td>NaN</td>\n",
       "      <td>29/07/2011 20:24</td>\n",
       "      <td>28/06/2011 04:48</td>\n",
       "      <td>280000</td>\n",
       "      <td>182000.0</td>\n",
       "      <td>All Levels</td>\n",
       "      <td>Git</td>\n",
       "    </tr>\n",
       "    <tr>\n",
       "      <th>8324</th>\n",
       "      <td>Javascript for Beginners</td>\n",
       "      <td>3840</td>\n",
       "      <td>258</td>\n",
       "      <td>48</td>\n",
       "      <td>3.0</td>\n",
       "      <td>16/07/2019 00:00</td>\n",
       "      <td>09/07/2011 05:43</td>\n",
       "      <td>28/06/2011 08:26</td>\n",
       "      <td>280000</td>\n",
       "      <td>182000.0</td>\n",
       "      <td>All Levels</td>\n",
       "      <td>JavaScript</td>\n",
       "    </tr>\n",
       "    <tr>\n",
       "      <th>8325</th>\n",
       "      <td>HTML Tutorial: HTML &amp; CSS for Beginners</td>\n",
       "      <td>12521</td>\n",
       "      <td>297</td>\n",
       "      <td>82</td>\n",
       "      <td>4.0</td>\n",
       "      <td>16/07/2019 00:00</td>\n",
       "      <td>09/09/2011 15:28</td>\n",
       "      <td>28/06/2011 08:27</td>\n",
       "      <td>280000</td>\n",
       "      <td>182000.0</td>\n",
       "      <td>All Levels</td>\n",
       "      <td>HTML</td>\n",
       "    </tr>\n",
       "    <tr>\n",
       "      <th>8416</th>\n",
       "      <td>Beginners - How To Create iPhone And iPad Apps...</td>\n",
       "      <td>2044</td>\n",
       "      <td>21</td>\n",
       "      <td>81</td>\n",
       "      <td>7.5</td>\n",
       "      <td>09/01/2017 00:00</td>\n",
       "      <td>06/07/2011 23:45</td>\n",
       "      <td>05/07/2011 19:40</td>\n",
       "      <td>700000</td>\n",
       "      <td>182000.0</td>\n",
       "      <td>All Levels</td>\n",
       "      <td>iOS Development</td>\n",
       "    </tr>\n",
       "    <tr>\n",
       "      <th>9463</th>\n",
       "      <td>Programming Java for Beginners - The Ultimate ...</td>\n",
       "      <td>54369</td>\n",
       "      <td>1144</td>\n",
       "      <td>114</td>\n",
       "      <td>10.0</td>\n",
       "      <td>09/01/2017 00:00</td>\n",
       "      <td>15/09/2011 15:19</td>\n",
       "      <td>03/09/2011 02:16</td>\n",
       "      <td>700000</td>\n",
       "      <td>182000.0</td>\n",
       "      <td>All Levels</td>\n",
       "      <td>Java</td>\n",
       "    </tr>\n",
       "    <tr>\n",
       "      <th>10321</th>\n",
       "      <td>Learn to Program with C++</td>\n",
       "      <td>3990</td>\n",
       "      <td>461</td>\n",
       "      <td>108</td>\n",
       "      <td>10.0</td>\n",
       "      <td>09/01/2017 00:00</td>\n",
       "      <td>14/10/2011 21:48</td>\n",
       "      <td>13/10/2011 02:42</td>\n",
       "      <td>700000</td>\n",
       "      <td>182000.0</td>\n",
       "      <td>All Levels</td>\n",
       "      <td>C</td>\n",
       "    </tr>\n",
       "    <tr>\n",
       "      <th>10620</th>\n",
       "      <td>Practical Transformation Using XSLT and XPath ...</td>\n",
       "      <td>789</td>\n",
       "      <td>123</td>\n",
       "      <td>71</td>\n",
       "      <td>24.0</td>\n",
       "      <td>NaN</td>\n",
       "      <td>28/10/2011 18:13</td>\n",
       "      <td>25/10/2011 05:00</td>\n",
       "      <td>2520000</td>\n",
       "      <td>630000.0</td>\n",
       "      <td>All Levels</td>\n",
       "      <td>XSLT</td>\n",
       "    </tr>\n",
       "    <tr>\n",
       "      <th>10629</th>\n",
       "      <td>Introduction to Microsoft SQL Server Databases</td>\n",
       "      <td>178</td>\n",
       "      <td>7</td>\n",
       "      <td>10</td>\n",
       "      <td>1.5</td>\n",
       "      <td>NaN</td>\n",
       "      <td>31/10/2011 02:22</td>\n",
       "      <td>25/10/2011 17:35</td>\n",
       "      <td>630000</td>\n",
       "      <td>NaN</td>\n",
       "      <td>All Levels</td>\n",
       "      <td>Microsoft SQL</td>\n",
       "    </tr>\n",
       "  </tbody>\n",
       "</table>\n",
       "</div>"
      ],
      "text/plain": [
       "                                                 course_name   subs  \\\n",
       "course_id                                                             \n",
       "8082                          Ruby Programming for Beginners  28445   \n",
       "8203                         Basic and Advanced HTML Lessons   1550   \n",
       "8319                      Git Basics: In Theory and Practice    291   \n",
       "8324                                Javascript for Beginners   3840   \n",
       "8325                 HTML Tutorial: HTML & CSS for Beginners  12521   \n",
       "8416       Beginners - How To Create iPhone And iPad Apps...   2044   \n",
       "9463       Programming Java for Beginners - The Ultimate ...  54369   \n",
       "10321                              Learn to Program with C++   3990   \n",
       "10620      Practical Transformation Using XSLT and XPath ...    789   \n",
       "10629         Introduction to Microsoft SQL Server Databases    178   \n",
       "\n",
       "           num_reviews  num_lectures  duration       last_update  \\\n",
       "course_id                                                          \n",
       "8082               643            56       6.0  21/08/2019 00:00   \n",
       "8203                12            15       1.0  10/07/2017 00:00   \n",
       "8319                12            31       7.5               NaN   \n",
       "8324               258            48       3.0  16/07/2019 00:00   \n",
       "8325               297            82       4.0  16/07/2019 00:00   \n",
       "8416                21            81       7.5  09/01/2017 00:00   \n",
       "9463              1144           114      10.0  09/01/2017 00:00   \n",
       "10321              461           108      10.0  09/01/2017 00:00   \n",
       "10620              123            71      24.0               NaN   \n",
       "10629                7            10       1.5               NaN   \n",
       "\n",
       "               publish_date      created_date  original_price  discount_price  \\\n",
       "course_id                                                                       \n",
       "8082       08/07/2011 21:32  14/06/2011 16:09         1050000        182000.0   \n",
       "8203       20/06/2011 17:48  20/06/2011 19:59          350000        182000.0   \n",
       "8319       29/07/2011 20:24  28/06/2011 04:48          280000        182000.0   \n",
       "8324       09/07/2011 05:43  28/06/2011 08:26          280000        182000.0   \n",
       "8325       09/09/2011 15:28  28/06/2011 08:27          280000        182000.0   \n",
       "8416       06/07/2011 23:45  05/07/2011 19:40          700000        182000.0   \n",
       "9463       15/09/2011 15:19  03/09/2011 02:16          700000        182000.0   \n",
       "10321      14/10/2011 21:48  13/10/2011 02:42          700000        182000.0   \n",
       "10620      28/10/2011 18:13  25/10/2011 05:00         2520000        630000.0   \n",
       "10629      31/10/2011 02:22  25/10/2011 17:35          630000             NaN   \n",
       "\n",
       "                level            label  \n",
       "course_id                               \n",
       "8082       All Levels             Ruby  \n",
       "8203       All Levels             HTML  \n",
       "8319       All Levels              Git  \n",
       "8324       All Levels       JavaScript  \n",
       "8325       All Levels             HTML  \n",
       "8416       All Levels  iOS Development  \n",
       "9463       All Levels             Java  \n",
       "10321      All Levels                C  \n",
       "10620      All Levels             XSLT  \n",
       "10629      All Levels    Microsoft SQL  "
      ]
     },
     "execution_count": 88,
     "metadata": {},
     "output_type": "execute_result"
    }
   ],
   "source": [
    "course.head(10)\n"
   ]
  },
  {
   "cell_type": "code",
   "execution_count": 5,
   "metadata": {},
   "outputs": [],
   "source": [
    "course.drop([\"subs\", \"num_reviews\", \"num_lectures\", \"duration\", \"last_update\", \"publish_date\", \"created_date\", \"original_price\", \"discount_price\"], axis=1, inplace=True)"
   ]
  },
  {
   "cell_type": "code",
   "execution_count": 6,
   "metadata": {},
   "outputs": [],
   "source": [
    "course.dropna(inplace=True)"
   ]
  },
  {
   "cell_type": "code",
   "execution_count": 7,
   "metadata": {},
   "outputs": [
    {
     "data": {
      "text/plain": [
       "(9229, 3)"
      ]
     },
     "execution_count": 7,
     "metadata": {},
     "output_type": "execute_result"
    }
   ],
   "source": [
    "course.shape"
   ]
  },
  {
   "cell_type": "code",
   "execution_count": 8,
   "metadata": {},
   "outputs": [
    {
     "data": {
      "text/html": [
       "<div>\n",
       "<style scoped>\n",
       "    .dataframe tbody tr th:only-of-type {\n",
       "        vertical-align: middle;\n",
       "    }\n",
       "\n",
       "    .dataframe tbody tr th {\n",
       "        vertical-align: top;\n",
       "    }\n",
       "\n",
       "    .dataframe thead th {\n",
       "        text-align: right;\n",
       "    }\n",
       "</style>\n",
       "<table border=\"1\" class=\"dataframe\">\n",
       "  <thead>\n",
       "    <tr style=\"text-align: right;\">\n",
       "      <th></th>\n",
       "      <th>course_name</th>\n",
       "      <th>level</th>\n",
       "      <th>label</th>\n",
       "    </tr>\n",
       "    <tr>\n",
       "      <th>course_id</th>\n",
       "      <th></th>\n",
       "      <th></th>\n",
       "      <th></th>\n",
       "    </tr>\n",
       "  </thead>\n",
       "  <tbody>\n",
       "    <tr>\n",
       "      <th>8082</th>\n",
       "      <td>Ruby Programming for Beginners</td>\n",
       "      <td>All Levels</td>\n",
       "      <td>Ruby</td>\n",
       "    </tr>\n",
       "    <tr>\n",
       "      <th>8203</th>\n",
       "      <td>Basic and Advanced HTML Lessons</td>\n",
       "      <td>All Levels</td>\n",
       "      <td>HTML</td>\n",
       "    </tr>\n",
       "    <tr>\n",
       "      <th>8319</th>\n",
       "      <td>Git Basics: In Theory and Practice</td>\n",
       "      <td>All Levels</td>\n",
       "      <td>Git</td>\n",
       "    </tr>\n",
       "    <tr>\n",
       "      <th>8324</th>\n",
       "      <td>Javascript for Beginners</td>\n",
       "      <td>All Levels</td>\n",
       "      <td>JavaScript</td>\n",
       "    </tr>\n",
       "    <tr>\n",
       "      <th>8325</th>\n",
       "      <td>HTML Tutorial: HTML &amp; CSS for Beginners</td>\n",
       "      <td>All Levels</td>\n",
       "      <td>HTML</td>\n",
       "    </tr>\n",
       "    <tr>\n",
       "      <th>8416</th>\n",
       "      <td>Beginners - How To Create iPhone And iPad Apps...</td>\n",
       "      <td>All Levels</td>\n",
       "      <td>iOS Development</td>\n",
       "    </tr>\n",
       "    <tr>\n",
       "      <th>9463</th>\n",
       "      <td>Programming Java for Beginners - The Ultimate ...</td>\n",
       "      <td>All Levels</td>\n",
       "      <td>Java</td>\n",
       "    </tr>\n",
       "    <tr>\n",
       "      <th>10321</th>\n",
       "      <td>Learn to Program with C++</td>\n",
       "      <td>All Levels</td>\n",
       "      <td>C</td>\n",
       "    </tr>\n",
       "    <tr>\n",
       "      <th>10620</th>\n",
       "      <td>Practical Transformation Using XSLT and XPath ...</td>\n",
       "      <td>All Levels</td>\n",
       "      <td>XSLT</td>\n",
       "    </tr>\n",
       "    <tr>\n",
       "      <th>10629</th>\n",
       "      <td>Introduction to Microsoft SQL Server Databases</td>\n",
       "      <td>All Levels</td>\n",
       "      <td>Microsoft SQL</td>\n",
       "    </tr>\n",
       "  </tbody>\n",
       "</table>\n",
       "</div>"
      ],
      "text/plain": [
       "                                                 course_name       level  \\\n",
       "course_id                                                                  \n",
       "8082                          Ruby Programming for Beginners  All Levels   \n",
       "8203                         Basic and Advanced HTML Lessons  All Levels   \n",
       "8319                      Git Basics: In Theory and Practice  All Levels   \n",
       "8324                                Javascript for Beginners  All Levels   \n",
       "8325                 HTML Tutorial: HTML & CSS for Beginners  All Levels   \n",
       "8416       Beginners - How To Create iPhone And iPad Apps...  All Levels   \n",
       "9463       Programming Java for Beginners - The Ultimate ...  All Levels   \n",
       "10321                              Learn to Program with C++  All Levels   \n",
       "10620      Practical Transformation Using XSLT and XPath ...  All Levels   \n",
       "10629         Introduction to Microsoft SQL Server Databases  All Levels   \n",
       "\n",
       "                     label  \n",
       "course_id                   \n",
       "8082                  Ruby  \n",
       "8203                  HTML  \n",
       "8319                   Git  \n",
       "8324            JavaScript  \n",
       "8325                  HTML  \n",
       "8416       iOS Development  \n",
       "9463                  Java  \n",
       "10321                    C  \n",
       "10620                 XSLT  \n",
       "10629        Microsoft SQL  "
      ]
     },
     "execution_count": 8,
     "metadata": {},
     "output_type": "execute_result"
    }
   ],
   "source": [
    "# tokenize\n",
    "course.head(10)"
   ]
  },
  {
   "cell_type": "code",
   "execution_count": 9,
   "metadata": {},
   "outputs": [],
   "source": [
    "# tokenize\n",
    "course['tokenized'] = course['course_name'].apply(lambda x: nlp(x))"
   ]
  },
  {
   "cell_type": "code",
   "execution_count": 10,
   "metadata": {},
   "outputs": [],
   "source": [
    "from spacy.lang.en.stop_words import STOP_WORDS\n",
    "course['tokenized'] = course['tokenized'].apply(lambda x: [token.text for token in x if token.text not in STOP_WORDS])"
   ]
  },
  {
   "cell_type": "code",
   "execution_count": 11,
   "metadata": {},
   "outputs": [],
   "source": [
    "# clear - : from tokenized\n",
    "course['tokenized'] = course['tokenized'].apply(lambda x: [token for token in x if token not in string.punctuation])"
   ]
  },
  {
   "cell_type": "code",
   "execution_count": 12,
   "metadata": {},
   "outputs": [],
   "source": [
    "# lowercase tokenized\n",
    "course['tokenized'] = course['tokenized'].apply(lambda x: [token.lower() for token in x])"
   ]
  },
  {
   "cell_type": "code",
   "execution_count": 13,
   "metadata": {},
   "outputs": [
    {
     "data": {
      "text/html": [
       "<div>\n",
       "<style scoped>\n",
       "    .dataframe tbody tr th:only-of-type {\n",
       "        vertical-align: middle;\n",
       "    }\n",
       "\n",
       "    .dataframe tbody tr th {\n",
       "        vertical-align: top;\n",
       "    }\n",
       "\n",
       "    .dataframe thead th {\n",
       "        text-align: right;\n",
       "    }\n",
       "</style>\n",
       "<table border=\"1\" class=\"dataframe\">\n",
       "  <thead>\n",
       "    <tr style=\"text-align: right;\">\n",
       "      <th></th>\n",
       "      <th>course_name</th>\n",
       "      <th>level</th>\n",
       "      <th>label</th>\n",
       "      <th>tokenized</th>\n",
       "    </tr>\n",
       "    <tr>\n",
       "      <th>course_id</th>\n",
       "      <th></th>\n",
       "      <th></th>\n",
       "      <th></th>\n",
       "      <th></th>\n",
       "    </tr>\n",
       "  </thead>\n",
       "  <tbody>\n",
       "    <tr>\n",
       "      <th>8082</th>\n",
       "      <td>Ruby Programming for Beginners</td>\n",
       "      <td>All Levels</td>\n",
       "      <td>Ruby</td>\n",
       "      <td>[ruby, programming, beginners]</td>\n",
       "    </tr>\n",
       "    <tr>\n",
       "      <th>8203</th>\n",
       "      <td>Basic and Advanced HTML Lessons</td>\n",
       "      <td>All Levels</td>\n",
       "      <td>HTML</td>\n",
       "      <td>[basic, advanced, html, lessons]</td>\n",
       "    </tr>\n",
       "    <tr>\n",
       "      <th>8319</th>\n",
       "      <td>Git Basics: In Theory and Practice</td>\n",
       "      <td>All Levels</td>\n",
       "      <td>Git</td>\n",
       "      <td>[git, basics, in, theory, practice]</td>\n",
       "    </tr>\n",
       "    <tr>\n",
       "      <th>8324</th>\n",
       "      <td>Javascript for Beginners</td>\n",
       "      <td>All Levels</td>\n",
       "      <td>JavaScript</td>\n",
       "      <td>[javascript, beginners]</td>\n",
       "    </tr>\n",
       "    <tr>\n",
       "      <th>8325</th>\n",
       "      <td>HTML Tutorial: HTML &amp; CSS for Beginners</td>\n",
       "      <td>All Levels</td>\n",
       "      <td>HTML</td>\n",
       "      <td>[html, tutorial, html, css, beginners]</td>\n",
       "    </tr>\n",
       "    <tr>\n",
       "      <th>8416</th>\n",
       "      <td>Beginners - How To Create iPhone And iPad Apps...</td>\n",
       "      <td>All Levels</td>\n",
       "      <td>iOS Development</td>\n",
       "      <td>[beginners, how, to, create, iphone, and, ipad...</td>\n",
       "    </tr>\n",
       "    <tr>\n",
       "      <th>9463</th>\n",
       "      <td>Programming Java for Beginners - The Ultimate ...</td>\n",
       "      <td>All Levels</td>\n",
       "      <td>Java</td>\n",
       "      <td>[programming, java, beginners, the, ultimate, ...</td>\n",
       "    </tr>\n",
       "    <tr>\n",
       "      <th>10321</th>\n",
       "      <td>Learn to Program with C++</td>\n",
       "      <td>All Levels</td>\n",
       "      <td>C</td>\n",
       "      <td>[learn, program, c++]</td>\n",
       "    </tr>\n",
       "    <tr>\n",
       "      <th>10620</th>\n",
       "      <td>Practical Transformation Using XSLT and XPath ...</td>\n",
       "      <td>All Levels</td>\n",
       "      <td>XSLT</td>\n",
       "      <td>[practical, transformation, using, xslt, xpath...</td>\n",
       "    </tr>\n",
       "    <tr>\n",
       "      <th>10629</th>\n",
       "      <td>Introduction to Microsoft SQL Server Databases</td>\n",
       "      <td>All Levels</td>\n",
       "      <td>Microsoft SQL</td>\n",
       "      <td>[introduction, microsoft, sql, server, databases]</td>\n",
       "    </tr>\n",
       "  </tbody>\n",
       "</table>\n",
       "</div>"
      ],
      "text/plain": [
       "                                                 course_name       level  \\\n",
       "course_id                                                                  \n",
       "8082                          Ruby Programming for Beginners  All Levels   \n",
       "8203                         Basic and Advanced HTML Lessons  All Levels   \n",
       "8319                      Git Basics: In Theory and Practice  All Levels   \n",
       "8324                                Javascript for Beginners  All Levels   \n",
       "8325                 HTML Tutorial: HTML & CSS for Beginners  All Levels   \n",
       "8416       Beginners - How To Create iPhone And iPad Apps...  All Levels   \n",
       "9463       Programming Java for Beginners - The Ultimate ...  All Levels   \n",
       "10321                              Learn to Program with C++  All Levels   \n",
       "10620      Practical Transformation Using XSLT and XPath ...  All Levels   \n",
       "10629         Introduction to Microsoft SQL Server Databases  All Levels   \n",
       "\n",
       "                     label                                          tokenized  \n",
       "course_id                                                                      \n",
       "8082                  Ruby                     [ruby, programming, beginners]  \n",
       "8203                  HTML                   [basic, advanced, html, lessons]  \n",
       "8319                   Git                [git, basics, in, theory, practice]  \n",
       "8324            JavaScript                            [javascript, beginners]  \n",
       "8325                  HTML             [html, tutorial, html, css, beginners]  \n",
       "8416       iOS Development  [beginners, how, to, create, iphone, and, ipad...  \n",
       "9463                  Java  [programming, java, beginners, the, ultimate, ...  \n",
       "10321                    C                              [learn, program, c++]  \n",
       "10620                 XSLT  [practical, transformation, using, xslt, xpath...  \n",
       "10629        Microsoft SQL  [introduction, microsoft, sql, server, databases]  "
      ]
     },
     "execution_count": 13,
     "metadata": {},
     "output_type": "execute_result"
    }
   ],
   "source": [
    "course.head(10)"
   ]
  },
  {
   "cell_type": "markdown",
   "metadata": {},
   "source": [
    "## Clustering models\n",
    "\n",
    "### K-means clustering"
   ]
  },
  {
   "cell_type": "code",
   "execution_count": 60,
   "metadata": {},
   "outputs": [],
   "source": [
    "vectorizer = TfidfVectorizer(min_df=2, max_df=0.9, ngram_range=(1, 3), stop_words='english')"
   ]
  },
  {
   "cell_type": "code",
   "execution_count": 61,
   "metadata": {},
   "outputs": [],
   "source": [
    "course['clean_document'] = course['tokenized'].apply(lambda x: ' '.join(x))"
   ]
  },
  {
   "cell_type": "code",
   "execution_count": 62,
   "metadata": {},
   "outputs": [],
   "source": [
    "X = vectorizer.fit_transform(course['clean_document'])"
   ]
  },
  {
   "cell_type": "code",
   "execution_count": 63,
   "metadata": {},
   "outputs": [],
   "source": [
    "features = vectorizer.transform(course['clean_document'])"
   ]
  },
  {
   "cell_type": "code",
   "execution_count": 64,
   "metadata": {},
   "outputs": [],
   "source": [
    "cls = KMeans(n_clusters=250, random_state=0)"
   ]
  },
  {
   "cell_type": "code",
   "execution_count": 65,
   "metadata": {},
   "outputs": [
    {
     "data": {
      "text/html": [
       "<style>#sk-container-id-5 {color: black;background-color: white;}#sk-container-id-5 pre{padding: 0;}#sk-container-id-5 div.sk-toggleable {background-color: white;}#sk-container-id-5 label.sk-toggleable__label {cursor: pointer;display: block;width: 100%;margin-bottom: 0;padding: 0.3em;box-sizing: border-box;text-align: center;}#sk-container-id-5 label.sk-toggleable__label-arrow:before {content: \"▸\";float: left;margin-right: 0.25em;color: #696969;}#sk-container-id-5 label.sk-toggleable__label-arrow:hover:before {color: black;}#sk-container-id-5 div.sk-estimator:hover label.sk-toggleable__label-arrow:before {color: black;}#sk-container-id-5 div.sk-toggleable__content {max-height: 0;max-width: 0;overflow: hidden;text-align: left;background-color: #f0f8ff;}#sk-container-id-5 div.sk-toggleable__content pre {margin: 0.2em;color: black;border-radius: 0.25em;background-color: #f0f8ff;}#sk-container-id-5 input.sk-toggleable__control:checked~div.sk-toggleable__content {max-height: 200px;max-width: 100%;overflow: auto;}#sk-container-id-5 input.sk-toggleable__control:checked~label.sk-toggleable__label-arrow:before {content: \"▾\";}#sk-container-id-5 div.sk-estimator input.sk-toggleable__control:checked~label.sk-toggleable__label {background-color: #d4ebff;}#sk-container-id-5 div.sk-label input.sk-toggleable__control:checked~label.sk-toggleable__label {background-color: #d4ebff;}#sk-container-id-5 input.sk-hidden--visually {border: 0;clip: rect(1px 1px 1px 1px);clip: rect(1px, 1px, 1px, 1px);height: 1px;margin: -1px;overflow: hidden;padding: 0;position: absolute;width: 1px;}#sk-container-id-5 div.sk-estimator {font-family: monospace;background-color: #f0f8ff;border: 1px dotted black;border-radius: 0.25em;box-sizing: border-box;margin-bottom: 0.5em;}#sk-container-id-5 div.sk-estimator:hover {background-color: #d4ebff;}#sk-container-id-5 div.sk-parallel-item::after {content: \"\";width: 100%;border-bottom: 1px solid gray;flex-grow: 1;}#sk-container-id-5 div.sk-label:hover label.sk-toggleable__label {background-color: #d4ebff;}#sk-container-id-5 div.sk-serial::before {content: \"\";position: absolute;border-left: 1px solid gray;box-sizing: border-box;top: 0;bottom: 0;left: 50%;z-index: 0;}#sk-container-id-5 div.sk-serial {display: flex;flex-direction: column;align-items: center;background-color: white;padding-right: 0.2em;padding-left: 0.2em;position: relative;}#sk-container-id-5 div.sk-item {position: relative;z-index: 1;}#sk-container-id-5 div.sk-parallel {display: flex;align-items: stretch;justify-content: center;background-color: white;position: relative;}#sk-container-id-5 div.sk-item::before, #sk-container-id-5 div.sk-parallel-item::before {content: \"\";position: absolute;border-left: 1px solid gray;box-sizing: border-box;top: 0;bottom: 0;left: 50%;z-index: -1;}#sk-container-id-5 div.sk-parallel-item {display: flex;flex-direction: column;z-index: 1;position: relative;background-color: white;}#sk-container-id-5 div.sk-parallel-item:first-child::after {align-self: flex-end;width: 50%;}#sk-container-id-5 div.sk-parallel-item:last-child::after {align-self: flex-start;width: 50%;}#sk-container-id-5 div.sk-parallel-item:only-child::after {width: 0;}#sk-container-id-5 div.sk-dashed-wrapped {border: 1px dashed gray;margin: 0 0.4em 0.5em 0.4em;box-sizing: border-box;padding-bottom: 0.4em;background-color: white;}#sk-container-id-5 div.sk-label label {font-family: monospace;font-weight: bold;display: inline-block;line-height: 1.2em;}#sk-container-id-5 div.sk-label-container {text-align: center;}#sk-container-id-5 div.sk-container {/* jupyter's `normalize.less` sets `[hidden] { display: none; }` but bootstrap.min.css set `[hidden] { display: none !important; }` so we also need the `!important` here to be able to override the default hidden behavior on the sphinx rendered scikit-learn.org. See: https://github.com/scikit-learn/scikit-learn/issues/21755 */display: inline-block !important;position: relative;}#sk-container-id-5 div.sk-text-repr-fallback {display: none;}</style><div id=\"sk-container-id-5\" class=\"sk-top-container\"><div class=\"sk-text-repr-fallback\"><pre>KMeans(n_clusters=250, random_state=0)</pre><b>In a Jupyter environment, please rerun this cell to show the HTML representation or trust the notebook. <br />On GitHub, the HTML representation is unable to render, please try loading this page with nbviewer.org.</b></div><div class=\"sk-container\" hidden><div class=\"sk-item\"><div class=\"sk-estimator sk-toggleable\"><input class=\"sk-toggleable__control sk-hidden--visually\" id=\"sk-estimator-id-5\" type=\"checkbox\" checked><label for=\"sk-estimator-id-5\" class=\"sk-toggleable__label sk-toggleable__label-arrow\">KMeans</label><div class=\"sk-toggleable__content\"><pre>KMeans(n_clusters=250, random_state=0)</pre></div></div></div></div></div>"
      ],
      "text/plain": [
       "KMeans(n_clusters=250, random_state=0)"
      ]
     },
     "execution_count": 65,
     "metadata": {},
     "output_type": "execute_result"
    }
   ],
   "source": [
    "cls.fit(features)"
   ]
  },
  {
   "cell_type": "code",
   "execution_count": 66,
   "metadata": {},
   "outputs": [],
   "source": [
    "course['cluster'] = cls.labels_"
   ]
  },
  {
   "cell_type": "code",
   "execution_count": 67,
   "metadata": {},
   "outputs": [
    {
     "data": {
      "text/html": [
       "<div>\n",
       "<style scoped>\n",
       "    .dataframe tbody tr th:only-of-type {\n",
       "        vertical-align: middle;\n",
       "    }\n",
       "\n",
       "    .dataframe tbody tr th {\n",
       "        vertical-align: top;\n",
       "    }\n",
       "\n",
       "    .dataframe thead th {\n",
       "        text-align: right;\n",
       "    }\n",
       "</style>\n",
       "<table border=\"1\" class=\"dataframe\">\n",
       "  <thead>\n",
       "    <tr style=\"text-align: right;\">\n",
       "      <th></th>\n",
       "      <th>course_name</th>\n",
       "      <th>level</th>\n",
       "      <th>label</th>\n",
       "      <th>tokenized</th>\n",
       "      <th>clean_document</th>\n",
       "      <th>cluster</th>\n",
       "    </tr>\n",
       "    <tr>\n",
       "      <th>course_id</th>\n",
       "      <th></th>\n",
       "      <th></th>\n",
       "      <th></th>\n",
       "      <th></th>\n",
       "      <th></th>\n",
       "      <th></th>\n",
       "    </tr>\n",
       "  </thead>\n",
       "  <tbody>\n",
       "    <tr>\n",
       "      <th>8082</th>\n",
       "      <td>Ruby Programming for Beginners</td>\n",
       "      <td>All Levels</td>\n",
       "      <td>Ruby</td>\n",
       "      <td>[ruby, programming, beginners]</td>\n",
       "      <td>ruby programming beginners</td>\n",
       "      <td>231</td>\n",
       "    </tr>\n",
       "    <tr>\n",
       "      <th>8203</th>\n",
       "      <td>Basic and Advanced HTML Lessons</td>\n",
       "      <td>All Levels</td>\n",
       "      <td>HTML</td>\n",
       "      <td>[basic, advanced, html, lessons]</td>\n",
       "      <td>basic advanced html lessons</td>\n",
       "      <td>221</td>\n",
       "    </tr>\n",
       "    <tr>\n",
       "      <th>8319</th>\n",
       "      <td>Git Basics: In Theory and Practice</td>\n",
       "      <td>All Levels</td>\n",
       "      <td>Git</td>\n",
       "      <td>[git, basics, in, theory, practice]</td>\n",
       "      <td>git basics in theory practice</td>\n",
       "      <td>113</td>\n",
       "    </tr>\n",
       "    <tr>\n",
       "      <th>8324</th>\n",
       "      <td>Javascript for Beginners</td>\n",
       "      <td>All Levels</td>\n",
       "      <td>JavaScript</td>\n",
       "      <td>[javascript, beginners]</td>\n",
       "      <td>javascript beginners</td>\n",
       "      <td>33</td>\n",
       "    </tr>\n",
       "    <tr>\n",
       "      <th>8325</th>\n",
       "      <td>HTML Tutorial: HTML &amp; CSS for Beginners</td>\n",
       "      <td>All Levels</td>\n",
       "      <td>HTML</td>\n",
       "      <td>[html, tutorial, html, css, beginners]</td>\n",
       "      <td>html tutorial html css beginners</td>\n",
       "      <td>129</td>\n",
       "    </tr>\n",
       "    <tr>\n",
       "      <th>8416</th>\n",
       "      <td>Beginners - How To Create iPhone And iPad Apps...</td>\n",
       "      <td>All Levels</td>\n",
       "      <td>iOS Development</td>\n",
       "      <td>[beginners, how, to, create, iphone, and, ipad...</td>\n",
       "      <td>beginners how to create iphone and ipad apps z...</td>\n",
       "      <td>94</td>\n",
       "    </tr>\n",
       "    <tr>\n",
       "      <th>9463</th>\n",
       "      <td>Programming Java for Beginners - The Ultimate ...</td>\n",
       "      <td>All Levels</td>\n",
       "      <td>Java</td>\n",
       "      <td>[programming, java, beginners, the, ultimate, ...</td>\n",
       "      <td>programming java beginners the ultimate java t...</td>\n",
       "      <td>176</td>\n",
       "    </tr>\n",
       "    <tr>\n",
       "      <th>10321</th>\n",
       "      <td>Learn to Program with C++</td>\n",
       "      <td>All Levels</td>\n",
       "      <td>C</td>\n",
       "      <td>[learn, program, c++]</td>\n",
       "      <td>learn program c++</td>\n",
       "      <td>138</td>\n",
       "    </tr>\n",
       "    <tr>\n",
       "      <th>10620</th>\n",
       "      <td>Practical Transformation Using XSLT and XPath ...</td>\n",
       "      <td>All Levels</td>\n",
       "      <td>XSLT</td>\n",
       "      <td>[practical, transformation, using, xslt, xpath...</td>\n",
       "      <td>practical transformation using xslt xpath 5 ho...</td>\n",
       "      <td>68</td>\n",
       "    </tr>\n",
       "    <tr>\n",
       "      <th>10629</th>\n",
       "      <td>Introduction to Microsoft SQL Server Databases</td>\n",
       "      <td>All Levels</td>\n",
       "      <td>Microsoft SQL</td>\n",
       "      <td>[introduction, microsoft, sql, server, databases]</td>\n",
       "      <td>introduction microsoft sql server databases</td>\n",
       "      <td>14</td>\n",
       "    </tr>\n",
       "  </tbody>\n",
       "</table>\n",
       "</div>"
      ],
      "text/plain": [
       "                                                 course_name       level  \\\n",
       "course_id                                                                  \n",
       "8082                          Ruby Programming for Beginners  All Levels   \n",
       "8203                         Basic and Advanced HTML Lessons  All Levels   \n",
       "8319                      Git Basics: In Theory and Practice  All Levels   \n",
       "8324                                Javascript for Beginners  All Levels   \n",
       "8325                 HTML Tutorial: HTML & CSS for Beginners  All Levels   \n",
       "8416       Beginners - How To Create iPhone And iPad Apps...  All Levels   \n",
       "9463       Programming Java for Beginners - The Ultimate ...  All Levels   \n",
       "10321                              Learn to Program with C++  All Levels   \n",
       "10620      Practical Transformation Using XSLT and XPath ...  All Levels   \n",
       "10629         Introduction to Microsoft SQL Server Databases  All Levels   \n",
       "\n",
       "                     label                                          tokenized  \\\n",
       "course_id                                                                       \n",
       "8082                  Ruby                     [ruby, programming, beginners]   \n",
       "8203                  HTML                   [basic, advanced, html, lessons]   \n",
       "8319                   Git                [git, basics, in, theory, practice]   \n",
       "8324            JavaScript                            [javascript, beginners]   \n",
       "8325                  HTML             [html, tutorial, html, css, beginners]   \n",
       "8416       iOS Development  [beginners, how, to, create, iphone, and, ipad...   \n",
       "9463                  Java  [programming, java, beginners, the, ultimate, ...   \n",
       "10321                    C                              [learn, program, c++]   \n",
       "10620                 XSLT  [practical, transformation, using, xslt, xpath...   \n",
       "10629        Microsoft SQL  [introduction, microsoft, sql, server, databases]   \n",
       "\n",
       "                                              clean_document  cluster  \n",
       "course_id                                                              \n",
       "8082                              ruby programming beginners      231  \n",
       "8203                             basic advanced html lessons      221  \n",
       "8319                           git basics in theory practice      113  \n",
       "8324                                    javascript beginners       33  \n",
       "8325                        html tutorial html css beginners      129  \n",
       "8416       beginners how to create iphone and ipad apps z...       94  \n",
       "9463       programming java beginners the ultimate java t...      176  \n",
       "10321                                      learn program c++      138  \n",
       "10620      practical transformation using xslt xpath 5 ho...       68  \n",
       "10629            introduction microsoft sql server databases       14  "
      ]
     },
     "execution_count": 67,
     "metadata": {},
     "output_type": "execute_result"
    }
   ],
   "source": [
    "course.head(10)"
   ]
  },
  {
   "cell_type": "code",
   "execution_count": 68,
   "metadata": {},
   "outputs": [
    {
     "data": {
      "text/html": [
       "<div>\n",
       "<style scoped>\n",
       "    .dataframe tbody tr th:only-of-type {\n",
       "        vertical-align: middle;\n",
       "    }\n",
       "\n",
       "    .dataframe tbody tr th {\n",
       "        vertical-align: top;\n",
       "    }\n",
       "\n",
       "    .dataframe thead th {\n",
       "        text-align: right;\n",
       "    }\n",
       "</style>\n",
       "<table border=\"1\" class=\"dataframe\">\n",
       "  <thead>\n",
       "    <tr style=\"text-align: right;\">\n",
       "      <th></th>\n",
       "      <th>course_name</th>\n",
       "      <th>level</th>\n",
       "      <th>label</th>\n",
       "      <th>tokenized</th>\n",
       "      <th>clean_document</th>\n",
       "    </tr>\n",
       "    <tr>\n",
       "      <th>cluster</th>\n",
       "      <th></th>\n",
       "      <th></th>\n",
       "      <th></th>\n",
       "      <th></th>\n",
       "      <th></th>\n",
       "    </tr>\n",
       "  </thead>\n",
       "  <tbody>\n",
       "    <tr>\n",
       "      <th>0</th>\n",
       "      <td>80</td>\n",
       "      <td>80</td>\n",
       "      <td>80</td>\n",
       "      <td>80</td>\n",
       "      <td>80</td>\n",
       "    </tr>\n",
       "    <tr>\n",
       "      <th>1</th>\n",
       "      <td>45</td>\n",
       "      <td>45</td>\n",
       "      <td>45</td>\n",
       "      <td>45</td>\n",
       "      <td>45</td>\n",
       "    </tr>\n",
       "    <tr>\n",
       "      <th>2</th>\n",
       "      <td>159</td>\n",
       "      <td>159</td>\n",
       "      <td>159</td>\n",
       "      <td>159</td>\n",
       "      <td>159</td>\n",
       "    </tr>\n",
       "    <tr>\n",
       "      <th>3</th>\n",
       "      <td>135</td>\n",
       "      <td>135</td>\n",
       "      <td>135</td>\n",
       "      <td>135</td>\n",
       "      <td>135</td>\n",
       "    </tr>\n",
       "    <tr>\n",
       "      <th>4</th>\n",
       "      <td>7</td>\n",
       "      <td>7</td>\n",
       "      <td>7</td>\n",
       "      <td>7</td>\n",
       "      <td>7</td>\n",
       "    </tr>\n",
       "    <tr>\n",
       "      <th>...</th>\n",
       "      <td>...</td>\n",
       "      <td>...</td>\n",
       "      <td>...</td>\n",
       "      <td>...</td>\n",
       "      <td>...</td>\n",
       "    </tr>\n",
       "    <tr>\n",
       "      <th>245</th>\n",
       "      <td>9</td>\n",
       "      <td>9</td>\n",
       "      <td>9</td>\n",
       "      <td>9</td>\n",
       "      <td>9</td>\n",
       "    </tr>\n",
       "    <tr>\n",
       "      <th>246</th>\n",
       "      <td>19</td>\n",
       "      <td>19</td>\n",
       "      <td>19</td>\n",
       "      <td>19</td>\n",
       "      <td>19</td>\n",
       "    </tr>\n",
       "    <tr>\n",
       "      <th>247</th>\n",
       "      <td>13</td>\n",
       "      <td>13</td>\n",
       "      <td>13</td>\n",
       "      <td>13</td>\n",
       "      <td>13</td>\n",
       "    </tr>\n",
       "    <tr>\n",
       "      <th>248</th>\n",
       "      <td>92</td>\n",
       "      <td>92</td>\n",
       "      <td>92</td>\n",
       "      <td>92</td>\n",
       "      <td>92</td>\n",
       "    </tr>\n",
       "    <tr>\n",
       "      <th>249</th>\n",
       "      <td>20</td>\n",
       "      <td>20</td>\n",
       "      <td>20</td>\n",
       "      <td>20</td>\n",
       "      <td>20</td>\n",
       "    </tr>\n",
       "  </tbody>\n",
       "</table>\n",
       "<p>250 rows × 5 columns</p>\n",
       "</div>"
      ],
      "text/plain": [
       "         course_name  level  label  tokenized  clean_document\n",
       "cluster                                                      \n",
       "0                 80     80     80         80              80\n",
       "1                 45     45     45         45              45\n",
       "2                159    159    159        159             159\n",
       "3                135    135    135        135             135\n",
       "4                  7      7      7          7               7\n",
       "...              ...    ...    ...        ...             ...\n",
       "245                9      9      9          9               9\n",
       "246               19     19     19         19              19\n",
       "247               13     13     13         13              13\n",
       "248               92     92     92         92              92\n",
       "249               20     20     20         20              20\n",
       "\n",
       "[250 rows x 5 columns]"
      ]
     },
     "execution_count": 68,
     "metadata": {},
     "output_type": "execute_result"
    }
   ],
   "source": [
    "course.groupby('cluster').count()"
   ]
  },
  {
   "cell_type": "code",
   "execution_count": 69,
   "metadata": {},
   "outputs": [],
   "source": [
    "# Recommend 5 most similar course\n",
    "def recommend_course(course_name):\n",
    "    course_name = nlp(course_name)\n",
    "    course_name = [token.text for token in course_name if token.text not in STOP_WORDS]\n",
    "    course_name = [token for token in course_name if token not in string.punctuation]\n",
    "    clean_course_name = \" \".join([token.lower() for token in course_name])\n",
    "    course_name_vector = vectorizer.transform([clean_course_name])\n",
    "    predicted_cluster = cls.predict(course_name_vector)[0]\n",
    "    similar_courses = course[course['cluster'] == predicted_cluster]\n",
    "    return similar_courses.sample(n=5, replace=True)"
   ]
  },
  {
   "cell_type": "code",
   "execution_count": 70,
   "metadata": {},
   "outputs": [
    {
     "data": {
      "text/html": [
       "<div>\n",
       "<style scoped>\n",
       "    .dataframe tbody tr th:only-of-type {\n",
       "        vertical-align: middle;\n",
       "    }\n",
       "\n",
       "    .dataframe tbody tr th {\n",
       "        vertical-align: top;\n",
       "    }\n",
       "\n",
       "    .dataframe thead th {\n",
       "        text-align: right;\n",
       "    }\n",
       "</style>\n",
       "<table border=\"1\" class=\"dataframe\">\n",
       "  <thead>\n",
       "    <tr style=\"text-align: right;\">\n",
       "      <th></th>\n",
       "      <th>course_name</th>\n",
       "      <th>level</th>\n",
       "      <th>label</th>\n",
       "      <th>tokenized</th>\n",
       "      <th>clean_document</th>\n",
       "      <th>cluster</th>\n",
       "    </tr>\n",
       "    <tr>\n",
       "      <th>course_id</th>\n",
       "      <th></th>\n",
       "      <th></th>\n",
       "      <th></th>\n",
       "      <th></th>\n",
       "      <th></th>\n",
       "      <th></th>\n",
       "    </tr>\n",
       "  </thead>\n",
       "  <tbody>\n",
       "    <tr>\n",
       "      <th>2380762</th>\n",
       "      <td>Python The Quickest Way: Python Essentials Cou...</td>\n",
       "      <td>All Levels</td>\n",
       "      <td>Python</td>\n",
       "      <td>[python, the, quickest, way, python, essential...</td>\n",
       "      <td>python the quickest way python essentials cour...</td>\n",
       "      <td>3</td>\n",
       "    </tr>\n",
       "    <tr>\n",
       "      <th>1933200</th>\n",
       "      <td>Building Trading Algorithms with Python</td>\n",
       "      <td>Intermediate</td>\n",
       "      <td>Python</td>\n",
       "      <td>[building, trading, algorithms, python]</td>\n",
       "      <td>building trading algorithms python</td>\n",
       "      <td>3</td>\n",
       "    </tr>\n",
       "    <tr>\n",
       "      <th>1094688</th>\n",
       "      <td>Superb Python Course - Become Certified Python...</td>\n",
       "      <td>Intermediate</td>\n",
       "      <td>Python</td>\n",
       "      <td>[superb, python, course, become, certified, py...</td>\n",
       "      <td>superb python course become certified python d...</td>\n",
       "      <td>3</td>\n",
       "    </tr>\n",
       "    <tr>\n",
       "      <th>2097544</th>\n",
       "      <td>Python Concurrency Simplified</td>\n",
       "      <td>Intermediate</td>\n",
       "      <td>Concurrency</td>\n",
       "      <td>[python, concurrency, simplified]</td>\n",
       "      <td>python concurrency simplified</td>\n",
       "      <td>3</td>\n",
       "    </tr>\n",
       "    <tr>\n",
       "      <th>1554464</th>\n",
       "      <td>Python for Sorting and Searching : With Interv...</td>\n",
       "      <td>Intermediate</td>\n",
       "      <td>Interviewing Skills</td>\n",
       "      <td>[python, sorting, searching, with, interview, ...</td>\n",
       "      <td>python sorting searching with interview riddles</td>\n",
       "      <td>3</td>\n",
       "    </tr>\n",
       "  </tbody>\n",
       "</table>\n",
       "</div>"
      ],
      "text/plain": [
       "                                                 course_name         level  \\\n",
       "course_id                                                                    \n",
       "2380762    Python The Quickest Way: Python Essentials Cou...    All Levels   \n",
       "1933200              Building Trading Algorithms with Python  Intermediate   \n",
       "1094688    Superb Python Course - Become Certified Python...  Intermediate   \n",
       "2097544                        Python Concurrency Simplified  Intermediate   \n",
       "1554464    Python for Sorting and Searching : With Interv...  Intermediate   \n",
       "\n",
       "                         label  \\\n",
       "course_id                        \n",
       "2380762                 Python   \n",
       "1933200                 Python   \n",
       "1094688                 Python   \n",
       "2097544            Concurrency   \n",
       "1554464    Interviewing Skills   \n",
       "\n",
       "                                                   tokenized  \\\n",
       "course_id                                                      \n",
       "2380762    [python, the, quickest, way, python, essential...   \n",
       "1933200              [building, trading, algorithms, python]   \n",
       "1094688    [superb, python, course, become, certified, py...   \n",
       "2097544                    [python, concurrency, simplified]   \n",
       "1554464    [python, sorting, searching, with, interview, ...   \n",
       "\n",
       "                                              clean_document  cluster  \n",
       "course_id                                                              \n",
       "2380762    python the quickest way python essentials cour...        3  \n",
       "1933200                   building trading algorithms python        3  \n",
       "1094688    superb python course become certified python d...        3  \n",
       "2097544                        python concurrency simplified        3  \n",
       "1554464      python sorting searching with interview riddles        3  "
      ]
     },
     "execution_count": 70,
     "metadata": {},
     "output_type": "execute_result"
    }
   ],
   "source": [
    "recommend_course('python')"
   ]
  },
  {
   "cell_type": "code",
   "execution_count": 71,
   "metadata": {},
   "outputs": [
    {
     "data": {
      "text/html": [
       "<div>\n",
       "<style scoped>\n",
       "    .dataframe tbody tr th:only-of-type {\n",
       "        vertical-align: middle;\n",
       "    }\n",
       "\n",
       "    .dataframe tbody tr th {\n",
       "        vertical-align: top;\n",
       "    }\n",
       "\n",
       "    .dataframe thead th {\n",
       "        text-align: right;\n",
       "    }\n",
       "</style>\n",
       "<table border=\"1\" class=\"dataframe\">\n",
       "  <thead>\n",
       "    <tr style=\"text-align: right;\">\n",
       "      <th></th>\n",
       "      <th>course_name</th>\n",
       "      <th>level</th>\n",
       "      <th>label</th>\n",
       "      <th>tokenized</th>\n",
       "      <th>clean_document</th>\n",
       "      <th>cluster</th>\n",
       "    </tr>\n",
       "    <tr>\n",
       "      <th>course_id</th>\n",
       "      <th></th>\n",
       "      <th></th>\n",
       "      <th></th>\n",
       "      <th></th>\n",
       "      <th></th>\n",
       "      <th></th>\n",
       "    </tr>\n",
       "  </thead>\n",
       "  <tbody>\n",
       "    <tr>\n",
       "      <th>1631000</th>\n",
       "      <td>The Complete TensorFlow Masterclass: Machine L...</td>\n",
       "      <td>Beginner</td>\n",
       "      <td>Deep Learning</td>\n",
       "      <td>[the, complete, tensorflow, masterclass, machi...</td>\n",
       "      <td>the complete tensorflow masterclass machine le...</td>\n",
       "      <td>52</td>\n",
       "    </tr>\n",
       "    <tr>\n",
       "      <th>2019678</th>\n",
       "      <td>Machine Learning With TensorFlow: The Practica...</td>\n",
       "      <td>All Levels</td>\n",
       "      <td>TensorFlow</td>\n",
       "      <td>[machine, learning, with, tensorflow, the, pra...</td>\n",
       "      <td>machine learning with tensorflow the practical...</td>\n",
       "      <td>52</td>\n",
       "    </tr>\n",
       "    <tr>\n",
       "      <th>1915334</th>\n",
       "      <td>Decision Trees for Machine Learning From Scratch</td>\n",
       "      <td>Beginner</td>\n",
       "      <td>Machine Learning</td>\n",
       "      <td>[decision, trees, machine, learning, from, scr...</td>\n",
       "      <td>decision trees machine learning from scratch</td>\n",
       "      <td>52</td>\n",
       "    </tr>\n",
       "    <tr>\n",
       "      <th>2452496</th>\n",
       "      <td>Spark Machine Learning Project (House Sale Pri...</td>\n",
       "      <td>All Levels</td>\n",
       "      <td>Apache Spark</td>\n",
       "      <td>[spark, machine, learning, project, house, sal...</td>\n",
       "      <td>spark machine learning project house sale pric...</td>\n",
       "      <td>52</td>\n",
       "    </tr>\n",
       "    <tr>\n",
       "      <th>1950994</th>\n",
       "      <td>Android P with Machine Learning apps - 26+ pro...</td>\n",
       "      <td>All Levels</td>\n",
       "      <td>Android Development</td>\n",
       "      <td>[android, p, machine, learning, apps, 26, proj...</td>\n",
       "      <td>android p machine learning apps 26 projects total</td>\n",
       "      <td>52</td>\n",
       "    </tr>\n",
       "  </tbody>\n",
       "</table>\n",
       "</div>"
      ],
      "text/plain": [
       "                                                 course_name       level  \\\n",
       "course_id                                                                  \n",
       "1631000    The Complete TensorFlow Masterclass: Machine L...    Beginner   \n",
       "2019678    Machine Learning With TensorFlow: The Practica...  All Levels   \n",
       "1915334     Decision Trees for Machine Learning From Scratch    Beginner   \n",
       "2452496    Spark Machine Learning Project (House Sale Pri...  All Levels   \n",
       "1950994    Android P with Machine Learning apps - 26+ pro...  All Levels   \n",
       "\n",
       "                         label  \\\n",
       "course_id                        \n",
       "1631000          Deep Learning   \n",
       "2019678             TensorFlow   \n",
       "1915334       Machine Learning   \n",
       "2452496           Apache Spark   \n",
       "1950994    Android Development   \n",
       "\n",
       "                                                   tokenized  \\\n",
       "course_id                                                      \n",
       "1631000    [the, complete, tensorflow, masterclass, machi...   \n",
       "2019678    [machine, learning, with, tensorflow, the, pra...   \n",
       "1915334    [decision, trees, machine, learning, from, scr...   \n",
       "2452496    [spark, machine, learning, project, house, sal...   \n",
       "1950994    [android, p, machine, learning, apps, 26, proj...   \n",
       "\n",
       "                                              clean_document  cluster  \n",
       "course_id                                                              \n",
       "1631000    the complete tensorflow masterclass machine le...       52  \n",
       "2019678    machine learning with tensorflow the practical...       52  \n",
       "1915334         decision trees machine learning from scratch       52  \n",
       "2452496    spark machine learning project house sale pric...       52  \n",
       "1950994    android p machine learning apps 26 projects total       52  "
      ]
     },
     "execution_count": 71,
     "metadata": {},
     "output_type": "execute_result"
    }
   ],
   "source": [
    "recommend_course('machine learning')"
   ]
  },
  {
   "cell_type": "code",
   "execution_count": 72,
   "metadata": {},
   "outputs": [
    {
     "data": {
      "text/html": [
       "<div>\n",
       "<style scoped>\n",
       "    .dataframe tbody tr th:only-of-type {\n",
       "        vertical-align: middle;\n",
       "    }\n",
       "\n",
       "    .dataframe tbody tr th {\n",
       "        vertical-align: top;\n",
       "    }\n",
       "\n",
       "    .dataframe thead th {\n",
       "        text-align: right;\n",
       "    }\n",
       "</style>\n",
       "<table border=\"1\" class=\"dataframe\">\n",
       "  <thead>\n",
       "    <tr style=\"text-align: right;\">\n",
       "      <th></th>\n",
       "      <th>course_name</th>\n",
       "      <th>level</th>\n",
       "      <th>label</th>\n",
       "      <th>tokenized</th>\n",
       "      <th>clean_document</th>\n",
       "      <th>cluster</th>\n",
       "    </tr>\n",
       "    <tr>\n",
       "      <th>course_id</th>\n",
       "      <th></th>\n",
       "      <th></th>\n",
       "      <th></th>\n",
       "      <th></th>\n",
       "      <th></th>\n",
       "      <th></th>\n",
       "    </tr>\n",
       "  </thead>\n",
       "  <tbody>\n",
       "    <tr>\n",
       "      <th>1951666</th>\n",
       "      <td>SAS for Data Science</td>\n",
       "      <td>All Levels</td>\n",
       "      <td>SAS</td>\n",
       "      <td>[sas, data, science]</td>\n",
       "      <td>sas data science</td>\n",
       "      <td>30</td>\n",
       "    </tr>\n",
       "    <tr>\n",
       "      <th>860434</th>\n",
       "      <td>Julia for Data Science</td>\n",
       "      <td>Beginner</td>\n",
       "      <td>Julia Programming Language</td>\n",
       "      <td>[julia, data, science]</td>\n",
       "      <td>julia data science</td>\n",
       "      <td>30</td>\n",
       "    </tr>\n",
       "    <tr>\n",
       "      <th>1378566</th>\n",
       "      <td>Machine Learning for Data Science using MATLAB</td>\n",
       "      <td>Beginner</td>\n",
       "      <td>Machine Learning</td>\n",
       "      <td>[machine, learning, data, science, matlab]</td>\n",
       "      <td>machine learning data science matlab</td>\n",
       "      <td>30</td>\n",
       "    </tr>\n",
       "    <tr>\n",
       "      <th>1754636</th>\n",
       "      <td>Modern Data Science Masterclass</td>\n",
       "      <td>All Levels</td>\n",
       "      <td>Data Science</td>\n",
       "      <td>[modern, data, science, masterclass]</td>\n",
       "      <td>modern data science masterclass</td>\n",
       "      <td>30</td>\n",
       "    </tr>\n",
       "    <tr>\n",
       "      <th>1526546</th>\n",
       "      <td>Crack Pandas and NumPy: Python Data Science Ma...</td>\n",
       "      <td>Beginner</td>\n",
       "      <td>Python</td>\n",
       "      <td>[crack, pandas, numpy, python, data, science, ...</td>\n",
       "      <td>crack pandas numpy python data science made easy</td>\n",
       "      <td>30</td>\n",
       "    </tr>\n",
       "  </tbody>\n",
       "</table>\n",
       "</div>"
      ],
      "text/plain": [
       "                                                 course_name       level  \\\n",
       "course_id                                                                  \n",
       "1951666                                 SAS for Data Science  All Levels   \n",
       "860434                                Julia for Data Science    Beginner   \n",
       "1378566       Machine Learning for Data Science using MATLAB    Beginner   \n",
       "1754636                      Modern Data Science Masterclass  All Levels   \n",
       "1526546    Crack Pandas and NumPy: Python Data Science Ma...    Beginner   \n",
       "\n",
       "                                label  \\\n",
       "course_id                               \n",
       "1951666                           SAS   \n",
       "860434     Julia Programming Language   \n",
       "1378566              Machine Learning   \n",
       "1754636                  Data Science   \n",
       "1526546                        Python   \n",
       "\n",
       "                                                   tokenized  \\\n",
       "course_id                                                      \n",
       "1951666                                 [sas, data, science]   \n",
       "860434                                [julia, data, science]   \n",
       "1378566           [machine, learning, data, science, matlab]   \n",
       "1754636                 [modern, data, science, masterclass]   \n",
       "1526546    [crack, pandas, numpy, python, data, science, ...   \n",
       "\n",
       "                                             clean_document  cluster  \n",
       "course_id                                                             \n",
       "1951666                                    sas data science       30  \n",
       "860434                                   julia data science       30  \n",
       "1378566                machine learning data science matlab       30  \n",
       "1754636                     modern data science masterclass       30  \n",
       "1526546    crack pandas numpy python data science made easy       30  "
      ]
     },
     "execution_count": 72,
     "metadata": {},
     "output_type": "execute_result"
    }
   ],
   "source": [
    "recommend_course('data science')"
   ]
  },
  {
   "cell_type": "code",
   "execution_count": 73,
   "metadata": {},
   "outputs": [
    {
     "data": {
      "text/html": [
       "<div>\n",
       "<style scoped>\n",
       "    .dataframe tbody tr th:only-of-type {\n",
       "        vertical-align: middle;\n",
       "    }\n",
       "\n",
       "    .dataframe tbody tr th {\n",
       "        vertical-align: top;\n",
       "    }\n",
       "\n",
       "    .dataframe thead th {\n",
       "        text-align: right;\n",
       "    }\n",
       "</style>\n",
       "<table border=\"1\" class=\"dataframe\">\n",
       "  <thead>\n",
       "    <tr style=\"text-align: right;\">\n",
       "      <th></th>\n",
       "      <th>course_name</th>\n",
       "      <th>level</th>\n",
       "      <th>label</th>\n",
       "      <th>tokenized</th>\n",
       "      <th>clean_document</th>\n",
       "      <th>cluster</th>\n",
       "    </tr>\n",
       "    <tr>\n",
       "      <th>course_id</th>\n",
       "      <th></th>\n",
       "      <th></th>\n",
       "      <th></th>\n",
       "      <th></th>\n",
       "      <th></th>\n",
       "      <th></th>\n",
       "    </tr>\n",
       "  </thead>\n",
       "  <tbody>\n",
       "    <tr>\n",
       "      <th>1419430</th>\n",
       "      <td>LEARNING PATH: Python: Complete Data Analysis ...</td>\n",
       "      <td>Beginner</td>\n",
       "      <td>Python</td>\n",
       "      <td>[learning, path, python, complete, data, analy...</td>\n",
       "      <td>learning path python complete data analysis wi...</td>\n",
       "      <td>23</td>\n",
       "    </tr>\n",
       "    <tr>\n",
       "      <th>1184630</th>\n",
       "      <td>Learning Path: Haskell: Functional Programming...</td>\n",
       "      <td>Intermediate</td>\n",
       "      <td>Haskell</td>\n",
       "      <td>[learning, path, haskell, functional, programm...</td>\n",
       "      <td>learning path haskell functional programming h...</td>\n",
       "      <td>23</td>\n",
       "    </tr>\n",
       "    <tr>\n",
       "      <th>1387510</th>\n",
       "      <td>Learning Path: Python: Predictive Analysis wit...</td>\n",
       "      <td>Intermediate</td>\n",
       "      <td>Python</td>\n",
       "      <td>[learning, path, python, predictive, analysis,...</td>\n",
       "      <td>learning path python predictive analysis python</td>\n",
       "      <td>23</td>\n",
       "    </tr>\n",
       "    <tr>\n",
       "      <th>1621488</th>\n",
       "      <td>LEARNING PATH: Learning Docker and Kubernetes</td>\n",
       "      <td>Intermediate</td>\n",
       "      <td>Kubernetes</td>\n",
       "      <td>[learning, path, learning, docker, kubernetes]</td>\n",
       "      <td>learning path learning docker kubernetes</td>\n",
       "      <td>23</td>\n",
       "    </tr>\n",
       "    <tr>\n",
       "      <th>1113514</th>\n",
       "      <td>Learning Path: R Programming</td>\n",
       "      <td>Beginner</td>\n",
       "      <td>R</td>\n",
       "      <td>[learning, path, r, programming]</td>\n",
       "      <td>learning path r programming</td>\n",
       "      <td>23</td>\n",
       "    </tr>\n",
       "  </tbody>\n",
       "</table>\n",
       "</div>"
      ],
      "text/plain": [
       "                                                 course_name         level  \\\n",
       "course_id                                                                    \n",
       "1419430    LEARNING PATH: Python: Complete Data Analysis ...      Beginner   \n",
       "1184630    Learning Path: Haskell: Functional Programming...  Intermediate   \n",
       "1387510    Learning Path: Python: Predictive Analysis wit...  Intermediate   \n",
       "1621488        LEARNING PATH: Learning Docker and Kubernetes  Intermediate   \n",
       "1113514                         Learning Path: R Programming      Beginner   \n",
       "\n",
       "                label                                          tokenized  \\\n",
       "course_id                                                                  \n",
       "1419430        Python  [learning, path, python, complete, data, analy...   \n",
       "1184630       Haskell  [learning, path, haskell, functional, programm...   \n",
       "1387510        Python  [learning, path, python, predictive, analysis,...   \n",
       "1621488    Kubernetes     [learning, path, learning, docker, kubernetes]   \n",
       "1113514             R                   [learning, path, r, programming]   \n",
       "\n",
       "                                              clean_document  cluster  \n",
       "course_id                                                              \n",
       "1419430    learning path python complete data analysis wi...       23  \n",
       "1184630    learning path haskell functional programming h...       23  \n",
       "1387510      learning path python predictive analysis python       23  \n",
       "1621488             learning path learning docker kubernetes       23  \n",
       "1113514                          learning path r programming       23  "
      ]
     },
     "execution_count": 73,
     "metadata": {},
     "output_type": "execute_result"
    }
   ],
   "source": [
    "recommend_course('data analysis')"
   ]
  },
  {
   "cell_type": "code",
   "execution_count": 74,
   "metadata": {},
   "outputs": [
    {
     "data": {
      "text/html": [
       "<div>\n",
       "<style scoped>\n",
       "    .dataframe tbody tr th:only-of-type {\n",
       "        vertical-align: middle;\n",
       "    }\n",
       "\n",
       "    .dataframe tbody tr th {\n",
       "        vertical-align: top;\n",
       "    }\n",
       "\n",
       "    .dataframe thead th {\n",
       "        text-align: right;\n",
       "    }\n",
       "</style>\n",
       "<table border=\"1\" class=\"dataframe\">\n",
       "  <thead>\n",
       "    <tr style=\"text-align: right;\">\n",
       "      <th></th>\n",
       "      <th>course_name</th>\n",
       "      <th>level</th>\n",
       "      <th>label</th>\n",
       "      <th>tokenized</th>\n",
       "      <th>clean_document</th>\n",
       "      <th>cluster</th>\n",
       "    </tr>\n",
       "    <tr>\n",
       "      <th>course_id</th>\n",
       "      <th></th>\n",
       "      <th></th>\n",
       "      <th></th>\n",
       "      <th></th>\n",
       "      <th></th>\n",
       "      <th></th>\n",
       "    </tr>\n",
       "  </thead>\n",
       "  <tbody>\n",
       "    <tr>\n",
       "      <th>870040</th>\n",
       "      <td>Learning Scala Web Development</td>\n",
       "      <td>Beginner</td>\n",
       "      <td>Scala</td>\n",
       "      <td>[learning, scala, web, development]</td>\n",
       "      <td>learning scala web development</td>\n",
       "      <td>66</td>\n",
       "    </tr>\n",
       "    <tr>\n",
       "      <th>2107538</th>\n",
       "      <td>Angular Web Development in 2 Hours</td>\n",
       "      <td>Beginner</td>\n",
       "      <td>Angular</td>\n",
       "      <td>[angular, web, development, 2, hours]</td>\n",
       "      <td>angular web development 2 hours</td>\n",
       "      <td>66</td>\n",
       "    </tr>\n",
       "    <tr>\n",
       "      <th>1636712</th>\n",
       "      <td>Wordpress for Web Development</td>\n",
       "      <td>Intermediate</td>\n",
       "      <td>WordPress</td>\n",
       "      <td>[wordpress, web, development]</td>\n",
       "      <td>wordpress web development</td>\n",
       "      <td>66</td>\n",
       "    </tr>\n",
       "    <tr>\n",
       "      <th>549064</th>\n",
       "      <td>Web Development Tools the Pros Use: Code Produ...</td>\n",
       "      <td>Beginner</td>\n",
       "      <td>Web Development</td>\n",
       "      <td>[web, development, tools, pros, use, code, pro...</td>\n",
       "      <td>web development tools pros use code productivi...</td>\n",
       "      <td>66</td>\n",
       "    </tr>\n",
       "    <tr>\n",
       "      <th>1415652</th>\n",
       "      <td>Complete Web Development: 22 Courses in 1</td>\n",
       "      <td>All Levels</td>\n",
       "      <td>Web Development</td>\n",
       "      <td>[complete, web, development, 22, courses, 1]</td>\n",
       "      <td>complete web development 22 courses 1</td>\n",
       "      <td>66</td>\n",
       "    </tr>\n",
       "  </tbody>\n",
       "</table>\n",
       "</div>"
      ],
      "text/plain": [
       "                                                 course_name         level  \\\n",
       "course_id                                                                    \n",
       "870040                        Learning Scala Web Development      Beginner   \n",
       "2107538                   Angular Web Development in 2 Hours      Beginner   \n",
       "1636712                        Wordpress for Web Development  Intermediate   \n",
       "549064     Web Development Tools the Pros Use: Code Produ...      Beginner   \n",
       "1415652            Complete Web Development: 22 Courses in 1    All Levels   \n",
       "\n",
       "                     label                                          tokenized  \\\n",
       "course_id                                                                       \n",
       "870040               Scala                [learning, scala, web, development]   \n",
       "2107538            Angular              [angular, web, development, 2, hours]   \n",
       "1636712          WordPress                      [wordpress, web, development]   \n",
       "549064     Web Development  [web, development, tools, pros, use, code, pro...   \n",
       "1415652    Web Development       [complete, web, development, 22, courses, 1]   \n",
       "\n",
       "                                              clean_document  cluster  \n",
       "course_id                                                              \n",
       "870040                        learning scala web development       66  \n",
       "2107538                      angular web development 2 hours       66  \n",
       "1636712                            wordpress web development       66  \n",
       "549064     web development tools pros use code productivi...       66  \n",
       "1415652                complete web development 22 courses 1       66  "
      ]
     },
     "execution_count": 74,
     "metadata": {},
     "output_type": "execute_result"
    }
   ],
   "source": [
    "recommend_course('web development')"
   ]
  },
  {
   "cell_type": "code",
   "execution_count": 75,
   "metadata": {},
   "outputs": [
    {
     "data": {
      "text/html": [
       "<div>\n",
       "<style scoped>\n",
       "    .dataframe tbody tr th:only-of-type {\n",
       "        vertical-align: middle;\n",
       "    }\n",
       "\n",
       "    .dataframe tbody tr th {\n",
       "        vertical-align: top;\n",
       "    }\n",
       "\n",
       "    .dataframe thead th {\n",
       "        text-align: right;\n",
       "    }\n",
       "</style>\n",
       "<table border=\"1\" class=\"dataframe\">\n",
       "  <thead>\n",
       "    <tr style=\"text-align: right;\">\n",
       "      <th></th>\n",
       "      <th>course_name</th>\n",
       "      <th>level</th>\n",
       "      <th>label</th>\n",
       "      <th>tokenized</th>\n",
       "      <th>clean_document</th>\n",
       "      <th>cluster</th>\n",
       "    </tr>\n",
       "    <tr>\n",
       "      <th>course_id</th>\n",
       "      <th></th>\n",
       "      <th></th>\n",
       "      <th></th>\n",
       "      <th></th>\n",
       "      <th></th>\n",
       "      <th></th>\n",
       "    </tr>\n",
       "  </thead>\n",
       "  <tbody>\n",
       "    <tr>\n",
       "      <th>412400</th>\n",
       "      <td>Learn How to Extract Data From Websites with PHP</td>\n",
       "      <td>All Levels</td>\n",
       "      <td>PHP</td>\n",
       "      <td>[learn, how, extract, data, from, websites, php]</td>\n",
       "      <td>learn how extract data from websites php</td>\n",
       "      <td>0</td>\n",
       "    </tr>\n",
       "    <tr>\n",
       "      <th>625888</th>\n",
       "      <td>Everything About PHP Sessions</td>\n",
       "      <td>Intermediate</td>\n",
       "      <td>PHP Security</td>\n",
       "      <td>[everything, about, php, sessions]</td>\n",
       "      <td>everything about php sessions</td>\n",
       "      <td>0</td>\n",
       "    </tr>\n",
       "    <tr>\n",
       "      <th>1500070</th>\n",
       "      <td>Python and PHP Programming Bundle</td>\n",
       "      <td>Beginner</td>\n",
       "      <td>Python</td>\n",
       "      <td>[python, php, programming, bundle]</td>\n",
       "      <td>python php programming bundle</td>\n",
       "      <td>0</td>\n",
       "    </tr>\n",
       "    <tr>\n",
       "      <th>1463992</th>\n",
       "      <td>Mastering Complete PHP PDO to Develop Secure A...</td>\n",
       "      <td>All Levels</td>\n",
       "      <td>PDO</td>\n",
       "      <td>[mastering, complete, php, pdo, develop, secur...</td>\n",
       "      <td>mastering complete php pdo develop secure appl...</td>\n",
       "      <td>0</td>\n",
       "    </tr>\n",
       "    <tr>\n",
       "      <th>405454</th>\n",
       "      <td>Complete PHP MVC tutorial. Create your own PHP...</td>\n",
       "      <td>All Levels</td>\n",
       "      <td>PHP MVC</td>\n",
       "      <td>[complete, php, mvc, tutorial, create, php, mv...</td>\n",
       "      <td>complete php mvc tutorial create php mvc frame...</td>\n",
       "      <td>0</td>\n",
       "    </tr>\n",
       "  </tbody>\n",
       "</table>\n",
       "</div>"
      ],
      "text/plain": [
       "                                                 course_name         level  \\\n",
       "course_id                                                                    \n",
       "412400      Learn How to Extract Data From Websites with PHP    All Levels   \n",
       "625888                         Everything About PHP Sessions  Intermediate   \n",
       "1500070                    Python and PHP Programming Bundle      Beginner   \n",
       "1463992    Mastering Complete PHP PDO to Develop Secure A...    All Levels   \n",
       "405454     Complete PHP MVC tutorial. Create your own PHP...    All Levels   \n",
       "\n",
       "                  label                                          tokenized  \\\n",
       "course_id                                                                    \n",
       "412400              PHP   [learn, how, extract, data, from, websites, php]   \n",
       "625888     PHP Security                 [everything, about, php, sessions]   \n",
       "1500070          Python                 [python, php, programming, bundle]   \n",
       "1463992             PDO  [mastering, complete, php, pdo, develop, secur...   \n",
       "405454          PHP MVC  [complete, php, mvc, tutorial, create, php, mv...   \n",
       "\n",
       "                                              clean_document  cluster  \n",
       "course_id                                                              \n",
       "412400              learn how extract data from websites php        0  \n",
       "625888                         everything about php sessions        0  \n",
       "1500070                        python php programming bundle        0  \n",
       "1463992    mastering complete php pdo develop secure appl...        0  \n",
       "405454     complete php mvc tutorial create php mvc frame...        0  "
      ]
     },
     "execution_count": 75,
     "metadata": {},
     "output_type": "execute_result"
    }
   ],
   "source": [
    "recommend_course('php')"
   ]
  },
  {
   "cell_type": "code",
   "execution_count": 76,
   "metadata": {},
   "outputs": [
    {
     "data": {
      "text/html": [
       "<div>\n",
       "<style scoped>\n",
       "    .dataframe tbody tr th:only-of-type {\n",
       "        vertical-align: middle;\n",
       "    }\n",
       "\n",
       "    .dataframe tbody tr th {\n",
       "        vertical-align: top;\n",
       "    }\n",
       "\n",
       "    .dataframe thead th {\n",
       "        text-align: right;\n",
       "    }\n",
       "</style>\n",
       "<table border=\"1\" class=\"dataframe\">\n",
       "  <thead>\n",
       "    <tr style=\"text-align: right;\">\n",
       "      <th></th>\n",
       "      <th>course_name</th>\n",
       "      <th>level</th>\n",
       "      <th>label</th>\n",
       "      <th>tokenized</th>\n",
       "      <th>clean_document</th>\n",
       "      <th>cluster</th>\n",
       "    </tr>\n",
       "    <tr>\n",
       "      <th>course_id</th>\n",
       "      <th></th>\n",
       "      <th></th>\n",
       "      <th></th>\n",
       "      <th></th>\n",
       "      <th></th>\n",
       "      <th></th>\n",
       "    </tr>\n",
       "  </thead>\n",
       "  <tbody>\n",
       "    <tr>\n",
       "      <th>2031884</th>\n",
       "      <td>App for million users:PHP High Performance</td>\n",
       "      <td>Intermediate</td>\n",
       "      <td>PHP</td>\n",
       "      <td>[app, million, users, php, high, performance]</td>\n",
       "      <td>app million users php high performance</td>\n",
       "      <td>47</td>\n",
       "    </tr>\n",
       "    <tr>\n",
       "      <th>2080172</th>\n",
       "      <td>C++: From Scratch to High-Performance Applicat...</td>\n",
       "      <td>Beginner</td>\n",
       "      <td>C++</td>\n",
       "      <td>[c++, from, scratch, high, performance, applic...</td>\n",
       "      <td>c++ from scratch high performance applications</td>\n",
       "      <td>47</td>\n",
       "    </tr>\n",
       "    <tr>\n",
       "      <th>2031884</th>\n",
       "      <td>App for million users:PHP High Performance</td>\n",
       "      <td>Intermediate</td>\n",
       "      <td>PHP</td>\n",
       "      <td>[app, million, users, php, high, performance]</td>\n",
       "      <td>app million users php high performance</td>\n",
       "      <td>47</td>\n",
       "    </tr>\n",
       "    <tr>\n",
       "      <th>1130292</th>\n",
       "      <td>Store Secret Data in .NET Core Web App with Az...</td>\n",
       "      <td>Intermediate</td>\n",
       "      <td>Microsoft Azure</td>\n",
       "      <td>[store, secret, data, .net, core, web, app, az...</td>\n",
       "      <td>store secret data .net core web app azure key ...</td>\n",
       "      <td>47</td>\n",
       "    </tr>\n",
       "    <tr>\n",
       "      <th>2080172</th>\n",
       "      <td>C++: From Scratch to High-Performance Applicat...</td>\n",
       "      <td>Beginner</td>\n",
       "      <td>C++</td>\n",
       "      <td>[c++, from, scratch, high, performance, applic...</td>\n",
       "      <td>c++ from scratch high performance applications</td>\n",
       "      <td>47</td>\n",
       "    </tr>\n",
       "  </tbody>\n",
       "</table>\n",
       "</div>"
      ],
      "text/plain": [
       "                                                 course_name         level  \\\n",
       "course_id                                                                    \n",
       "2031884           App for million users:PHP High Performance  Intermediate   \n",
       "2080172    C++: From Scratch to High-Performance Applicat...      Beginner   \n",
       "2031884           App for million users:PHP High Performance  Intermediate   \n",
       "1130292    Store Secret Data in .NET Core Web App with Az...  Intermediate   \n",
       "2080172    C++: From Scratch to High-Performance Applicat...      Beginner   \n",
       "\n",
       "                     label                                          tokenized  \\\n",
       "course_id                                                                       \n",
       "2031884                PHP      [app, million, users, php, high, performance]   \n",
       "2080172                C++  [c++, from, scratch, high, performance, applic...   \n",
       "2031884                PHP      [app, million, users, php, high, performance]   \n",
       "1130292    Microsoft Azure  [store, secret, data, .net, core, web, app, az...   \n",
       "2080172                C++  [c++, from, scratch, high, performance, applic...   \n",
       "\n",
       "                                              clean_document  cluster  \n",
       "course_id                                                              \n",
       "2031884               app million users php high performance       47  \n",
       "2080172       c++ from scratch high performance applications       47  \n",
       "2031884               app million users php high performance       47  \n",
       "1130292    store secret data .net core web app azure key ...       47  \n",
       "2080172       c++ from scratch high performance applications       47  "
      ]
     },
     "execution_count": 76,
     "metadata": {},
     "output_type": "execute_result"
    }
   ],
   "source": [
    "recommend_course('.net')"
   ]
  },
  {
   "cell_type": "code",
   "execution_count": 78,
   "metadata": {},
   "outputs": [],
   "source": [
    "from joblib import dump, load\n",
    "dump(cls, 'kmeans.joblib')\n",
    "dump(vectorizer, 'vectorizer.joblib')\n",
    "# export data to csv\n",
    "course.to_csv('kmeans.csv', sep=';', encoding='utf-8')"
   ]
  },
  {
   "cell_type": "markdown",
   "metadata": {},
   "source": [
    "### Affinity propagation clustering"
   ]
  },
  {
   "cell_type": "code",
   "execution_count": 43,
   "metadata": {},
   "outputs": [],
   "source": [
    "cls = AffinityPropagation(damping=0.5, max_iter=300, convergence_iter=20, copy=True, preference=None, affinity='euclidean', verbose=False)"
   ]
  },
  {
   "cell_type": "code",
   "execution_count": 44,
   "metadata": {},
   "outputs": [
    {
     "name": "stderr",
     "output_type": "stream",
     "text": [
      "c:\\Users\\umit\\Desktop\\StajProje\\venv\\lib\\site-packages\\sklearn\\cluster\\_affinity_propagation.py:236: ConvergenceWarning: Affinity propagation did not converge, this model may return degenerate cluster centers and labels.\n",
      "  warnings.warn(\n"
     ]
    },
    {
     "data": {
      "text/html": [
       "<style>#sk-container-id-4 {color: black;background-color: white;}#sk-container-id-4 pre{padding: 0;}#sk-container-id-4 div.sk-toggleable {background-color: white;}#sk-container-id-4 label.sk-toggleable__label {cursor: pointer;display: block;width: 100%;margin-bottom: 0;padding: 0.3em;box-sizing: border-box;text-align: center;}#sk-container-id-4 label.sk-toggleable__label-arrow:before {content: \"▸\";float: left;margin-right: 0.25em;color: #696969;}#sk-container-id-4 label.sk-toggleable__label-arrow:hover:before {color: black;}#sk-container-id-4 div.sk-estimator:hover label.sk-toggleable__label-arrow:before {color: black;}#sk-container-id-4 div.sk-toggleable__content {max-height: 0;max-width: 0;overflow: hidden;text-align: left;background-color: #f0f8ff;}#sk-container-id-4 div.sk-toggleable__content pre {margin: 0.2em;color: black;border-radius: 0.25em;background-color: #f0f8ff;}#sk-container-id-4 input.sk-toggleable__control:checked~div.sk-toggleable__content {max-height: 200px;max-width: 100%;overflow: auto;}#sk-container-id-4 input.sk-toggleable__control:checked~label.sk-toggleable__label-arrow:before {content: \"▾\";}#sk-container-id-4 div.sk-estimator input.sk-toggleable__control:checked~label.sk-toggleable__label {background-color: #d4ebff;}#sk-container-id-4 div.sk-label input.sk-toggleable__control:checked~label.sk-toggleable__label {background-color: #d4ebff;}#sk-container-id-4 input.sk-hidden--visually {border: 0;clip: rect(1px 1px 1px 1px);clip: rect(1px, 1px, 1px, 1px);height: 1px;margin: -1px;overflow: hidden;padding: 0;position: absolute;width: 1px;}#sk-container-id-4 div.sk-estimator {font-family: monospace;background-color: #f0f8ff;border: 1px dotted black;border-radius: 0.25em;box-sizing: border-box;margin-bottom: 0.5em;}#sk-container-id-4 div.sk-estimator:hover {background-color: #d4ebff;}#sk-container-id-4 div.sk-parallel-item::after {content: \"\";width: 100%;border-bottom: 1px solid gray;flex-grow: 1;}#sk-container-id-4 div.sk-label:hover label.sk-toggleable__label {background-color: #d4ebff;}#sk-container-id-4 div.sk-serial::before {content: \"\";position: absolute;border-left: 1px solid gray;box-sizing: border-box;top: 0;bottom: 0;left: 50%;z-index: 0;}#sk-container-id-4 div.sk-serial {display: flex;flex-direction: column;align-items: center;background-color: white;padding-right: 0.2em;padding-left: 0.2em;position: relative;}#sk-container-id-4 div.sk-item {position: relative;z-index: 1;}#sk-container-id-4 div.sk-parallel {display: flex;align-items: stretch;justify-content: center;background-color: white;position: relative;}#sk-container-id-4 div.sk-item::before, #sk-container-id-4 div.sk-parallel-item::before {content: \"\";position: absolute;border-left: 1px solid gray;box-sizing: border-box;top: 0;bottom: 0;left: 50%;z-index: -1;}#sk-container-id-4 div.sk-parallel-item {display: flex;flex-direction: column;z-index: 1;position: relative;background-color: white;}#sk-container-id-4 div.sk-parallel-item:first-child::after {align-self: flex-end;width: 50%;}#sk-container-id-4 div.sk-parallel-item:last-child::after {align-self: flex-start;width: 50%;}#sk-container-id-4 div.sk-parallel-item:only-child::after {width: 0;}#sk-container-id-4 div.sk-dashed-wrapped {border: 1px dashed gray;margin: 0 0.4em 0.5em 0.4em;box-sizing: border-box;padding-bottom: 0.4em;background-color: white;}#sk-container-id-4 div.sk-label label {font-family: monospace;font-weight: bold;display: inline-block;line-height: 1.2em;}#sk-container-id-4 div.sk-label-container {text-align: center;}#sk-container-id-4 div.sk-container {/* jupyter's `normalize.less` sets `[hidden] { display: none; }` but bootstrap.min.css set `[hidden] { display: none !important; }` so we also need the `!important` here to be able to override the default hidden behavior on the sphinx rendered scikit-learn.org. See: https://github.com/scikit-learn/scikit-learn/issues/21755 */display: inline-block !important;position: relative;}#sk-container-id-4 div.sk-text-repr-fallback {display: none;}</style><div id=\"sk-container-id-4\" class=\"sk-top-container\"><div class=\"sk-text-repr-fallback\"><pre>AffinityPropagation(convergence_iter=20, max_iter=300)</pre><b>In a Jupyter environment, please rerun this cell to show the HTML representation or trust the notebook. <br />On GitHub, the HTML representation is unable to render, please try loading this page with nbviewer.org.</b></div><div class=\"sk-container\" hidden><div class=\"sk-item\"><div class=\"sk-estimator sk-toggleable\"><input class=\"sk-toggleable__control sk-hidden--visually\" id=\"sk-estimator-id-4\" type=\"checkbox\" checked><label for=\"sk-estimator-id-4\" class=\"sk-toggleable__label sk-toggleable__label-arrow\">AffinityPropagation</label><div class=\"sk-toggleable__content\"><pre>AffinityPropagation(convergence_iter=20, max_iter=300)</pre></div></div></div></div></div>"
      ],
      "text/plain": [
       "AffinityPropagation(convergence_iter=20, max_iter=300)"
      ]
     },
     "execution_count": 44,
     "metadata": {},
     "output_type": "execute_result"
    }
   ],
   "source": [
    "cls.fit(features)"
   ]
  },
  {
   "cell_type": "code",
   "execution_count": 51,
   "metadata": {},
   "outputs": [],
   "source": [
    "course['cluster'] = cls.labels_"
   ]
  },
  {
   "cell_type": "code",
   "execution_count": 52,
   "metadata": {},
   "outputs": [
    {
     "data": {
      "text/html": [
       "<div>\n",
       "<style scoped>\n",
       "    .dataframe tbody tr th:only-of-type {\n",
       "        vertical-align: middle;\n",
       "    }\n",
       "\n",
       "    .dataframe tbody tr th {\n",
       "        vertical-align: top;\n",
       "    }\n",
       "\n",
       "    .dataframe thead th {\n",
       "        text-align: right;\n",
       "    }\n",
       "</style>\n",
       "<table border=\"1\" class=\"dataframe\">\n",
       "  <thead>\n",
       "    <tr style=\"text-align: right;\">\n",
       "      <th></th>\n",
       "      <th>course_name</th>\n",
       "      <th>level</th>\n",
       "      <th>label</th>\n",
       "      <th>tokenized</th>\n",
       "      <th>clean_document</th>\n",
       "    </tr>\n",
       "    <tr>\n",
       "      <th>cluster</th>\n",
       "      <th></th>\n",
       "      <th></th>\n",
       "      <th></th>\n",
       "      <th></th>\n",
       "      <th></th>\n",
       "    </tr>\n",
       "  </thead>\n",
       "  <tbody>\n",
       "    <tr>\n",
       "      <th>0</th>\n",
       "      <td>4</td>\n",
       "      <td>4</td>\n",
       "      <td>4</td>\n",
       "      <td>4</td>\n",
       "      <td>4</td>\n",
       "    </tr>\n",
       "    <tr>\n",
       "      <th>1</th>\n",
       "      <td>11</td>\n",
       "      <td>11</td>\n",
       "      <td>11</td>\n",
       "      <td>11</td>\n",
       "      <td>11</td>\n",
       "    </tr>\n",
       "    <tr>\n",
       "      <th>2</th>\n",
       "      <td>1</td>\n",
       "      <td>1</td>\n",
       "      <td>1</td>\n",
       "      <td>1</td>\n",
       "      <td>1</td>\n",
       "    </tr>\n",
       "    <tr>\n",
       "      <th>3</th>\n",
       "      <td>3</td>\n",
       "      <td>3</td>\n",
       "      <td>3</td>\n",
       "      <td>3</td>\n",
       "      <td>3</td>\n",
       "    </tr>\n",
       "    <tr>\n",
       "      <th>4</th>\n",
       "      <td>4</td>\n",
       "      <td>4</td>\n",
       "      <td>4</td>\n",
       "      <td>4</td>\n",
       "      <td>4</td>\n",
       "    </tr>\n",
       "    <tr>\n",
       "      <th>...</th>\n",
       "      <td>...</td>\n",
       "      <td>...</td>\n",
       "      <td>...</td>\n",
       "      <td>...</td>\n",
       "      <td>...</td>\n",
       "    </tr>\n",
       "    <tr>\n",
       "      <th>602</th>\n",
       "      <td>4</td>\n",
       "      <td>4</td>\n",
       "      <td>4</td>\n",
       "      <td>4</td>\n",
       "      <td>4</td>\n",
       "    </tr>\n",
       "    <tr>\n",
       "      <th>603</th>\n",
       "      <td>3</td>\n",
       "      <td>3</td>\n",
       "      <td>3</td>\n",
       "      <td>3</td>\n",
       "      <td>3</td>\n",
       "    </tr>\n",
       "    <tr>\n",
       "      <th>604</th>\n",
       "      <td>5</td>\n",
       "      <td>5</td>\n",
       "      <td>5</td>\n",
       "      <td>5</td>\n",
       "      <td>5</td>\n",
       "    </tr>\n",
       "    <tr>\n",
       "      <th>605</th>\n",
       "      <td>4</td>\n",
       "      <td>4</td>\n",
       "      <td>4</td>\n",
       "      <td>4</td>\n",
       "      <td>4</td>\n",
       "    </tr>\n",
       "    <tr>\n",
       "      <th>606</th>\n",
       "      <td>3</td>\n",
       "      <td>3</td>\n",
       "      <td>3</td>\n",
       "      <td>3</td>\n",
       "      <td>3</td>\n",
       "    </tr>\n",
       "  </tbody>\n",
       "</table>\n",
       "<p>607 rows × 5 columns</p>\n",
       "</div>"
      ],
      "text/plain": [
       "         course_name  level  label  tokenized  clean_document\n",
       "cluster                                                      \n",
       "0                  4      4      4          4               4\n",
       "1                 11     11     11         11              11\n",
       "2                  1      1      1          1               1\n",
       "3                  3      3      3          3               3\n",
       "4                  4      4      4          4               4\n",
       "...              ...    ...    ...        ...             ...\n",
       "602                4      4      4          4               4\n",
       "603                3      3      3          3               3\n",
       "604                5      5      5          5               5\n",
       "605                4      4      4          4               4\n",
       "606                3      3      3          3               3\n",
       "\n",
       "[607 rows x 5 columns]"
      ]
     },
     "execution_count": 52,
     "metadata": {},
     "output_type": "execute_result"
    }
   ],
   "source": [
    "course.groupby('cluster').count()"
   ]
  },
  {
   "cell_type": "code",
   "execution_count": 53,
   "metadata": {},
   "outputs": [
    {
     "data": {
      "text/html": [
       "<div>\n",
       "<style scoped>\n",
       "    .dataframe tbody tr th:only-of-type {\n",
       "        vertical-align: middle;\n",
       "    }\n",
       "\n",
       "    .dataframe tbody tr th {\n",
       "        vertical-align: top;\n",
       "    }\n",
       "\n",
       "    .dataframe thead th {\n",
       "        text-align: right;\n",
       "    }\n",
       "</style>\n",
       "<table border=\"1\" class=\"dataframe\">\n",
       "  <thead>\n",
       "    <tr style=\"text-align: right;\">\n",
       "      <th></th>\n",
       "      <th>course_name</th>\n",
       "      <th>level</th>\n",
       "      <th>label</th>\n",
       "      <th>tokenized</th>\n",
       "      <th>clean_document</th>\n",
       "      <th>cluster</th>\n",
       "    </tr>\n",
       "    <tr>\n",
       "      <th>course_id</th>\n",
       "      <th></th>\n",
       "      <th></th>\n",
       "      <th></th>\n",
       "      <th></th>\n",
       "      <th></th>\n",
       "      <th></th>\n",
       "    </tr>\n",
       "  </thead>\n",
       "  <tbody>\n",
       "    <tr>\n",
       "      <th>1200098</th>\n",
       "      <td>Python 9000: Review Concepts (K11 thru K22)</td>\n",
       "      <td>All Levels</td>\n",
       "      <td>Python</td>\n",
       "      <td>[python, 9000, review, concepts, k11, k22]</td>\n",
       "      <td>python 9000 review concepts k11 k22</td>\n",
       "      <td>18</td>\n",
       "    </tr>\n",
       "    <tr>\n",
       "      <th>2492602</th>\n",
       "      <td>Create payslips and invoices with Python</td>\n",
       "      <td>Beginner</td>\n",
       "      <td>Python</td>\n",
       "      <td>[create, payslips, invoices, python]</td>\n",
       "      <td>create payslips invoices python</td>\n",
       "      <td>18</td>\n",
       "    </tr>\n",
       "    <tr>\n",
       "      <th>64851</th>\n",
       "      <td>Python for Rookies</td>\n",
       "      <td>Beginner</td>\n",
       "      <td>Python</td>\n",
       "      <td>[python, rookies]</td>\n",
       "      <td>python rookies</td>\n",
       "      <td>18</td>\n",
       "    </tr>\n",
       "    <tr>\n",
       "      <th>2355016</th>\n",
       "      <td>Python 1100: Python for Professionals</td>\n",
       "      <td>Beginner</td>\n",
       "      <td>Python</td>\n",
       "      <td>[python, 1100, python, professionals]</td>\n",
       "      <td>python 1100 python professionals</td>\n",
       "      <td>18</td>\n",
       "    </tr>\n",
       "    <tr>\n",
       "      <th>918364</th>\n",
       "      <td>Python 1000: The Python Primer</td>\n",
       "      <td>Beginner</td>\n",
       "      <td>Python</td>\n",
       "      <td>[python, 1000, the, python, primer]</td>\n",
       "      <td>python 1000 the python primer</td>\n",
       "      <td>18</td>\n",
       "    </tr>\n",
       "  </tbody>\n",
       "</table>\n",
       "</div>"
      ],
      "text/plain": [
       "                                           course_name       level   label  \\\n",
       "course_id                                                                    \n",
       "1200098    Python 9000: Review Concepts (K11 thru K22)  All Levels  Python   \n",
       "2492602       Create payslips and invoices with Python    Beginner  Python   \n",
       "64851                               Python for Rookies    Beginner  Python   \n",
       "2355016          Python 1100: Python for Professionals    Beginner  Python   \n",
       "918364                  Python 1000: The Python Primer    Beginner  Python   \n",
       "\n",
       "                                            tokenized  \\\n",
       "course_id                                               \n",
       "1200098    [python, 9000, review, concepts, k11, k22]   \n",
       "2492602          [create, payslips, invoices, python]   \n",
       "64851                               [python, rookies]   \n",
       "2355016         [python, 1100, python, professionals]   \n",
       "918364            [python, 1000, the, python, primer]   \n",
       "\n",
       "                                clean_document  cluster  \n",
       "course_id                                                \n",
       "1200098    python 9000 review concepts k11 k22       18  \n",
       "2492602        create payslips invoices python       18  \n",
       "64851                           python rookies       18  \n",
       "2355016       python 1100 python professionals       18  \n",
       "918364           python 1000 the python primer       18  "
      ]
     },
     "execution_count": 53,
     "metadata": {},
     "output_type": "execute_result"
    }
   ],
   "source": [
    "recommend_course('python')"
   ]
  },
  {
   "cell_type": "code",
   "execution_count": 58,
   "metadata": {},
   "outputs": [
    {
     "data": {
      "text/html": [
       "<div>\n",
       "<style scoped>\n",
       "    .dataframe tbody tr th:only-of-type {\n",
       "        vertical-align: middle;\n",
       "    }\n",
       "\n",
       "    .dataframe tbody tr th {\n",
       "        vertical-align: top;\n",
       "    }\n",
       "\n",
       "    .dataframe thead th {\n",
       "        text-align: right;\n",
       "    }\n",
       "</style>\n",
       "<table border=\"1\" class=\"dataframe\">\n",
       "  <thead>\n",
       "    <tr style=\"text-align: right;\">\n",
       "      <th></th>\n",
       "      <th>course_name</th>\n",
       "      <th>level</th>\n",
       "      <th>label</th>\n",
       "      <th>tokenized</th>\n",
       "      <th>clean_document</th>\n",
       "      <th>cluster</th>\n",
       "    </tr>\n",
       "    <tr>\n",
       "      <th>course_id</th>\n",
       "      <th></th>\n",
       "      <th></th>\n",
       "      <th></th>\n",
       "      <th></th>\n",
       "      <th></th>\n",
       "      <th></th>\n",
       "    </tr>\n",
       "  </thead>\n",
       "  <tbody>\n",
       "    <tr>\n",
       "      <th>1295786</th>\n",
       "      <td>R and Machine Learning Fundamentals</td>\n",
       "      <td>Intermediate</td>\n",
       "      <td>Machine Learning</td>\n",
       "      <td>[r, machine, learning, fundamentals]</td>\n",
       "      <td>r machine learning fundamentals</td>\n",
       "      <td>397</td>\n",
       "    </tr>\n",
       "    <tr>\n",
       "      <th>1568060</th>\n",
       "      <td>Machine Learning In The Cloud With Azure Machi...</td>\n",
       "      <td>Beginner</td>\n",
       "      <td>Machine Learning</td>\n",
       "      <td>[machine, learning, in, the, cloud, with, azur...</td>\n",
       "      <td>machine learning in the cloud with azure machi...</td>\n",
       "      <td>397</td>\n",
       "    </tr>\n",
       "    <tr>\n",
       "      <th>2218844</th>\n",
       "      <td>Random Forest Algorithm in Machine Learning</td>\n",
       "      <td>Intermediate</td>\n",
       "      <td>Machine Learning</td>\n",
       "      <td>[random, forest, algorithm, machine, learning]</td>\n",
       "      <td>random forest algorithm machine learning</td>\n",
       "      <td>397</td>\n",
       "    </tr>\n",
       "    <tr>\n",
       "      <th>2277303</th>\n",
       "      <td>Choosing the Right Machine Learning Algorithm</td>\n",
       "      <td>Beginner</td>\n",
       "      <td>Machine Learning</td>\n",
       "      <td>[choosing, right, machine, learning, algorithm]</td>\n",
       "      <td>choosing right machine learning algorithm</td>\n",
       "      <td>397</td>\n",
       "    </tr>\n",
       "    <tr>\n",
       "      <th>1400924</th>\n",
       "      <td>Machine Learning for Apps</td>\n",
       "      <td>Beginner</td>\n",
       "      <td>Machine Learning</td>\n",
       "      <td>[machine, learning, apps]</td>\n",
       "      <td>machine learning apps</td>\n",
       "      <td>397</td>\n",
       "    </tr>\n",
       "  </tbody>\n",
       "</table>\n",
       "</div>"
      ],
      "text/plain": [
       "                                                 course_name         level  \\\n",
       "course_id                                                                    \n",
       "1295786                  R and Machine Learning Fundamentals  Intermediate   \n",
       "1568060    Machine Learning In The Cloud With Azure Machi...      Beginner   \n",
       "2218844          Random Forest Algorithm in Machine Learning  Intermediate   \n",
       "2277303        Choosing the Right Machine Learning Algorithm      Beginner   \n",
       "1400924                            Machine Learning for Apps      Beginner   \n",
       "\n",
       "                      label  \\\n",
       "course_id                     \n",
       "1295786    Machine Learning   \n",
       "1568060    Machine Learning   \n",
       "2218844    Machine Learning   \n",
       "2277303    Machine Learning   \n",
       "1400924    Machine Learning   \n",
       "\n",
       "                                                   tokenized  \\\n",
       "course_id                                                      \n",
       "1295786                 [r, machine, learning, fundamentals]   \n",
       "1568060    [machine, learning, in, the, cloud, with, azur...   \n",
       "2218844       [random, forest, algorithm, machine, learning]   \n",
       "2277303      [choosing, right, machine, learning, algorithm]   \n",
       "1400924                            [machine, learning, apps]   \n",
       "\n",
       "                                              clean_document  cluster  \n",
       "course_id                                                              \n",
       "1295786                      r machine learning fundamentals      397  \n",
       "1568060    machine learning in the cloud with azure machi...      397  \n",
       "2218844             random forest algorithm machine learning      397  \n",
       "2277303            choosing right machine learning algorithm      397  \n",
       "1400924                                machine learning apps      397  "
      ]
     },
     "execution_count": 58,
     "metadata": {},
     "output_type": "execute_result"
    }
   ],
   "source": [
    "recommend_course('machine learning')"
   ]
  },
  {
   "cell_type": "code",
   "execution_count": 59,
   "metadata": {},
   "outputs": [
    {
     "data": {
      "text/html": [
       "<div>\n",
       "<style scoped>\n",
       "    .dataframe tbody tr th:only-of-type {\n",
       "        vertical-align: middle;\n",
       "    }\n",
       "\n",
       "    .dataframe tbody tr th {\n",
       "        vertical-align: top;\n",
       "    }\n",
       "\n",
       "    .dataframe thead th {\n",
       "        text-align: right;\n",
       "    }\n",
       "</style>\n",
       "<table border=\"1\" class=\"dataframe\">\n",
       "  <thead>\n",
       "    <tr style=\"text-align: right;\">\n",
       "      <th></th>\n",
       "      <th>course_name</th>\n",
       "      <th>level</th>\n",
       "      <th>label</th>\n",
       "      <th>tokenized</th>\n",
       "      <th>clean_document</th>\n",
       "      <th>cluster</th>\n",
       "    </tr>\n",
       "    <tr>\n",
       "      <th>course_id</th>\n",
       "      <th></th>\n",
       "      <th></th>\n",
       "      <th></th>\n",
       "      <th></th>\n",
       "      <th></th>\n",
       "      <th></th>\n",
       "    </tr>\n",
       "  </thead>\n",
       "  <tbody>\n",
       "    <tr>\n",
       "      <th>860434</th>\n",
       "      <td>Julia for Data Science</td>\n",
       "      <td>Beginner</td>\n",
       "      <td>Julia Programming Language</td>\n",
       "      <td>[julia, data, science]</td>\n",
       "      <td>julia data science</td>\n",
       "      <td>256</td>\n",
       "    </tr>\n",
       "    <tr>\n",
       "      <th>1107994</th>\n",
       "      <td>Data Science with Spark</td>\n",
       "      <td>Beginner</td>\n",
       "      <td>Data Science</td>\n",
       "      <td>[data, science, spark]</td>\n",
       "      <td>data science spark</td>\n",
       "      <td>256</td>\n",
       "    </tr>\n",
       "    <tr>\n",
       "      <th>1113500</th>\n",
       "      <td>Learning Path: Data Science With Apache Spark 2</td>\n",
       "      <td>Beginner</td>\n",
       "      <td>Apache Spark</td>\n",
       "      <td>[learning, path, data, science, with, apache, ...</td>\n",
       "      <td>learning path data science with apache spark 2</td>\n",
       "      <td>256</td>\n",
       "    </tr>\n",
       "    <tr>\n",
       "      <th>1729498</th>\n",
       "      <td>Data Science and Analytics in R Programming</td>\n",
       "      <td>All Levels</td>\n",
       "      <td>R</td>\n",
       "      <td>[data, science, analytics, r, programming]</td>\n",
       "      <td>data science analytics r programming</td>\n",
       "      <td>256</td>\n",
       "    </tr>\n",
       "    <tr>\n",
       "      <th>1562640</th>\n",
       "      <td>R Programming for Statistics and Data Science</td>\n",
       "      <td>All Levels</td>\n",
       "      <td>R</td>\n",
       "      <td>[r, programming, statistics, data, science]</td>\n",
       "      <td>r programming statistics data science</td>\n",
       "      <td>256</td>\n",
       "    </tr>\n",
       "  </tbody>\n",
       "</table>\n",
       "</div>"
      ],
      "text/plain": [
       "                                               course_name       level  \\\n",
       "course_id                                                                \n",
       "860434                              Julia for Data Science    Beginner   \n",
       "1107994                            Data Science with Spark    Beginner   \n",
       "1113500    Learning Path: Data Science With Apache Spark 2    Beginner   \n",
       "1729498        Data Science and Analytics in R Programming  All Levels   \n",
       "1562640      R Programming for Statistics and Data Science  All Levels   \n",
       "\n",
       "                                label  \\\n",
       "course_id                               \n",
       "860434     Julia Programming Language   \n",
       "1107994                  Data Science   \n",
       "1113500                  Apache Spark   \n",
       "1729498                             R   \n",
       "1562640                             R   \n",
       "\n",
       "                                                   tokenized  \\\n",
       "course_id                                                      \n",
       "860434                                [julia, data, science]   \n",
       "1107994                               [data, science, spark]   \n",
       "1113500    [learning, path, data, science, with, apache, ...   \n",
       "1729498           [data, science, analytics, r, programming]   \n",
       "1562640          [r, programming, statistics, data, science]   \n",
       "\n",
       "                                           clean_document  cluster  \n",
       "course_id                                                           \n",
       "860434                                 julia data science      256  \n",
       "1107994                                data science spark      256  \n",
       "1113500    learning path data science with apache spark 2      256  \n",
       "1729498              data science analytics r programming      256  \n",
       "1562640             r programming statistics data science      256  "
      ]
     },
     "execution_count": 59,
     "metadata": {},
     "output_type": "execute_result"
    }
   ],
   "source": [
    "recommend_course('data science')"
   ]
  },
  {
   "cell_type": "code",
   "execution_count": 145,
   "metadata": {},
   "outputs": [
    {
     "data": {
      "text/html": [
       "<div>\n",
       "<style scoped>\n",
       "    .dataframe tbody tr th:only-of-type {\n",
       "        vertical-align: middle;\n",
       "    }\n",
       "\n",
       "    .dataframe tbody tr th {\n",
       "        vertical-align: top;\n",
       "    }\n",
       "\n",
       "    .dataframe thead th {\n",
       "        text-align: right;\n",
       "    }\n",
       "</style>\n",
       "<table border=\"1\" class=\"dataframe\">\n",
       "  <thead>\n",
       "    <tr style=\"text-align: right;\">\n",
       "      <th></th>\n",
       "      <th>course_name</th>\n",
       "      <th>level</th>\n",
       "      <th>label</th>\n",
       "      <th>tokenized</th>\n",
       "      <th>clean_document</th>\n",
       "      <th>cluster</th>\n",
       "    </tr>\n",
       "    <tr>\n",
       "      <th>course_id</th>\n",
       "      <th></th>\n",
       "      <th></th>\n",
       "      <th></th>\n",
       "      <th></th>\n",
       "      <th></th>\n",
       "      <th></th>\n",
       "    </tr>\n",
       "  </thead>\n",
       "  <tbody>\n",
       "    <tr>\n",
       "      <th>936000</th>\n",
       "      <td>Facebook Authorization with Node</td>\n",
       "      <td>Beginner</td>\n",
       "      <td>Node.Js</td>\n",
       "      <td>[facebook, authorization, node]</td>\n",
       "      <td>facebook authorization node</td>\n",
       "      <td>26</td>\n",
       "    </tr>\n",
       "    <tr>\n",
       "      <th>828042</th>\n",
       "      <td>SAP - Learn SAPUI5 Professional Development</td>\n",
       "      <td>All Levels</td>\n",
       "      <td>SAPUI5</td>\n",
       "      <td>[sap, learn, sapui5, professional, development]</td>\n",
       "      <td>sap learn sapui5 professional development</td>\n",
       "      <td>26</td>\n",
       "    </tr>\n",
       "    <tr>\n",
       "      <th>625574</th>\n",
       "      <td>Create a Simple Blog CMS in PHP and MYSQL</td>\n",
       "      <td>All Levels</td>\n",
       "      <td>CMS</td>\n",
       "      <td>[create, simple, blog, cms, php, mysql]</td>\n",
       "      <td>create simple blog cms php mysql</td>\n",
       "      <td>26</td>\n",
       "    </tr>\n",
       "    <tr>\n",
       "      <th>703036</th>\n",
       "      <td>Android App Development: Easy and Quick Progra...</td>\n",
       "      <td>All Levels</td>\n",
       "      <td>Android Development</td>\n",
       "      <td>[android, app, development, easy, quick, progr...</td>\n",
       "      <td>android app development easy quick programming</td>\n",
       "      <td>26</td>\n",
       "    </tr>\n",
       "    <tr>\n",
       "      <th>1668048</th>\n",
       "      <td>Laravel 5 CRUD v2: to-do list app  with small ...</td>\n",
       "      <td>All Levels</td>\n",
       "      <td>Laravel</td>\n",
       "      <td>[laravel, 5, crud, v2, list, app,  , small, so...</td>\n",
       "      <td>laravel 5 crud v2 list app   small social network</td>\n",
       "      <td>26</td>\n",
       "    </tr>\n",
       "  </tbody>\n",
       "</table>\n",
       "</div>"
      ],
      "text/plain": [
       "                                                 course_name       level  \\\n",
       "course_id                                                                  \n",
       "936000                      Facebook Authorization with Node    Beginner   \n",
       "828042           SAP - Learn SAPUI5 Professional Development  All Levels   \n",
       "625574             Create a Simple Blog CMS in PHP and MYSQL  All Levels   \n",
       "703036     Android App Development: Easy and Quick Progra...  All Levels   \n",
       "1668048    Laravel 5 CRUD v2: to-do list app  with small ...  All Levels   \n",
       "\n",
       "                         label  \\\n",
       "course_id                        \n",
       "936000                 Node.Js   \n",
       "828042                  SAPUI5   \n",
       "625574                     CMS   \n",
       "703036     Android Development   \n",
       "1668048                Laravel   \n",
       "\n",
       "                                                   tokenized  \\\n",
       "course_id                                                      \n",
       "936000                       [facebook, authorization, node]   \n",
       "828042       [sap, learn, sapui5, professional, development]   \n",
       "625574               [create, simple, blog, cms, php, mysql]   \n",
       "703036     [android, app, development, easy, quick, progr...   \n",
       "1668048    [laravel, 5, crud, v2, list, app,  , small, so...   \n",
       "\n",
       "                                              clean_document  cluster  \n",
       "course_id                                                              \n",
       "936000                           facebook authorization node       26  \n",
       "828042             sap learn sapui5 professional development       26  \n",
       "625574                      create simple blog cms php mysql       26  \n",
       "703036        android app development easy quick programming       26  \n",
       "1668048    laravel 5 crud v2 list app   small social network       26  "
      ]
     },
     "execution_count": 145,
     "metadata": {},
     "output_type": "execute_result"
    }
   ],
   "source": [
    "recommend_course('php')"
   ]
  },
  {
   "cell_type": "markdown",
   "metadata": {},
   "source": [
    "### MiniBatchKMeans clustering"
   ]
  },
  {
   "cell_type": "code",
   "execution_count": 124,
   "metadata": {},
   "outputs": [],
   "source": [
    "cls = MiniBatchKMeans(n_clusters=500, random_state=0)"
   ]
  },
  {
   "cell_type": "code",
   "execution_count": 125,
   "metadata": {},
   "outputs": [
    {
     "data": {
      "text/html": [
       "<style>#sk-container-id-8 {color: black;background-color: white;}#sk-container-id-8 pre{padding: 0;}#sk-container-id-8 div.sk-toggleable {background-color: white;}#sk-container-id-8 label.sk-toggleable__label {cursor: pointer;display: block;width: 100%;margin-bottom: 0;padding: 0.3em;box-sizing: border-box;text-align: center;}#sk-container-id-8 label.sk-toggleable__label-arrow:before {content: \"▸\";float: left;margin-right: 0.25em;color: #696969;}#sk-container-id-8 label.sk-toggleable__label-arrow:hover:before {color: black;}#sk-container-id-8 div.sk-estimator:hover label.sk-toggleable__label-arrow:before {color: black;}#sk-container-id-8 div.sk-toggleable__content {max-height: 0;max-width: 0;overflow: hidden;text-align: left;background-color: #f0f8ff;}#sk-container-id-8 div.sk-toggleable__content pre {margin: 0.2em;color: black;border-radius: 0.25em;background-color: #f0f8ff;}#sk-container-id-8 input.sk-toggleable__control:checked~div.sk-toggleable__content {max-height: 200px;max-width: 100%;overflow: auto;}#sk-container-id-8 input.sk-toggleable__control:checked~label.sk-toggleable__label-arrow:before {content: \"▾\";}#sk-container-id-8 div.sk-estimator input.sk-toggleable__control:checked~label.sk-toggleable__label {background-color: #d4ebff;}#sk-container-id-8 div.sk-label input.sk-toggleable__control:checked~label.sk-toggleable__label {background-color: #d4ebff;}#sk-container-id-8 input.sk-hidden--visually {border: 0;clip: rect(1px 1px 1px 1px);clip: rect(1px, 1px, 1px, 1px);height: 1px;margin: -1px;overflow: hidden;padding: 0;position: absolute;width: 1px;}#sk-container-id-8 div.sk-estimator {font-family: monospace;background-color: #f0f8ff;border: 1px dotted black;border-radius: 0.25em;box-sizing: border-box;margin-bottom: 0.5em;}#sk-container-id-8 div.sk-estimator:hover {background-color: #d4ebff;}#sk-container-id-8 div.sk-parallel-item::after {content: \"\";width: 100%;border-bottom: 1px solid gray;flex-grow: 1;}#sk-container-id-8 div.sk-label:hover label.sk-toggleable__label {background-color: #d4ebff;}#sk-container-id-8 div.sk-serial::before {content: \"\";position: absolute;border-left: 1px solid gray;box-sizing: border-box;top: 0;bottom: 0;left: 50%;z-index: 0;}#sk-container-id-8 div.sk-serial {display: flex;flex-direction: column;align-items: center;background-color: white;padding-right: 0.2em;padding-left: 0.2em;position: relative;}#sk-container-id-8 div.sk-item {position: relative;z-index: 1;}#sk-container-id-8 div.sk-parallel {display: flex;align-items: stretch;justify-content: center;background-color: white;position: relative;}#sk-container-id-8 div.sk-item::before, #sk-container-id-8 div.sk-parallel-item::before {content: \"\";position: absolute;border-left: 1px solid gray;box-sizing: border-box;top: 0;bottom: 0;left: 50%;z-index: -1;}#sk-container-id-8 div.sk-parallel-item {display: flex;flex-direction: column;z-index: 1;position: relative;background-color: white;}#sk-container-id-8 div.sk-parallel-item:first-child::after {align-self: flex-end;width: 50%;}#sk-container-id-8 div.sk-parallel-item:last-child::after {align-self: flex-start;width: 50%;}#sk-container-id-8 div.sk-parallel-item:only-child::after {width: 0;}#sk-container-id-8 div.sk-dashed-wrapped {border: 1px dashed gray;margin: 0 0.4em 0.5em 0.4em;box-sizing: border-box;padding-bottom: 0.4em;background-color: white;}#sk-container-id-8 div.sk-label label {font-family: monospace;font-weight: bold;display: inline-block;line-height: 1.2em;}#sk-container-id-8 div.sk-label-container {text-align: center;}#sk-container-id-8 div.sk-container {/* jupyter's `normalize.less` sets `[hidden] { display: none; }` but bootstrap.min.css set `[hidden] { display: none !important; }` so we also need the `!important` here to be able to override the default hidden behavior on the sphinx rendered scikit-learn.org. See: https://github.com/scikit-learn/scikit-learn/issues/21755 */display: inline-block !important;position: relative;}#sk-container-id-8 div.sk-text-repr-fallback {display: none;}</style><div id=\"sk-container-id-8\" class=\"sk-top-container\"><div class=\"sk-text-repr-fallback\"><pre>MiniBatchKMeans(n_clusters=500, random_state=0)</pre><b>In a Jupyter environment, please rerun this cell to show the HTML representation or trust the notebook. <br />On GitHub, the HTML representation is unable to render, please try loading this page with nbviewer.org.</b></div><div class=\"sk-container\" hidden><div class=\"sk-item\"><div class=\"sk-estimator sk-toggleable\"><input class=\"sk-toggleable__control sk-hidden--visually\" id=\"sk-estimator-id-8\" type=\"checkbox\" checked><label for=\"sk-estimator-id-8\" class=\"sk-toggleable__label sk-toggleable__label-arrow\">MiniBatchKMeans</label><div class=\"sk-toggleable__content\"><pre>MiniBatchKMeans(n_clusters=500, random_state=0)</pre></div></div></div></div></div>"
      ],
      "text/plain": [
       "MiniBatchKMeans(n_clusters=500, random_state=0)"
      ]
     },
     "execution_count": 125,
     "metadata": {},
     "output_type": "execute_result"
    }
   ],
   "source": [
    "cls.fit(features)"
   ]
  },
  {
   "cell_type": "code",
   "execution_count": 126,
   "metadata": {},
   "outputs": [],
   "source": [
    "course['cluster'] = cls.labels_"
   ]
  },
  {
   "cell_type": "code",
   "execution_count": 127,
   "metadata": {},
   "outputs": [
    {
     "data": {
      "text/html": [
       "<div>\n",
       "<style scoped>\n",
       "    .dataframe tbody tr th:only-of-type {\n",
       "        vertical-align: middle;\n",
       "    }\n",
       "\n",
       "    .dataframe tbody tr th {\n",
       "        vertical-align: top;\n",
       "    }\n",
       "\n",
       "    .dataframe thead th {\n",
       "        text-align: right;\n",
       "    }\n",
       "</style>\n",
       "<table border=\"1\" class=\"dataframe\">\n",
       "  <thead>\n",
       "    <tr style=\"text-align: right;\">\n",
       "      <th></th>\n",
       "      <th>course_name</th>\n",
       "      <th>level</th>\n",
       "      <th>label</th>\n",
       "      <th>tokenized</th>\n",
       "      <th>clean_document</th>\n",
       "    </tr>\n",
       "    <tr>\n",
       "      <th>cluster</th>\n",
       "      <th></th>\n",
       "      <th></th>\n",
       "      <th></th>\n",
       "      <th></th>\n",
       "      <th></th>\n",
       "    </tr>\n",
       "  </thead>\n",
       "  <tbody>\n",
       "    <tr>\n",
       "      <th>0</th>\n",
       "      <td>1</td>\n",
       "      <td>1</td>\n",
       "      <td>1</td>\n",
       "      <td>1</td>\n",
       "      <td>1</td>\n",
       "    </tr>\n",
       "    <tr>\n",
       "      <th>1</th>\n",
       "      <td>11</td>\n",
       "      <td>11</td>\n",
       "      <td>11</td>\n",
       "      <td>11</td>\n",
       "      <td>11</td>\n",
       "    </tr>\n",
       "    <tr>\n",
       "      <th>2</th>\n",
       "      <td>2</td>\n",
       "      <td>2</td>\n",
       "      <td>2</td>\n",
       "      <td>2</td>\n",
       "      <td>2</td>\n",
       "    </tr>\n",
       "    <tr>\n",
       "      <th>3</th>\n",
       "      <td>1</td>\n",
       "      <td>1</td>\n",
       "      <td>1</td>\n",
       "      <td>1</td>\n",
       "      <td>1</td>\n",
       "    </tr>\n",
       "    <tr>\n",
       "      <th>4</th>\n",
       "      <td>2</td>\n",
       "      <td>2</td>\n",
       "      <td>2</td>\n",
       "      <td>2</td>\n",
       "      <td>2</td>\n",
       "    </tr>\n",
       "    <tr>\n",
       "      <th>...</th>\n",
       "      <td>...</td>\n",
       "      <td>...</td>\n",
       "      <td>...</td>\n",
       "      <td>...</td>\n",
       "      <td>...</td>\n",
       "    </tr>\n",
       "    <tr>\n",
       "      <th>495</th>\n",
       "      <td>1</td>\n",
       "      <td>1</td>\n",
       "      <td>1</td>\n",
       "      <td>1</td>\n",
       "      <td>1</td>\n",
       "    </tr>\n",
       "    <tr>\n",
       "      <th>496</th>\n",
       "      <td>1</td>\n",
       "      <td>1</td>\n",
       "      <td>1</td>\n",
       "      <td>1</td>\n",
       "      <td>1</td>\n",
       "    </tr>\n",
       "    <tr>\n",
       "      <th>497</th>\n",
       "      <td>4</td>\n",
       "      <td>4</td>\n",
       "      <td>4</td>\n",
       "      <td>4</td>\n",
       "      <td>4</td>\n",
       "    </tr>\n",
       "    <tr>\n",
       "      <th>498</th>\n",
       "      <td>3</td>\n",
       "      <td>3</td>\n",
       "      <td>3</td>\n",
       "      <td>3</td>\n",
       "      <td>3</td>\n",
       "    </tr>\n",
       "    <tr>\n",
       "      <th>499</th>\n",
       "      <td>3</td>\n",
       "      <td>3</td>\n",
       "      <td>3</td>\n",
       "      <td>3</td>\n",
       "      <td>3</td>\n",
       "    </tr>\n",
       "  </tbody>\n",
       "</table>\n",
       "<p>491 rows × 5 columns</p>\n",
       "</div>"
      ],
      "text/plain": [
       "         course_name  level  label  tokenized  clean_document\n",
       "cluster                                                      \n",
       "0                  1      1      1          1               1\n",
       "1                 11     11     11         11              11\n",
       "2                  2      2      2          2               2\n",
       "3                  1      1      1          1               1\n",
       "4                  2      2      2          2               2\n",
       "...              ...    ...    ...        ...             ...\n",
       "495                1      1      1          1               1\n",
       "496                1      1      1          1               1\n",
       "497                4      4      4          4               4\n",
       "498                3      3      3          3               3\n",
       "499                3      3      3          3               3\n",
       "\n",
       "[491 rows x 5 columns]"
      ]
     },
     "execution_count": 127,
     "metadata": {},
     "output_type": "execute_result"
    }
   ],
   "source": [
    "course.groupby('cluster').count()"
   ]
  },
  {
   "cell_type": "code",
   "execution_count": 128,
   "metadata": {},
   "outputs": [
    {
     "data": {
      "text/html": [
       "<div>\n",
       "<style scoped>\n",
       "    .dataframe tbody tr th:only-of-type {\n",
       "        vertical-align: middle;\n",
       "    }\n",
       "\n",
       "    .dataframe tbody tr th {\n",
       "        vertical-align: top;\n",
       "    }\n",
       "\n",
       "    .dataframe thead th {\n",
       "        text-align: right;\n",
       "    }\n",
       "</style>\n",
       "<table border=\"1\" class=\"dataframe\">\n",
       "  <thead>\n",
       "    <tr style=\"text-align: right;\">\n",
       "      <th></th>\n",
       "      <th>course_name</th>\n",
       "      <th>level</th>\n",
       "      <th>label</th>\n",
       "      <th>tokenized</th>\n",
       "      <th>clean_document</th>\n",
       "      <th>cluster</th>\n",
       "    </tr>\n",
       "    <tr>\n",
       "      <th>course_id</th>\n",
       "      <th></th>\n",
       "      <th></th>\n",
       "      <th></th>\n",
       "      <th></th>\n",
       "      <th></th>\n",
       "      <th></th>\n",
       "    </tr>\n",
       "  </thead>\n",
       "  <tbody>\n",
       "    <tr>\n",
       "      <th>511424</th>\n",
       "      <td>The Comprehensive Guide to Scene Kit - 3D iOS ...</td>\n",
       "      <td>Intermediate</td>\n",
       "      <td>3D Animation</td>\n",
       "      <td>[the, comprehensive, guide, scene, kit, 3d, io...</td>\n",
       "      <td>the comprehensive guide scene kit 3d ios devel...</td>\n",
       "      <td>109</td>\n",
       "    </tr>\n",
       "    <tr>\n",
       "      <th>1650770</th>\n",
       "      <td>Django 2 &amp; React: Build a Realtime web app</td>\n",
       "      <td>All Levels</td>\n",
       "      <td>React</td>\n",
       "      <td>[django, 2, react, build, realtime, web, app]</td>\n",
       "      <td>django 2 react build realtime web app</td>\n",
       "      <td>109</td>\n",
       "    </tr>\n",
       "    <tr>\n",
       "      <th>1589144</th>\n",
       "      <td>Learn Xamarin for iOS and Android</td>\n",
       "      <td>All Levels</td>\n",
       "      <td>Xamarin</td>\n",
       "      <td>[learn, xamarin, ios, android]</td>\n",
       "      <td>learn xamarin ios android</td>\n",
       "      <td>109</td>\n",
       "    </tr>\n",
       "    <tr>\n",
       "      <th>824742</th>\n",
       "      <td>C Graphics : Learn in Easy  Way</td>\n",
       "      <td>Beginner</td>\n",
       "      <td>C</td>\n",
       "      <td>[c, graphics, learn,  , easy,  , way]</td>\n",
       "      <td>c graphics learn   easy   way</td>\n",
       "      <td>109</td>\n",
       "    </tr>\n",
       "    <tr>\n",
       "      <th>370588</th>\n",
       "      <td>Enterprise Identity Management with Microsoft ...</td>\n",
       "      <td>All Levels</td>\n",
       "      <td>Identity Security</td>\n",
       "      <td>[enterprise, identity, management, microsoft, ...</td>\n",
       "      <td>enterprise identity management microsoft foref...</td>\n",
       "      <td>109</td>\n",
       "    </tr>\n",
       "  </tbody>\n",
       "</table>\n",
       "</div>"
      ],
      "text/plain": [
       "                                                 course_name         level  \\\n",
       "course_id                                                                    \n",
       "511424     The Comprehensive Guide to Scene Kit - 3D iOS ...  Intermediate   \n",
       "1650770           Django 2 & React: Build a Realtime web app    All Levels   \n",
       "1589144                    Learn Xamarin for iOS and Android    All Levels   \n",
       "824742                       C Graphics : Learn in Easy  Way      Beginner   \n",
       "370588     Enterprise Identity Management with Microsoft ...    All Levels   \n",
       "\n",
       "                       label  \\\n",
       "course_id                      \n",
       "511424          3D Animation   \n",
       "1650770                React   \n",
       "1589144              Xamarin   \n",
       "824742                     C   \n",
       "370588     Identity Security   \n",
       "\n",
       "                                                   tokenized  \\\n",
       "course_id                                                      \n",
       "511424     [the, comprehensive, guide, scene, kit, 3d, io...   \n",
       "1650770        [django, 2, react, build, realtime, web, app]   \n",
       "1589144                       [learn, xamarin, ios, android]   \n",
       "824742                 [c, graphics, learn,  , easy,  , way]   \n",
       "370588     [enterprise, identity, management, microsoft, ...   \n",
       "\n",
       "                                              clean_document  cluster  \n",
       "course_id                                                              \n",
       "511424     the comprehensive guide scene kit 3d ios devel...      109  \n",
       "1650770                django 2 react build realtime web app      109  \n",
       "1589144                            learn xamarin ios android      109  \n",
       "824742                         c graphics learn   easy   way      109  \n",
       "370588     enterprise identity management microsoft foref...      109  "
      ]
     },
     "execution_count": 128,
     "metadata": {},
     "output_type": "execute_result"
    }
   ],
   "source": [
    "recommend_course('python')"
   ]
  },
  {
   "cell_type": "code",
   "execution_count": 129,
   "metadata": {},
   "outputs": [
    {
     "data": {
      "text/html": [
       "<div>\n",
       "<style scoped>\n",
       "    .dataframe tbody tr th:only-of-type {\n",
       "        vertical-align: middle;\n",
       "    }\n",
       "\n",
       "    .dataframe tbody tr th {\n",
       "        vertical-align: top;\n",
       "    }\n",
       "\n",
       "    .dataframe thead th {\n",
       "        text-align: right;\n",
       "    }\n",
       "</style>\n",
       "<table border=\"1\" class=\"dataframe\">\n",
       "  <thead>\n",
       "    <tr style=\"text-align: right;\">\n",
       "      <th></th>\n",
       "      <th>course_name</th>\n",
       "      <th>level</th>\n",
       "      <th>label</th>\n",
       "      <th>tokenized</th>\n",
       "      <th>clean_document</th>\n",
       "      <th>cluster</th>\n",
       "    </tr>\n",
       "    <tr>\n",
       "      <th>course_id</th>\n",
       "      <th></th>\n",
       "      <th></th>\n",
       "      <th></th>\n",
       "      <th></th>\n",
       "      <th></th>\n",
       "      <th></th>\n",
       "    </tr>\n",
       "  </thead>\n",
       "  <tbody>\n",
       "    <tr>\n",
       "      <th>1541358</th>\n",
       "      <td>Machine Learning with C++</td>\n",
       "      <td>Intermediate</td>\n",
       "      <td>Machine Learning</td>\n",
       "      <td>[machine, learning, c++]</td>\n",
       "      <td>machine learning c++</td>\n",
       "      <td>464</td>\n",
       "    </tr>\n",
       "    <tr>\n",
       "      <th>1733628</th>\n",
       "      <td>Hands-on Machine Learning with TensorFlow</td>\n",
       "      <td>Intermediate</td>\n",
       "      <td>Machine Learning</td>\n",
       "      <td>[hands, machine, learning, tensorflow]</td>\n",
       "      <td>hands machine learning tensorflow</td>\n",
       "      <td>464</td>\n",
       "    </tr>\n",
       "    <tr>\n",
       "      <th>1899760</th>\n",
       "      <td>Hands-on Reinforcement Learning with TensorFlow</td>\n",
       "      <td>Beginner</td>\n",
       "      <td>TensorFlow</td>\n",
       "      <td>[hands, reinforcement, learning, tensorflow]</td>\n",
       "      <td>hands reinforcement learning tensorflow</td>\n",
       "      <td>464</td>\n",
       "    </tr>\n",
       "    <tr>\n",
       "      <th>1107990</th>\n",
       "      <td>Machine Learning with TensorFlow</td>\n",
       "      <td>Beginner</td>\n",
       "      <td>Machine Learning</td>\n",
       "      <td>[machine, learning, tensorflow]</td>\n",
       "      <td>machine learning tensorflow</td>\n",
       "      <td>464</td>\n",
       "    </tr>\n",
       "    <tr>\n",
       "      <th>2354898</th>\n",
       "      <td>Learning TensorFlow 2.0</td>\n",
       "      <td>Intermediate</td>\n",
       "      <td>TensorFlow</td>\n",
       "      <td>[learning, tensorflow, 2.0]</td>\n",
       "      <td>learning tensorflow 2.0</td>\n",
       "      <td>464</td>\n",
       "    </tr>\n",
       "  </tbody>\n",
       "</table>\n",
       "</div>"
      ],
      "text/plain": [
       "                                               course_name         level  \\\n",
       "course_id                                                                  \n",
       "1541358                          Machine Learning with C++  Intermediate   \n",
       "1733628          Hands-on Machine Learning with TensorFlow  Intermediate   \n",
       "1899760    Hands-on Reinforcement Learning with TensorFlow      Beginner   \n",
       "1107990                   Machine Learning with TensorFlow      Beginner   \n",
       "2354898                            Learning TensorFlow 2.0  Intermediate   \n",
       "\n",
       "                      label                                     tokenized  \\\n",
       "course_id                                                                   \n",
       "1541358    Machine Learning                      [machine, learning, c++]   \n",
       "1733628    Machine Learning        [hands, machine, learning, tensorflow]   \n",
       "1899760          TensorFlow  [hands, reinforcement, learning, tensorflow]   \n",
       "1107990    Machine Learning               [machine, learning, tensorflow]   \n",
       "2354898          TensorFlow                   [learning, tensorflow, 2.0]   \n",
       "\n",
       "                                    clean_document  cluster  \n",
       "course_id                                                    \n",
       "1541358                       machine learning c++      464  \n",
       "1733628          hands machine learning tensorflow      464  \n",
       "1899760    hands reinforcement learning tensorflow      464  \n",
       "1107990                machine learning tensorflow      464  \n",
       "2354898                    learning tensorflow 2.0      464  "
      ]
     },
     "execution_count": 129,
     "metadata": {},
     "output_type": "execute_result"
    }
   ],
   "source": [
    "recommend_course('machine learning')"
   ]
  },
  {
   "cell_type": "code",
   "execution_count": 130,
   "metadata": {},
   "outputs": [
    {
     "data": {
      "text/html": [
       "<div>\n",
       "<style scoped>\n",
       "    .dataframe tbody tr th:only-of-type {\n",
       "        vertical-align: middle;\n",
       "    }\n",
       "\n",
       "    .dataframe tbody tr th {\n",
       "        vertical-align: top;\n",
       "    }\n",
       "\n",
       "    .dataframe thead th {\n",
       "        text-align: right;\n",
       "    }\n",
       "</style>\n",
       "<table border=\"1\" class=\"dataframe\">\n",
       "  <thead>\n",
       "    <tr style=\"text-align: right;\">\n",
       "      <th></th>\n",
       "      <th>course_name</th>\n",
       "      <th>level</th>\n",
       "      <th>label</th>\n",
       "      <th>tokenized</th>\n",
       "      <th>clean_document</th>\n",
       "      <th>cluster</th>\n",
       "    </tr>\n",
       "    <tr>\n",
       "      <th>course_id</th>\n",
       "      <th></th>\n",
       "      <th></th>\n",
       "      <th></th>\n",
       "      <th></th>\n",
       "      <th></th>\n",
       "      <th></th>\n",
       "    </tr>\n",
       "  </thead>\n",
       "  <tbody>\n",
       "    <tr>\n",
       "      <th>1951666</th>\n",
       "      <td>SAS for Data Science</td>\n",
       "      <td>All Levels</td>\n",
       "      <td>SAS</td>\n",
       "      <td>[sas, data, science]</td>\n",
       "      <td>sas data science</td>\n",
       "      <td>218</td>\n",
       "    </tr>\n",
       "    <tr>\n",
       "      <th>1541234</th>\n",
       "      <td>Jupyter for Data Science</td>\n",
       "      <td>Beginner</td>\n",
       "      <td>Data Science</td>\n",
       "      <td>[jupyter, data, science]</td>\n",
       "      <td>jupyter data science</td>\n",
       "      <td>218</td>\n",
       "    </tr>\n",
       "    <tr>\n",
       "      <th>2016036</th>\n",
       "      <td>Python for Data Science</td>\n",
       "      <td>Beginner</td>\n",
       "      <td>Python</td>\n",
       "      <td>[python, data, science]</td>\n",
       "      <td>python data science</td>\n",
       "      <td>218</td>\n",
       "    </tr>\n",
       "    <tr>\n",
       "      <th>435664</th>\n",
       "      <td>Core skill for data science: learn dplyr packa...</td>\n",
       "      <td>Beginner</td>\n",
       "      <td>Data Science</td>\n",
       "      <td>[core, skill, data, science, learn, dplyr, pac...</td>\n",
       "      <td>core skill data science learn dplyr package r</td>\n",
       "      <td>218</td>\n",
       "    </tr>\n",
       "    <tr>\n",
       "      <th>1643020</th>\n",
       "      <td>Data Science with Jupyter: 2-in-1</td>\n",
       "      <td>Beginner</td>\n",
       "      <td>Data Science</td>\n",
       "      <td>[data, science, jupyter, 2, in-1]</td>\n",
       "      <td>data science jupyter 2 in-1</td>\n",
       "      <td>218</td>\n",
       "    </tr>\n",
       "  </tbody>\n",
       "</table>\n",
       "</div>"
      ],
      "text/plain": [
       "                                                 course_name       level  \\\n",
       "course_id                                                                  \n",
       "1951666                                 SAS for Data Science  All Levels   \n",
       "1541234                             Jupyter for Data Science    Beginner   \n",
       "2016036                              Python for Data Science    Beginner   \n",
       "435664     Core skill for data science: learn dplyr packa...    Beginner   \n",
       "1643020                    Data Science with Jupyter: 2-in-1    Beginner   \n",
       "\n",
       "                  label                                          tokenized  \\\n",
       "course_id                                                                    \n",
       "1951666             SAS                               [sas, data, science]   \n",
       "1541234    Data Science                           [jupyter, data, science]   \n",
       "2016036          Python                            [python, data, science]   \n",
       "435664     Data Science  [core, skill, data, science, learn, dplyr, pac...   \n",
       "1643020    Data Science                  [data, science, jupyter, 2, in-1]   \n",
       "\n",
       "                                          clean_document  cluster  \n",
       "course_id                                                          \n",
       "1951666                                 sas data science      218  \n",
       "1541234                             jupyter data science      218  \n",
       "2016036                              python data science      218  \n",
       "435664     core skill data science learn dplyr package r      218  \n",
       "1643020                      data science jupyter 2 in-1      218  "
      ]
     },
     "execution_count": 130,
     "metadata": {},
     "output_type": "execute_result"
    }
   ],
   "source": [
    "recommend_course('data science')"
   ]
  },
  {
   "cell_type": "code",
   "execution_count": 133,
   "metadata": {},
   "outputs": [
    {
     "data": {
      "text/html": [
       "<div>\n",
       "<style scoped>\n",
       "    .dataframe tbody tr th:only-of-type {\n",
       "        vertical-align: middle;\n",
       "    }\n",
       "\n",
       "    .dataframe tbody tr th {\n",
       "        vertical-align: top;\n",
       "    }\n",
       "\n",
       "    .dataframe thead th {\n",
       "        text-align: right;\n",
       "    }\n",
       "</style>\n",
       "<table border=\"1\" class=\"dataframe\">\n",
       "  <thead>\n",
       "    <tr style=\"text-align: right;\">\n",
       "      <th></th>\n",
       "      <th>course_name</th>\n",
       "      <th>level</th>\n",
       "      <th>label</th>\n",
       "      <th>tokenized</th>\n",
       "      <th>clean_document</th>\n",
       "      <th>cluster</th>\n",
       "    </tr>\n",
       "    <tr>\n",
       "      <th>course_id</th>\n",
       "      <th></th>\n",
       "      <th></th>\n",
       "      <th></th>\n",
       "      <th></th>\n",
       "      <th></th>\n",
       "      <th></th>\n",
       "    </tr>\n",
       "  </thead>\n",
       "  <tbody>\n",
       "    <tr>\n",
       "      <th>2387448</th>\n",
       "      <td>Google Go Programming: Golang Beginner to Go W...</td>\n",
       "      <td>Beginner</td>\n",
       "      <td>Go Programming Language</td>\n",
       "      <td>[google, go, programming, golang, beginner, go...</td>\n",
       "      <td>google go programming golang beginner go web d...</td>\n",
       "      <td>347</td>\n",
       "    </tr>\n",
       "    <tr>\n",
       "      <th>723908</th>\n",
       "      <td>Go for Web Development</td>\n",
       "      <td>Beginner</td>\n",
       "      <td>Go Programming Language</td>\n",
       "      <td>[go, web, development]</td>\n",
       "      <td>go web development</td>\n",
       "      <td>347</td>\n",
       "    </tr>\n",
       "    <tr>\n",
       "      <th>2387448</th>\n",
       "      <td>Google Go Programming: Golang Beginner to Go W...</td>\n",
       "      <td>Beginner</td>\n",
       "      <td>Go Programming Language</td>\n",
       "      <td>[google, go, programming, golang, beginner, go...</td>\n",
       "      <td>google go programming golang beginner go web d...</td>\n",
       "      <td>347</td>\n",
       "    </tr>\n",
       "    <tr>\n",
       "      <th>2387448</th>\n",
       "      <td>Google Go Programming: Golang Beginner to Go W...</td>\n",
       "      <td>Beginner</td>\n",
       "      <td>Go Programming Language</td>\n",
       "      <td>[google, go, programming, golang, beginner, go...</td>\n",
       "      <td>google go programming golang beginner go web d...</td>\n",
       "      <td>347</td>\n",
       "    </tr>\n",
       "    <tr>\n",
       "      <th>2387448</th>\n",
       "      <td>Google Go Programming: Golang Beginner to Go W...</td>\n",
       "      <td>Beginner</td>\n",
       "      <td>Go Programming Language</td>\n",
       "      <td>[google, go, programming, golang, beginner, go...</td>\n",
       "      <td>google go programming golang beginner go web d...</td>\n",
       "      <td>347</td>\n",
       "    </tr>\n",
       "  </tbody>\n",
       "</table>\n",
       "</div>"
      ],
      "text/plain": [
       "                                                 course_name     level  \\\n",
       "course_id                                                                \n",
       "2387448    Google Go Programming: Golang Beginner to Go W...  Beginner   \n",
       "723908                                Go for Web Development  Beginner   \n",
       "2387448    Google Go Programming: Golang Beginner to Go W...  Beginner   \n",
       "2387448    Google Go Programming: Golang Beginner to Go W...  Beginner   \n",
       "2387448    Google Go Programming: Golang Beginner to Go W...  Beginner   \n",
       "\n",
       "                             label  \\\n",
       "course_id                            \n",
       "2387448    Go Programming Language   \n",
       "723908     Go Programming Language   \n",
       "2387448    Go Programming Language   \n",
       "2387448    Go Programming Language   \n",
       "2387448    Go Programming Language   \n",
       "\n",
       "                                                   tokenized  \\\n",
       "course_id                                                      \n",
       "2387448    [google, go, programming, golang, beginner, go...   \n",
       "723908                                [go, web, development]   \n",
       "2387448    [google, go, programming, golang, beginner, go...   \n",
       "2387448    [google, go, programming, golang, beginner, go...   \n",
       "2387448    [google, go, programming, golang, beginner, go...   \n",
       "\n",
       "                                              clean_document  cluster  \n",
       "course_id                                                              \n",
       "2387448    google go programming golang beginner go web d...      347  \n",
       "723908                                    go web development      347  \n",
       "2387448    google go programming golang beginner go web d...      347  \n",
       "2387448    google go programming golang beginner go web d...      347  \n",
       "2387448    google go programming golang beginner go web d...      347  "
      ]
     },
     "execution_count": 133,
     "metadata": {},
     "output_type": "execute_result"
    }
   ],
   "source": [
    "recommend_course('web development')"
   ]
  },
  {
   "cell_type": "markdown",
   "metadata": {},
   "source": [
    "### Birch clustering"
   ]
  },
  {
   "cell_type": "code",
   "execution_count": 2,
   "metadata": {},
   "outputs": [
    {
     "ename": "NameError",
     "evalue": "name 'Birch' is not defined",
     "output_type": "error",
     "traceback": [
      "\u001B[1;31m---------------------------------------------------------------------------\u001B[0m",
      "\u001B[1;31mNameError\u001B[0m                                 Traceback (most recent call last)",
      "\u001B[1;32mc:\\Users\\umit\\Desktop\\StajProje\\NLP Cluster DS 1_2.ipynb Cell 48\u001B[0m in \u001B[0;36m<cell line: 1>\u001B[1;34m()\u001B[0m\n\u001B[1;32m----> <a href='vscode-notebook-cell:/c%3A/Users/umit/Desktop/StajProje/NLP%20Cluster%20DS%201_2.ipynb#Y111sZmlsZQ%3D%3D?line=0'>1</a>\u001B[0m \u001B[39mcls\u001B[39m \u001B[39m=\u001B[39m Birch(n_clusters\u001B[39m=\u001B[39m\u001B[39m500\u001B[39m, threshold\u001B[39m=\u001B[39m\u001B[39m0.5\u001B[39m, branching_factor\u001B[39m=\u001B[39m\u001B[39m50\u001B[39m, compute_labels\u001B[39m=\u001B[39m\u001B[39mTrue\u001B[39;00m, copy\u001B[39m=\u001B[39m\u001B[39mTrue\u001B[39;00m)\n",
      "\u001B[1;31mNameError\u001B[0m: name 'Birch' is not defined"
     ]
    }
   ],
   "source": [
    "cls = Birch(n_clusters=500, threshold=0.5, branching_factor=50, compute_labels=True, copy=True)"
   ]
  },
  {
   "cell_type": "code",
   "execution_count": 192,
   "metadata": {},
   "outputs": [
    {
     "data": {
      "text/html": [
       "<style>#sk-container-id-12 {color: black;background-color: white;}#sk-container-id-12 pre{padding: 0;}#sk-container-id-12 div.sk-toggleable {background-color: white;}#sk-container-id-12 label.sk-toggleable__label {cursor: pointer;display: block;width: 100%;margin-bottom: 0;padding: 0.3em;box-sizing: border-box;text-align: center;}#sk-container-id-12 label.sk-toggleable__label-arrow:before {content: \"▸\";float: left;margin-right: 0.25em;color: #696969;}#sk-container-id-12 label.sk-toggleable__label-arrow:hover:before {color: black;}#sk-container-id-12 div.sk-estimator:hover label.sk-toggleable__label-arrow:before {color: black;}#sk-container-id-12 div.sk-toggleable__content {max-height: 0;max-width: 0;overflow: hidden;text-align: left;background-color: #f0f8ff;}#sk-container-id-12 div.sk-toggleable__content pre {margin: 0.2em;color: black;border-radius: 0.25em;background-color: #f0f8ff;}#sk-container-id-12 input.sk-toggleable__control:checked~div.sk-toggleable__content {max-height: 200px;max-width: 100%;overflow: auto;}#sk-container-id-12 input.sk-toggleable__control:checked~label.sk-toggleable__label-arrow:before {content: \"▾\";}#sk-container-id-12 div.sk-estimator input.sk-toggleable__control:checked~label.sk-toggleable__label {background-color: #d4ebff;}#sk-container-id-12 div.sk-label input.sk-toggleable__control:checked~label.sk-toggleable__label {background-color: #d4ebff;}#sk-container-id-12 input.sk-hidden--visually {border: 0;clip: rect(1px 1px 1px 1px);clip: rect(1px, 1px, 1px, 1px);height: 1px;margin: -1px;overflow: hidden;padding: 0;position: absolute;width: 1px;}#sk-container-id-12 div.sk-estimator {font-family: monospace;background-color: #f0f8ff;border: 1px dotted black;border-radius: 0.25em;box-sizing: border-box;margin-bottom: 0.5em;}#sk-container-id-12 div.sk-estimator:hover {background-color: #d4ebff;}#sk-container-id-12 div.sk-parallel-item::after {content: \"\";width: 100%;border-bottom: 1px solid gray;flex-grow: 1;}#sk-container-id-12 div.sk-label:hover label.sk-toggleable__label {background-color: #d4ebff;}#sk-container-id-12 div.sk-serial::before {content: \"\";position: absolute;border-left: 1px solid gray;box-sizing: border-box;top: 0;bottom: 0;left: 50%;z-index: 0;}#sk-container-id-12 div.sk-serial {display: flex;flex-direction: column;align-items: center;background-color: white;padding-right: 0.2em;padding-left: 0.2em;position: relative;}#sk-container-id-12 div.sk-item {position: relative;z-index: 1;}#sk-container-id-12 div.sk-parallel {display: flex;align-items: stretch;justify-content: center;background-color: white;position: relative;}#sk-container-id-12 div.sk-item::before, #sk-container-id-12 div.sk-parallel-item::before {content: \"\";position: absolute;border-left: 1px solid gray;box-sizing: border-box;top: 0;bottom: 0;left: 50%;z-index: -1;}#sk-container-id-12 div.sk-parallel-item {display: flex;flex-direction: column;z-index: 1;position: relative;background-color: white;}#sk-container-id-12 div.sk-parallel-item:first-child::after {align-self: flex-end;width: 50%;}#sk-container-id-12 div.sk-parallel-item:last-child::after {align-self: flex-start;width: 50%;}#sk-container-id-12 div.sk-parallel-item:only-child::after {width: 0;}#sk-container-id-12 div.sk-dashed-wrapped {border: 1px dashed gray;margin: 0 0.4em 0.5em 0.4em;box-sizing: border-box;padding-bottom: 0.4em;background-color: white;}#sk-container-id-12 div.sk-label label {font-family: monospace;font-weight: bold;display: inline-block;line-height: 1.2em;}#sk-container-id-12 div.sk-label-container {text-align: center;}#sk-container-id-12 div.sk-container {/* jupyter's `normalize.less` sets `[hidden] { display: none; }` but bootstrap.min.css set `[hidden] { display: none !important; }` so we also need the `!important` here to be able to override the default hidden behavior on the sphinx rendered scikit-learn.org. See: https://github.com/scikit-learn/scikit-learn/issues/21755 */display: inline-block !important;position: relative;}#sk-container-id-12 div.sk-text-repr-fallback {display: none;}</style><div id=\"sk-container-id-12\" class=\"sk-top-container\"><div class=\"sk-text-repr-fallback\"><pre>Birch(n_clusters=200)</pre><b>In a Jupyter environment, please rerun this cell to show the HTML representation or trust the notebook. <br />On GitHub, the HTML representation is unable to render, please try loading this page with nbviewer.org.</b></div><div class=\"sk-container\" hidden><div class=\"sk-item\"><div class=\"sk-estimator sk-toggleable\"><input class=\"sk-toggleable__control sk-hidden--visually\" id=\"sk-estimator-id-12\" type=\"checkbox\" checked><label for=\"sk-estimator-id-12\" class=\"sk-toggleable__label sk-toggleable__label-arrow\">Birch</label><div class=\"sk-toggleable__content\"><pre>Birch(n_clusters=200)</pre></div></div></div></div></div>"
      ],
      "text/plain": [
       "Birch(n_clusters=200)"
      ]
     },
     "execution_count": 192,
     "metadata": {},
     "output_type": "execute_result"
    }
   ],
   "source": [
    "cls.fit(features)"
   ]
  },
  {
   "cell_type": "code",
   "execution_count": 193,
   "metadata": {},
   "outputs": [],
   "source": [
    "course['cluster'] = cls.labels_"
   ]
  },
  {
   "cell_type": "code",
   "execution_count": 194,
   "metadata": {},
   "outputs": [
    {
     "data": {
      "text/plain": [
       "array([70, 30,  0, ..., 76, 79, 81], dtype=int64)"
      ]
     },
     "execution_count": 194,
     "metadata": {},
     "output_type": "execute_result"
    }
   ],
   "source": [
    "cls.predict(features)"
   ]
  },
  {
   "cell_type": "markdown",
   "metadata": {},
   "source": [
    "#### Clustering on a 2D dataset"
   ]
  },
  {
   "cell_type": "code",
   "execution_count": 195,
   "metadata": {},
   "outputs": [],
   "source": [
    "pca = PCA(n_components=2)"
   ]
  },
  {
   "cell_type": "code",
   "execution_count": 196,
   "metadata": {},
   "outputs": [],
   "source": [
    "reduced_features = pca.fit_transform(features.toarray())"
   ]
  },
  {
   "cell_type": "code",
   "execution_count": 197,
   "metadata": {},
   "outputs": [
    {
     "data": {
      "text/plain": [
       "<matplotlib.collections.PathCollection at 0x2278eb3d8a0>"
      ]
     },
     "execution_count": 197,
     "metadata": {},
     "output_type": "execute_result"
    },
    {
     "data": {
      "image/png": "[encoded data removed]",
      "text/plain": [
       "<Figure size 432x288 with 1 Axes>"
      ]
     },
     "metadata": {
      "needs_background": "light"
     },
     "output_type": "display_data"
    }
   ],
   "source": [
    "plt.scatter(reduced_features[:, 0], reduced_features[:, 1], c=cls.labels_)"
   ]
  },
  {
   "cell_type": "markdown",
   "metadata": {},
   "source": [
    "#### Metrics for clustering"
   ]
  },
  {
   "cell_type": "code",
   "execution_count": 198,
   "metadata": {},
   "outputs": [
    {
     "data": {
      "text/plain": [
       "0.02578089378487429"
      ]
     },
     "execution_count": 198,
     "metadata": {},
     "output_type": "execute_result"
    }
   ],
   "source": [
    "from sklearn.metrics import silhouette_score\n",
    "silhouette_score(features, labels=cls.predict(features))"
   ]
  },
  {
   "cell_type": "code",
   "execution_count": 199,
   "metadata": {},
   "outputs": [
    {
     "data": {
      "text/plain": [
       "0.4966212990260203"
      ]
     },
     "execution_count": 199,
     "metadata": {},
     "output_type": "execute_result"
    }
   ],
   "source": [
    "from sklearn.metrics import homogeneity_score\n",
    "homogeneity_score(course.label, cls.predict(features))"
   ]
  },
  {
   "cell_type": "code",
   "execution_count": 200,
   "metadata": {},
   "outputs": [
    {
     "data": {
      "text/plain": [
       "0.5804336858166623"
      ]
     },
     "execution_count": 200,
     "metadata": {},
     "output_type": "execute_result"
    }
   ],
   "source": [
    "from sklearn.metrics import completeness_score\n",
    "completeness_score(course.label, cls.predict(features))"
   ]
  },
  {
   "cell_type": "markdown",
   "metadata": {},
   "source": [
    "#### Recommendations"
   ]
  },
  {
   "cell_type": "code",
   "execution_count": 201,
   "metadata": {},
   "outputs": [
    {
     "data": {
      "text/html": [
       "<div>\n",
       "<style scoped>\n",
       "    .dataframe tbody tr th:only-of-type {\n",
       "        vertical-align: middle;\n",
       "    }\n",
       "\n",
       "    .dataframe tbody tr th {\n",
       "        vertical-align: top;\n",
       "    }\n",
       "\n",
       "    .dataframe thead th {\n",
       "        text-align: right;\n",
       "    }\n",
       "</style>\n",
       "<table border=\"1\" class=\"dataframe\">\n",
       "  <thead>\n",
       "    <tr style=\"text-align: right;\">\n",
       "      <th></th>\n",
       "      <th>course_name</th>\n",
       "      <th>level</th>\n",
       "      <th>label</th>\n",
       "      <th>tokenized</th>\n",
       "      <th>clean_document</th>\n",
       "      <th>cluster</th>\n",
       "    </tr>\n",
       "    <tr>\n",
       "      <th>course_id</th>\n",
       "      <th></th>\n",
       "      <th></th>\n",
       "      <th></th>\n",
       "      <th></th>\n",
       "      <th></th>\n",
       "      <th></th>\n",
       "    </tr>\n",
       "  </thead>\n",
       "  <tbody>\n",
       "    <tr>\n",
       "      <th>394676</th>\n",
       "      <td>Learn Python: The Complete Python Programming ...</td>\n",
       "      <td>All Levels</td>\n",
       "      <td>Python</td>\n",
       "      <td>[learn, python, the, complete, python, program...</td>\n",
       "      <td>learn python the complete python programming c...</td>\n",
       "      <td>1</td>\n",
       "    </tr>\n",
       "    <tr>\n",
       "      <th>1806498</th>\n",
       "      <td>Python for beginners (Updated!)</td>\n",
       "      <td>Beginner</td>\n",
       "      <td>Python</td>\n",
       "      <td>[python, beginners, updated]</td>\n",
       "      <td>python beginners updated</td>\n",
       "      <td>1</td>\n",
       "    </tr>\n",
       "    <tr>\n",
       "      <th>2140668</th>\n",
       "      <td>Python Pandas and Altair Data Science &amp; Visual...</td>\n",
       "      <td>Intermediate</td>\n",
       "      <td>Python</td>\n",
       "      <td>[python, pandas, altair, data, science, visual...</td>\n",
       "      <td>python pandas altair data science visualizatio...</td>\n",
       "      <td>1</td>\n",
       "    </tr>\n",
       "    <tr>\n",
       "      <th>2430478</th>\n",
       "      <td>The Complete Python for Beginners:Master Pytho...</td>\n",
       "      <td>All Levels</td>\n",
       "      <td>Python</td>\n",
       "      <td>[the, complete, python, beginners, master, pyt...</td>\n",
       "      <td>the complete python beginners master python sc...</td>\n",
       "      <td>1</td>\n",
       "    </tr>\n",
       "    <tr>\n",
       "      <th>2165344</th>\n",
       "      <td>Pandas &amp; Seaborn Data Science and Visualizatio...</td>\n",
       "      <td>Beginner</td>\n",
       "      <td>Data Science</td>\n",
       "      <td>[pandas, seaborn, data, science, visualization...</td>\n",
       "      <td>pandas seaborn data science visualization mast...</td>\n",
       "      <td>1</td>\n",
       "    </tr>\n",
       "  </tbody>\n",
       "</table>\n",
       "</div>"
      ],
      "text/plain": [
       "                                                 course_name         level  \\\n",
       "course_id                                                                    \n",
       "394676     Learn Python: The Complete Python Programming ...    All Levels   \n",
       "1806498                      Python for beginners (Updated!)      Beginner   \n",
       "2140668    Python Pandas and Altair Data Science & Visual...  Intermediate   \n",
       "2430478    The Complete Python for Beginners:Master Pytho...    All Levels   \n",
       "2165344    Pandas & Seaborn Data Science and Visualizatio...      Beginner   \n",
       "\n",
       "                  label                                          tokenized  \\\n",
       "course_id                                                                    \n",
       "394676           Python  [learn, python, the, complete, python, program...   \n",
       "1806498          Python                       [python, beginners, updated]   \n",
       "2140668          Python  [python, pandas, altair, data, science, visual...   \n",
       "2430478          Python  [the, complete, python, beginners, master, pyt...   \n",
       "2165344    Data Science  [pandas, seaborn, data, science, visualization...   \n",
       "\n",
       "                                              clean_document  cluster  \n",
       "course_id                                                              \n",
       "394676     learn python the complete python programming c...        1  \n",
       "1806498                             python beginners updated        1  \n",
       "2140668    python pandas altair data science visualizatio...        1  \n",
       "2430478    the complete python beginners master python sc...        1  \n",
       "2165344    pandas seaborn data science visualization mast...        1  "
      ]
     },
     "execution_count": 201,
     "metadata": {},
     "output_type": "execute_result"
    }
   ],
   "source": [
    "recommend_course('python')"
   ]
  },
  {
   "cell_type": "code",
   "execution_count": 202,
   "metadata": {},
   "outputs": [
    {
     "data": {
      "text/html": [
       "<div>\n",
       "<style scoped>\n",
       "    .dataframe tbody tr th:only-of-type {\n",
       "        vertical-align: middle;\n",
       "    }\n",
       "\n",
       "    .dataframe tbody tr th {\n",
       "        vertical-align: top;\n",
       "    }\n",
       "\n",
       "    .dataframe thead th {\n",
       "        text-align: right;\n",
       "    }\n",
       "</style>\n",
       "<table border=\"1\" class=\"dataframe\">\n",
       "  <thead>\n",
       "    <tr style=\"text-align: right;\">\n",
       "      <th></th>\n",
       "      <th>course_name</th>\n",
       "      <th>level</th>\n",
       "      <th>label</th>\n",
       "      <th>tokenized</th>\n",
       "      <th>clean_document</th>\n",
       "      <th>cluster</th>\n",
       "    </tr>\n",
       "    <tr>\n",
       "      <th>course_id</th>\n",
       "      <th></th>\n",
       "      <th></th>\n",
       "      <th></th>\n",
       "      <th></th>\n",
       "      <th></th>\n",
       "      <th></th>\n",
       "    </tr>\n",
       "  </thead>\n",
       "  <tbody>\n",
       "    <tr>\n",
       "      <th>1955020</th>\n",
       "      <td>Introduction to Python and Machine Learning</td>\n",
       "      <td>Beginner</td>\n",
       "      <td>Python</td>\n",
       "      <td>[introduction, python, machine, learning]</td>\n",
       "      <td>introduction python machine learning</td>\n",
       "      <td>109</td>\n",
       "    </tr>\n",
       "    <tr>\n",
       "      <th>1192500</th>\n",
       "      <td>Mastering Firebase for iOS Using Swift Language</td>\n",
       "      <td>All Levels</td>\n",
       "      <td>Firebase</td>\n",
       "      <td>[mastering, firebase, ios, using, swift, langu...</td>\n",
       "      <td>mastering firebase ios using swift language</td>\n",
       "      <td>109</td>\n",
       "    </tr>\n",
       "    <tr>\n",
       "      <th>1343106</th>\n",
       "      <td>Pandas for Predictive Analysis using scikit-learn</td>\n",
       "      <td>Intermediate</td>\n",
       "      <td>Pandas</td>\n",
       "      <td>[pandas, predictive, analysis, scikit, learn]</td>\n",
       "      <td>pandas predictive analysis scikit learn</td>\n",
       "      <td>109</td>\n",
       "    </tr>\n",
       "    <tr>\n",
       "      <th>2466824</th>\n",
       "      <td>Machine Learning With Python: Predicting Custo...</td>\n",
       "      <td>Intermediate</td>\n",
       "      <td>Machine Learning</td>\n",
       "      <td>[machine, learning, with, python, predicting, ...</td>\n",
       "      <td>machine learning with python predicting custom...</td>\n",
       "      <td>109</td>\n",
       "    </tr>\n",
       "    <tr>\n",
       "      <th>2345802</th>\n",
       "      <td>Complete Machine Learning Bootcamp</td>\n",
       "      <td>All Levels</td>\n",
       "      <td>Machine Learning</td>\n",
       "      <td>[complete, machine, learning, bootcamp]</td>\n",
       "      <td>complete machine learning bootcamp</td>\n",
       "      <td>109</td>\n",
       "    </tr>\n",
       "  </tbody>\n",
       "</table>\n",
       "</div>"
      ],
      "text/plain": [
       "                                                 course_name         level  \\\n",
       "course_id                                                                    \n",
       "1955020          Introduction to Python and Machine Learning      Beginner   \n",
       "1192500      Mastering Firebase for iOS Using Swift Language    All Levels   \n",
       "1343106    Pandas for Predictive Analysis using scikit-learn  Intermediate   \n",
       "2466824    Machine Learning With Python: Predicting Custo...  Intermediate   \n",
       "2345802                   Complete Machine Learning Bootcamp    All Levels   \n",
       "\n",
       "                      label  \\\n",
       "course_id                     \n",
       "1955020              Python   \n",
       "1192500            Firebase   \n",
       "1343106              Pandas   \n",
       "2466824    Machine Learning   \n",
       "2345802    Machine Learning   \n",
       "\n",
       "                                                   tokenized  \\\n",
       "course_id                                                      \n",
       "1955020            [introduction, python, machine, learning]   \n",
       "1192500    [mastering, firebase, ios, using, swift, langu...   \n",
       "1343106        [pandas, predictive, analysis, scikit, learn]   \n",
       "2466824    [machine, learning, with, python, predicting, ...   \n",
       "2345802              [complete, machine, learning, bootcamp]   \n",
       "\n",
       "                                              clean_document  cluster  \n",
       "course_id                                                              \n",
       "1955020                 introduction python machine learning      109  \n",
       "1192500          mastering firebase ios using swift language      109  \n",
       "1343106              pandas predictive analysis scikit learn      109  \n",
       "2466824    machine learning with python predicting custom...      109  \n",
       "2345802                   complete machine learning bootcamp      109  "
      ]
     },
     "execution_count": 202,
     "metadata": {},
     "output_type": "execute_result"
    }
   ],
   "source": [
    "recommend_course('machine learning')"
   ]
  },
  {
   "cell_type": "code",
   "execution_count": 203,
   "metadata": {},
   "outputs": [
    {
     "data": {
      "text/html": [
       "<div>\n",
       "<style scoped>\n",
       "    .dataframe tbody tr th:only-of-type {\n",
       "        vertical-align: middle;\n",
       "    }\n",
       "\n",
       "    .dataframe tbody tr th {\n",
       "        vertical-align: top;\n",
       "    }\n",
       "\n",
       "    .dataframe thead th {\n",
       "        text-align: right;\n",
       "    }\n",
       "</style>\n",
       "<table border=\"1\" class=\"dataframe\">\n",
       "  <thead>\n",
       "    <tr style=\"text-align: right;\">\n",
       "      <th></th>\n",
       "      <th>course_name</th>\n",
       "      <th>level</th>\n",
       "      <th>label</th>\n",
       "      <th>tokenized</th>\n",
       "      <th>clean_document</th>\n",
       "      <th>cluster</th>\n",
       "    </tr>\n",
       "    <tr>\n",
       "      <th>course_id</th>\n",
       "      <th></th>\n",
       "      <th></th>\n",
       "      <th></th>\n",
       "      <th></th>\n",
       "      <th></th>\n",
       "      <th></th>\n",
       "    </tr>\n",
       "  </thead>\n",
       "  <tbody>\n",
       "    <tr>\n",
       "      <th>1886862</th>\n",
       "      <td>Data Science for Professionals</td>\n",
       "      <td>Beginner</td>\n",
       "      <td>Data Science</td>\n",
       "      <td>[data, science, professionals]</td>\n",
       "      <td>data science professionals</td>\n",
       "      <td>92</td>\n",
       "    </tr>\n",
       "    <tr>\n",
       "      <th>1541234</th>\n",
       "      <td>Jupyter for Data Science</td>\n",
       "      <td>Beginner</td>\n",
       "      <td>Data Science</td>\n",
       "      <td>[jupyter, data, science]</td>\n",
       "      <td>jupyter data science</td>\n",
       "      <td>92</td>\n",
       "    </tr>\n",
       "    <tr>\n",
       "      <th>701764</th>\n",
       "      <td>Bite-Sized Data Science with Python and Pandas...</td>\n",
       "      <td>Intermediate</td>\n",
       "      <td>Python</td>\n",
       "      <td>[bite, sized, data, science, python, pandas, i...</td>\n",
       "      <td>bite sized data science python pandas introduc...</td>\n",
       "      <td>92</td>\n",
       "    </tr>\n",
       "    <tr>\n",
       "      <th>1729498</th>\n",
       "      <td>Data Science and Analytics in R Programming</td>\n",
       "      <td>All Levels</td>\n",
       "      <td>R</td>\n",
       "      <td>[data, science, analytics, r, programming]</td>\n",
       "      <td>data science analytics r programming</td>\n",
       "      <td>92</td>\n",
       "    </tr>\n",
       "    <tr>\n",
       "      <th>1526546</th>\n",
       "      <td>Crack Pandas and NumPy: Python Data Science Ma...</td>\n",
       "      <td>Beginner</td>\n",
       "      <td>Python</td>\n",
       "      <td>[crack, pandas, numpy, python, data, science, ...</td>\n",
       "      <td>crack pandas numpy python data science made easy</td>\n",
       "      <td>92</td>\n",
       "    </tr>\n",
       "  </tbody>\n",
       "</table>\n",
       "</div>"
      ],
      "text/plain": [
       "                                                 course_name         level  \\\n",
       "course_id                                                                    \n",
       "1886862                       Data Science for Professionals      Beginner   \n",
       "1541234                             Jupyter for Data Science      Beginner   \n",
       "701764     Bite-Sized Data Science with Python and Pandas...  Intermediate   \n",
       "1729498          Data Science and Analytics in R Programming    All Levels   \n",
       "1526546    Crack Pandas and NumPy: Python Data Science Ma...      Beginner   \n",
       "\n",
       "                  label                                          tokenized  \\\n",
       "course_id                                                                    \n",
       "1886862    Data Science                     [data, science, professionals]   \n",
       "1541234    Data Science                           [jupyter, data, science]   \n",
       "701764           Python  [bite, sized, data, science, python, pandas, i...   \n",
       "1729498               R         [data, science, analytics, r, programming]   \n",
       "1526546          Python  [crack, pandas, numpy, python, data, science, ...   \n",
       "\n",
       "                                              clean_document  cluster  \n",
       "course_id                                                              \n",
       "1886862                           data science professionals       92  \n",
       "1541234                                 jupyter data science       92  \n",
       "701764     bite sized data science python pandas introduc...       92  \n",
       "1729498                 data science analytics r programming       92  \n",
       "1526546     crack pandas numpy python data science made easy       92  "
      ]
     },
     "execution_count": 203,
     "metadata": {},
     "output_type": "execute_result"
    }
   ],
   "source": [
    "recommend_course('data science')"
   ]
  },
  {
   "cell_type": "code",
   "execution_count": 204,
   "metadata": {},
   "outputs": [
    {
     "data": {
      "text/html": [
       "<div>\n",
       "<style scoped>\n",
       "    .dataframe tbody tr th:only-of-type {\n",
       "        vertical-align: middle;\n",
       "    }\n",
       "\n",
       "    .dataframe tbody tr th {\n",
       "        vertical-align: top;\n",
       "    }\n",
       "\n",
       "    .dataframe thead th {\n",
       "        text-align: right;\n",
       "    }\n",
       "</style>\n",
       "<table border=\"1\" class=\"dataframe\">\n",
       "  <thead>\n",
       "    <tr style=\"text-align: right;\">\n",
       "      <th></th>\n",
       "      <th>course_name</th>\n",
       "      <th>level</th>\n",
       "      <th>label</th>\n",
       "      <th>tokenized</th>\n",
       "      <th>clean_document</th>\n",
       "      <th>cluster</th>\n",
       "    </tr>\n",
       "    <tr>\n",
       "      <th>course_id</th>\n",
       "      <th></th>\n",
       "      <th></th>\n",
       "      <th></th>\n",
       "      <th></th>\n",
       "      <th></th>\n",
       "      <th></th>\n",
       "    </tr>\n",
       "  </thead>\n",
       "  <tbody>\n",
       "    <tr>\n",
       "      <th>2078024</th>\n",
       "      <td>Build Messenger App and Charge Client for Each...</td>\n",
       "      <td>All Levels</td>\n",
       "      <td>Node.Js</td>\n",
       "      <td>[build, messenger, app, charge, client, each, ...</td>\n",
       "      <td>build messenger app charge client each message</td>\n",
       "      <td>0</td>\n",
       "    </tr>\n",
       "    <tr>\n",
       "      <th>1805048</th>\n",
       "      <td>Learn To Build DevOps Pipeline On Azure Cloud</td>\n",
       "      <td>Intermediate</td>\n",
       "      <td>Microsoft Azure</td>\n",
       "      <td>[learn, to, build, devops, pipeline, on, azure...</td>\n",
       "      <td>learn to build devops pipeline on azure cloud</td>\n",
       "      <td>0</td>\n",
       "    </tr>\n",
       "    <tr>\n",
       "      <th>1244888</th>\n",
       "      <td>Learn Pytest in 60 Minutes:Unit Testing Framew...</td>\n",
       "      <td>Expert</td>\n",
       "      <td>pytest</td>\n",
       "      <td>[learn, pytest, 60, minutes, unit, testing, fr...</td>\n",
       "      <td>learn pytest 60 minutes unit testing framework...</td>\n",
       "      <td>0</td>\n",
       "    </tr>\n",
       "    <tr>\n",
       "      <th>128964</th>\n",
       "      <td>Master KnockoutJS : Knockout JS - JavaScript MVVM</td>\n",
       "      <td>All Levels</td>\n",
       "      <td>KnockoutJS</td>\n",
       "      <td>[master, knockoutjs, knockout, js, javascript,...</td>\n",
       "      <td>master knockoutjs knockout js javascript mvvm</td>\n",
       "      <td>0</td>\n",
       "    </tr>\n",
       "    <tr>\n",
       "      <th>1567128</th>\n",
       "      <td>Create a SMS Verification with Login System Us...</td>\n",
       "      <td>All Levels</td>\n",
       "      <td>PHP</td>\n",
       "      <td>[create, sms, verification, login, system, usi...</td>\n",
       "      <td>create sms verification login system using php...</td>\n",
       "      <td>0</td>\n",
       "    </tr>\n",
       "  </tbody>\n",
       "</table>\n",
       "</div>"
      ],
      "text/plain": [
       "                                                 course_name         level  \\\n",
       "course_id                                                                    \n",
       "2078024    Build Messenger App and Charge Client for Each...    All Levels   \n",
       "1805048        Learn To Build DevOps Pipeline On Azure Cloud  Intermediate   \n",
       "1244888    Learn Pytest in 60 Minutes:Unit Testing Framew...        Expert   \n",
       "128964     Master KnockoutJS : Knockout JS - JavaScript MVVM    All Levels   \n",
       "1567128    Create a SMS Verification with Login System Us...    All Levels   \n",
       "\n",
       "                     label                                          tokenized  \\\n",
       "course_id                                                                       \n",
       "2078024            Node.Js  [build, messenger, app, charge, client, each, ...   \n",
       "1805048    Microsoft Azure  [learn, to, build, devops, pipeline, on, azure...   \n",
       "1244888             pytest  [learn, pytest, 60, minutes, unit, testing, fr...   \n",
       "128964          KnockoutJS  [master, knockoutjs, knockout, js, javascript,...   \n",
       "1567128                PHP  [create, sms, verification, login, system, usi...   \n",
       "\n",
       "                                              clean_document  cluster  \n",
       "course_id                                                              \n",
       "2078024       build messenger app charge client each message        0  \n",
       "1805048        learn to build devops pipeline on azure cloud        0  \n",
       "1244888    learn pytest 60 minutes unit testing framework...        0  \n",
       "128964         master knockoutjs knockout js javascript mvvm        0  \n",
       "1567128    create sms verification login system using php...        0  "
      ]
     },
     "execution_count": 204,
     "metadata": {},
     "output_type": "execute_result"
    }
   ],
   "source": [
    "recommend_course('web development')"
   ]
  },
  {
   "cell_type": "code",
   "execution_count": 211,
   "metadata": {},
   "outputs": [
    {
     "data": {
      "text/html": [
       "<div>\n",
       "<style scoped>\n",
       "    .dataframe tbody tr th:only-of-type {\n",
       "        vertical-align: middle;\n",
       "    }\n",
       "\n",
       "    .dataframe tbody tr th {\n",
       "        vertical-align: top;\n",
       "    }\n",
       "\n",
       "    .dataframe thead th {\n",
       "        text-align: right;\n",
       "    }\n",
       "</style>\n",
       "<table border=\"1\" class=\"dataframe\">\n",
       "  <thead>\n",
       "    <tr style=\"text-align: right;\">\n",
       "      <th></th>\n",
       "      <th>course_name</th>\n",
       "      <th>level</th>\n",
       "      <th>label</th>\n",
       "      <th>tokenized</th>\n",
       "      <th>clean_document</th>\n",
       "      <th>cluster</th>\n",
       "    </tr>\n",
       "    <tr>\n",
       "      <th>course_id</th>\n",
       "      <th></th>\n",
       "      <th></th>\n",
       "      <th></th>\n",
       "      <th></th>\n",
       "      <th></th>\n",
       "      <th></th>\n",
       "    </tr>\n",
       "  </thead>\n",
       "  <tbody>\n",
       "    <tr>\n",
       "      <th>2269746</th>\n",
       "      <td>Python for Computer Vision: Object (Traffic Si...</td>\n",
       "      <td>All Levels</td>\n",
       "      <td>Python</td>\n",
       "      <td>[python, computer, vision, object, traffic, si...</td>\n",
       "      <td>python computer vision object traffic sign det...</td>\n",
       "      <td>155</td>\n",
       "    </tr>\n",
       "    <tr>\n",
       "      <th>950614</th>\n",
       "      <td>Master Computer Vision™ OpenCV4 in Python with...</td>\n",
       "      <td>All Levels</td>\n",
       "      <td>OpenCV</td>\n",
       "      <td>[master, computer, vision, ™, opencv4, python,...</td>\n",
       "      <td>master computer vision ™ opencv4 python deep l...</td>\n",
       "      <td>155</td>\n",
       "    </tr>\n",
       "    <tr>\n",
       "      <th>2461692</th>\n",
       "      <td>Python 3 Advanced Computer Vision with OpenCV ...</td>\n",
       "      <td>Intermediate</td>\n",
       "      <td>Computer Vision</td>\n",
       "      <td>[python, 3, advanced, computer, vision, opencv...</td>\n",
       "      <td>python 3 advanced computer vision opencv sciki...</td>\n",
       "      <td>155</td>\n",
       "    </tr>\n",
       "    <tr>\n",
       "      <th>960228</th>\n",
       "      <td>Computer Vision with Python</td>\n",
       "      <td>Intermediate</td>\n",
       "      <td>Python</td>\n",
       "      <td>[computer, vision, python]</td>\n",
       "      <td>computer vision python</td>\n",
       "      <td>155</td>\n",
       "    </tr>\n",
       "    <tr>\n",
       "      <th>1314890</th>\n",
       "      <td>Learning Computer Vision with Tensorflow</td>\n",
       "      <td>Intermediate</td>\n",
       "      <td>Computer Vision</td>\n",
       "      <td>[learning, computer, vision, tensorflow]</td>\n",
       "      <td>learning computer vision tensorflow</td>\n",
       "      <td>155</td>\n",
       "    </tr>\n",
       "  </tbody>\n",
       "</table>\n",
       "</div>"
      ],
      "text/plain": [
       "                                                 course_name         level  \\\n",
       "course_id                                                                    \n",
       "2269746    Python for Computer Vision: Object (Traffic Si...    All Levels   \n",
       "950614     Master Computer Vision™ OpenCV4 in Python with...    All Levels   \n",
       "2461692    Python 3 Advanced Computer Vision with OpenCV ...  Intermediate   \n",
       "960228                           Computer Vision with Python  Intermediate   \n",
       "1314890             Learning Computer Vision with Tensorflow  Intermediate   \n",
       "\n",
       "                     label                                          tokenized  \\\n",
       "course_id                                                                       \n",
       "2269746             Python  [python, computer, vision, object, traffic, si...   \n",
       "950614              OpenCV  [master, computer, vision, ™, opencv4, python,...   \n",
       "2461692    Computer Vision  [python, 3, advanced, computer, vision, opencv...   \n",
       "960228              Python                         [computer, vision, python]   \n",
       "1314890    Computer Vision           [learning, computer, vision, tensorflow]   \n",
       "\n",
       "                                              clean_document  cluster  \n",
       "course_id                                                              \n",
       "2269746    python computer vision object traffic sign det...      155  \n",
       "950614     master computer vision ™ opencv4 python deep l...      155  \n",
       "2461692    python 3 advanced computer vision opencv sciki...      155  \n",
       "960228                                computer vision python      155  \n",
       "1314890                  learning computer vision tensorflow      155  "
      ]
     },
     "execution_count": 211,
     "metadata": {},
     "output_type": "execute_result"
    }
   ],
   "source": [
    "recommend_course('computer vision')"
   ]
  },
  {
   "cell_type": "code",
   "execution_count": 1,
   "metadata": {},
   "outputs": [
    {
     "ename": "NameError",
     "evalue": "name 'cls' is not defined",
     "output_type": "error",
     "traceback": [
      "\u001B[1;31m---------------------------------------------------------------------------\u001B[0m",
      "\u001B[1;31mNameError\u001B[0m                                 Traceback (most recent call last)",
      "\u001B[1;32mc:\\Users\\umit\\Desktop\\StajProje\\NLP Cluster DS 1_2.ipynb Cell 66\u001B[0m in \u001B[0;36m<cell line: 2>\u001B[1;34m()\u001B[0m\n\u001B[0;32m      <a href='vscode-notebook-cell:/c%3A/Users/umit/Desktop/StajProje/NLP%20Cluster%20DS%201_2.ipynb#Y141sZmlsZQ%3D%3D?line=0'>1</a>\u001B[0m \u001B[39mfrom\u001B[39;00m \u001B[39mjoblib\u001B[39;00m \u001B[39mimport\u001B[39;00m dump, load\n\u001B[1;32m----> <a href='vscode-notebook-cell:/c%3A/Users/umit/Desktop/StajProje/NLP%20Cluster%20DS%201_2.ipynb#Y141sZmlsZQ%3D%3D?line=1'>2</a>\u001B[0m dump(\u001B[39mcls\u001B[39;49m, \u001B[39m'\u001B[39m\u001B[39mbirch.joblib\u001B[39m\u001B[39m'\u001B[39m)\n",
      "\u001B[1;31mNameError\u001B[0m: name 'cls' is not defined"
     ]
    }
   ],
   "source": [
    "from joblib import dump, load\n",
    "dump(cls, 'kmeans.joblib')"
   ]
  },
  {
   "cell_type": "code",
   "execution_count": null,
   "metadata": {},
   "outputs": [],
   "source": []
  }
 ],
 "metadata": {
  "kernelspec": {
   "display_name": "Python 3.10.4 ('venv': venv)",
   "language": "python",
   "name": "python3"
  },
  "language_info": {
   "codemirror_mode": {
    "name": "ipython",
    "version": 3
   },
   "file_extension": ".py",
   "mimetype": "text/x-python",
   "name": "python",
   "nbconvert_exporter": "python",
   "pygments_lexer": "ipython3",
   "version": "3.10.4"
  },
  "vscode": {
   "interpreter": {
    "hash": "a773209938ed0774c23482563d7c083412ff4be88dc082b9ee5c0e06e5b6d681"
   }
  }
 },
 "nbformat": 4,
 "nbformat_minor": 0
}